{
  "nbformat": 4,
  "nbformat_minor": 0,
  "metadata": {
    "colab": {
      "name": "Project-20200414.ipynb",
      "provenance": [],
      "collapsed_sections": []
    },
    "kernelspec": {
      "name": "python3",
      "display_name": "Python 3"
    }
  },
  "cells": [
    {
      "cell_type": "markdown",
      "metadata": {
        "id": "CCIvffRHzv_E",
        "colab_type": "text"
      },
      "source": [
        "# Project"
      ]
    },
    {
      "cell_type": "markdown",
      "metadata": {
        "id": "rSMx0n7Tzry2",
        "colab_type": "text"
      },
      "source": [
        "### 1 Load Packages"
      ]
    },
    {
      "cell_type": "code",
      "metadata": {
        "id": "Q2jfJzJtAAPN",
        "colab_type": "code",
        "outputId": "016e0ea0-c71b-4b98-e1aa-59be8088f83a",
        "colab": {
          "base_uri": "https://localhost:8080/",
          "height": 34
        }
      },
      "source": [
        "# ========================TensorFlow========================\n",
        "try:\n",
        "  # %tensorflow_version only exists in Colab.\n",
        "  %tensorflow_version 2.x\n",
        "except Exception:\n",
        "  pass\n",
        "\n",
        "import tensorflow as tf\n",
        "from tensorflow import keras\n",
        "print(tf.__version__)"
      ],
      "execution_count": 1,
      "outputs": [
        {
          "output_type": "stream",
          "text": [
            "2.2.0-rc2\n"
          ],
          "name": "stdout"
        }
      ]
    },
    {
      "cell_type": "code",
      "metadata": {
        "id": "V2Tg8mbar1BH",
        "colab_type": "code",
        "outputId": "b54632d5-5cf3-4df3-d05d-ed642904d854",
        "colab": {
          "base_uri": "https://localhost:8080/",
          "height": 34
        }
      },
      "source": [
        "# ========================General========================\n",
        "import os\n",
        "import io\n",
        "import sys\n",
        "import time\n",
        "import json\n",
        "import joblib\n",
        "import pandas as pd\n",
        "import numpy as np\n",
        "import requests\n",
        "import statistics\n",
        "# ignore warnings\n",
        "import warnings\n",
        "warnings.filterwarnings('ignore')\n",
        "# ========================Ploting========================\n",
        "import matplotlib as mpl\n",
        "from matplotlib import pyplot as plt\n",
        "import seaborn as sns\n",
        "%matplotlib inline\n",
        "# ========================Data Preprocessing========================\n",
        "from sklearn import preprocessing\n",
        "# Encoding\n",
        "from sklearn.preprocessing import LabelEncoder\n",
        "# Feature Scaling\n",
        "from sklearn.preprocessing import MinMaxScaler\n",
        "# Data Split\n",
        "from sklearn.model_selection import train_test_split\n",
        "# ========================Modeling========================\n",
        "# KNN\n",
        "from sklearn.neighbors import KNeighborsClassifier\n",
        "# Decision Tree & Random Forest\n",
        "from sklearn.tree import DecisionTreeClassifier\n",
        "from sklearn.ensemble import RandomForestClassifier\n",
        "from sklearn.ensemble import GradientBoostingClassifier\n",
        "# KMeans\n",
        "from sklearn.cluster import KMeans\n",
        "# ========================Evaluation========================\n",
        "from sklearn.model_selection import  cross_val_score\n",
        "from sklearn.model_selection import GridSearchCV\n",
        "from sklearn.metrics import mean_absolute_error, r2_score\n",
        "from sklearn.metrics import confusion_matrix, accuracy_score, matthews_corrcoef, f1_score\n",
        "# ========================Deep Learning========================\n",
        "# MLP\n",
        "from keras.models import Sequential\n",
        "from keras.layers import Dense, Activation, Dropout, AlphaDropout\n",
        "# ================================================"
      ],
      "execution_count": 2,
      "outputs": [
        {
          "output_type": "stream",
          "text": [
            "Using TensorFlow backend.\n"
          ],
          "name": "stderr"
        }
      ]
    },
    {
      "cell_type": "code",
      "metadata": {
        "id": "W7XkRMngiJDg",
        "colab_type": "code",
        "outputId": "0c030bca-3530-4181-b36c-c5b1c6f9546a",
        "colab": {
          "base_uri": "https://localhost:8080/",
          "height": 34
        }
      },
      "source": [
        "from google.colab import drive\n",
        "drive.mount('/content/drive')"
      ],
      "execution_count": 3,
      "outputs": [
        {
          "output_type": "stream",
          "text": [
            "Drive already mounted at /content/drive; to attempt to forcibly remount, call drive.mount(\"/content/drive\", force_remount=True).\n"
          ],
          "name": "stdout"
        }
      ]
    },
    {
      "cell_type": "markdown",
      "metadata": {
        "id": "9NawEZ8ni5wm",
        "colab_type": "text"
      },
      "source": [
        "### 2 Load dataset"
      ]
    },
    {
      "cell_type": "code",
      "metadata": {
        "id": "HI0TA9aIsEzo",
        "colab_type": "code",
        "colab": {}
      },
      "source": [
        "# load movie\n",
        "def load_tmdb_movies(path):\n",
        "    df = pd.read_csv(path)\n",
        "    df = df[df.release_date.notnull()]\n",
        "    df = df[df.release_date.str.contains(\"^\\d{4}\\-\\d{2}.\")]\n",
        "    df = df[df.release_date>=\"1970-01-01\"]\n",
        "    df['release_year'] = pd.to_datetime(df['release_date']).apply(lambda x: int(x.year) if x==x else None)\n",
        "    df['release_month'] = pd.to_datetime(df['release_date']).apply(lambda x: int(x.month) if x==x else None)\n",
        "    json_columns = ['genres', 'keywords', 'production_countries', 'production_companies', 'spoken_languages']\n",
        "    for column in json_columns:\n",
        "        df[column] = df[column].apply(json.loads)\n",
        "    return df"
      ],
      "execution_count": 0,
      "outputs": []
    },
    {
      "cell_type": "code",
      "metadata": {
        "id": "okHCJC0lMbHp",
        "colab_type": "code",
        "colab": {}
      },
      "source": [
        "# load movie credits\n",
        "def load_tmdb_credits(path):\n",
        "    df = pd.read_csv(path)\n",
        "    json_columns = ['cast', 'crew']\n",
        "    for column in json_columns:\n",
        "        df[column] = df[column].apply(json.loads)\n",
        "    return df"
      ],
      "execution_count": 0,
      "outputs": []
    },
    {
      "cell_type": "code",
      "metadata": {
        "id": "r88fa-ACsGqo",
        "colab_type": "code",
        "colab": {}
      },
      "source": [
        "# Columns that existed in IMDB version of the dataset and are gone.\n",
        "LOST_COLUMNS = [\n",
        "    'actor_1_facebook_likes',\n",
        "    'actor_2_facebook_likes',\n",
        "    'actor_3_facebook_likes',\n",
        "    'aspect_ratio',\n",
        "    'cast_total_facebook_likes',\n",
        "    'color',\n",
        "    'content_rating',\n",
        "    'director_facebook_likes',\n",
        "    'facenumber_in_poster',\n",
        "    'movie_facebook_likes',\n",
        "    'movie_imdb_link',\n",
        "    'num_critic_for_reviews',\n",
        "    'num_user_for_reviews']\n",
        "\n",
        "# Columns in TMDb that had direct equivalents in the IMDB version. \n",
        "# These columns can be used with old kernels just by changing the names\n",
        "TMDB_TO_IMDB_SIMPLE_EQUIVALENCIES = {\n",
        "    'budget': 'budget',\n",
        "    'genres': 'genres',\n",
        "    'revenue': 'gross',\n",
        "    'title': 'movie_title',\n",
        "    'runtime': 'duration',\n",
        "    'original_language': 'language',  # it's possible that spoken_languages would be a better match\n",
        "    'keywords': 'plot_keywords',\n",
        "    'vote_count': 'num_voted_users'}\n",
        "\n",
        "IMDB_COLUMNS_TO_REMAP = {'imdb_score': 'vote_average'}\n",
        "\n",
        "\n",
        "def safe_access(container, index_values):\n",
        "    # return a missing value rather than an error upon indexing/key failure\n",
        "    result = container\n",
        "    try:\n",
        "        for idx in index_values:\n",
        "            result = result[idx]\n",
        "        return result\n",
        "    except IndexError or KeyError:\n",
        "        return pd.np.nan\n",
        "\n",
        "\n",
        "def get_director(crew_data):\n",
        "    directors = [x['name'] for x in crew_data if x['job'] == 'Director']\n",
        "    return safe_access(directors, [0])\n",
        "\n",
        "\n",
        "def pipe_flatten_names(keywords):\n",
        "    return '|'.join([x['name'] for x in keywords])\n",
        "\n",
        "\n",
        "def convert_to_original_format(movies, credits):\n",
        "    # Converts TMDb data to make it as compatible as possible with kernels built on the original version of the data.\n",
        "    tmdb_movies = movies.copy()\n",
        "    tmdb_movies.rename(columns=TMDB_TO_IMDB_SIMPLE_EQUIVALENCIES, inplace=True)\n",
        "    # I'm assuming that the first production country is equivalent, but have not been able to validate this\n",
        "    tmdb_movies['country'] = tmdb_movies['production_countries'].apply(lambda x: safe_access(x, [0, 'name']))\n",
        "    tmdb_movies['language'] = tmdb_movies['spoken_languages'].apply(lambda x: safe_access(x, [0, 'name']))\n",
        "    tmdb_movies['director_name'] = credits['crew'].apply(get_director)\n",
        "    tmdb_movies['actor_1_name'] = credits['cast'].apply(lambda x: safe_access(x, [0, 'name']))\n",
        "    tmdb_movies['actor_2_name'] = credits['cast'].apply(lambda x: safe_access(x, [1, 'name']))\n",
        "    tmdb_movies['actor_3_name'] = credits['cast'].apply(lambda x: safe_access(x, [2, 'name']))\n",
        "    tmdb_movies['companies_1'] = tmdb_movies['production_companies'].apply(lambda x: safe_access(x, [0, 'name']))\n",
        "    tmdb_movies['companies_2'] = tmdb_movies['production_companies'].apply(lambda x: safe_access(x, [1, 'name']))\n",
        "    tmdb_movies['companies_3'] = tmdb_movies['production_companies'].apply(lambda x: safe_access(x, [2, 'name']))\n",
        "    tmdb_movies['genres'] = tmdb_movies['genres'].apply(pipe_flatten_names)\n",
        "    tmdb_movies['plot_keywords'] = tmdb_movies['plot_keywords'].apply(pipe_flatten_names)\n",
        "    return tmdb_movies"
      ],
      "execution_count": 0,
      "outputs": []
    },
    {
      "cell_type": "code",
      "metadata": {
        "id": "kLWt5CLTitTJ",
        "colab_type": "code",
        "colab": {}
      },
      "source": [
        "movies_path = '/content/drive/My Drive/Colab Notebooks/NEU-7390 Advances Data Sci Architecture/movie_data.csv'\n",
        "credits_path = '/content/drive/My Drive/Colab Notebooks/NEU-7390 Advances Data Sci Architecture/movie_credits.csv'"
      ],
      "execution_count": 0,
      "outputs": []
    },
    {
      "cell_type": "code",
      "metadata": {
        "id": "Wee6OKqQoGZ7",
        "colab_type": "code",
        "colab": {}
      },
      "source": [
        "movies = load_tmdb_movies(movies_path)\n",
        "credits = load_tmdb_credits(credits_path)\n",
        "raw_data =convert_to_original_format(movies, credits)"
      ],
      "execution_count": 0,
      "outputs": []
    },
    {
      "cell_type": "markdown",
      "metadata": {
        "id": "HmxT6iObAA-2",
        "colab_type": "text"
      },
      "source": [
        "### 3 Data Preprocessing\n",
        "*   Handling Missing Values\n",
        "*   Drop Duplication Values\n",
        "*   Drop Outliers"
      ]
    },
    {
      "cell_type": "markdown",
      "metadata": {
        "id": "09mKqm1h0267",
        "colab_type": "text"
      },
      "source": [
        "#### 3.1 Handling Missing Values"
      ]
    },
    {
      "cell_type": "code",
      "metadata": {
        "id": "I3OUFK6GPdyq",
        "colab_type": "code",
        "outputId": "fc193f6f-d2b1-44c0-e1c4-e7b3205e7c87",
        "colab": {
          "base_uri": "https://localhost:8080/",
          "height": 202
        }
      },
      "source": [
        "raw_data.head(1)"
      ],
      "execution_count": 9,
      "outputs": [
        {
          "output_type": "execute_result",
          "data": {
            "text/html": [
              "<div>\n",
              "<style scoped>\n",
              "    .dataframe tbody tr th:only-of-type {\n",
              "        vertical-align: middle;\n",
              "    }\n",
              "\n",
              "    .dataframe tbody tr th {\n",
              "        vertical-align: top;\n",
              "    }\n",
              "\n",
              "    .dataframe thead th {\n",
              "        text-align: right;\n",
              "    }\n",
              "</style>\n",
              "<table border=\"1\" class=\"dataframe\">\n",
              "  <thead>\n",
              "    <tr style=\"text-align: right;\">\n",
              "      <th></th>\n",
              "      <th>budget</th>\n",
              "      <th>genres</th>\n",
              "      <th>homepage</th>\n",
              "      <th>id</th>\n",
              "      <th>plot_keywords</th>\n",
              "      <th>language</th>\n",
              "      <th>original_title</th>\n",
              "      <th>overview</th>\n",
              "      <th>popularity</th>\n",
              "      <th>production_companies</th>\n",
              "      <th>production_countries</th>\n",
              "      <th>release_date</th>\n",
              "      <th>gross</th>\n",
              "      <th>duration</th>\n",
              "      <th>spoken_languages</th>\n",
              "      <th>status</th>\n",
              "      <th>tagline</th>\n",
              "      <th>movie_title</th>\n",
              "      <th>vote_average</th>\n",
              "      <th>num_voted_users</th>\n",
              "      <th>release_year</th>\n",
              "      <th>release_month</th>\n",
              "      <th>country</th>\n",
              "      <th>director_name</th>\n",
              "      <th>actor_1_name</th>\n",
              "      <th>actor_2_name</th>\n",
              "      <th>actor_3_name</th>\n",
              "      <th>companies_1</th>\n",
              "      <th>companies_2</th>\n",
              "      <th>companies_3</th>\n",
              "    </tr>\n",
              "  </thead>\n",
              "  <tbody>\n",
              "    <tr>\n",
              "      <th>3</th>\n",
              "      <td>0</td>\n",
              "      <td>Comedy</td>\n",
              "      <td>NaN</td>\n",
              "      <td>21624</td>\n",
              "      <td></td>\n",
              "      <td>NaN</td>\n",
              "      <td>Jatts in Golmaal</td>\n",
              "      <td>Jatts in Golmal is an Comedy based movie. In w...</td>\n",
              "      <td>0.6</td>\n",
              "      <td>[]</td>\n",
              "      <td>[]</td>\n",
              "      <td>2003-02-21</td>\n",
              "      <td>0.0</td>\n",
              "      <td>NaN</td>\n",
              "      <td>[]</td>\n",
              "      <td>Released</td>\n",
              "      <td>NaN</td>\n",
              "      <td>Jatts in Golmaal</td>\n",
              "      <td>0.0</td>\n",
              "      <td>0.0</td>\n",
              "      <td>2003</td>\n",
              "      <td>2</td>\n",
              "      <td>NaN</td>\n",
              "      <td>NaN</td>\n",
              "      <td>NaN</td>\n",
              "      <td>NaN</td>\n",
              "      <td>NaN</td>\n",
              "      <td>NaN</td>\n",
              "      <td>NaN</td>\n",
              "      <td>NaN</td>\n",
              "    </tr>\n",
              "  </tbody>\n",
              "</table>\n",
              "</div>"
            ],
            "text/plain": [
              "  budget  genres homepage  ... companies_1 companies_2 companies_3\n",
              "3      0  Comedy      NaN  ...         NaN         NaN         NaN\n",
              "\n",
              "[1 rows x 30 columns]"
            ]
          },
          "metadata": {
            "tags": []
          },
          "execution_count": 9
        }
      ]
    },
    {
      "cell_type": "code",
      "metadata": {
        "id": "qNxNxwyJCWCv",
        "colab_type": "code",
        "colab": {}
      },
      "source": [
        "def missing_value_table(df):\n",
        "    total_missing = df.isnull().sum().sort_values(ascending=False)\n",
        "    percent = round(((df.isnull().sum()/len(df))*100),2).sort_values(ascending=False)\n",
        "    missing_data = pd.concat([total_missing, percent], axis=1, keys=['total Missing', 'Percent(%)'])\n",
        "    print(\"=====Missing Value Check Table=====\")\n",
        "    print(missing_data)"
      ],
      "execution_count": 0,
      "outputs": []
    },
    {
      "cell_type": "code",
      "metadata": {
        "id": "uL6K4OmGCdbX",
        "colab_type": "code",
        "outputId": "e8e377d0-14ab-486b-ffb8-9150ea07cc08",
        "colab": {
          "base_uri": "https://localhost:8080/",
          "height": 561
        }
      },
      "source": [
        "missing_value_table(raw_data)"
      ],
      "execution_count": 11,
      "outputs": [
        {
          "output_type": "stream",
          "text": [
            "=====Missing Value Check Table=====\n",
            "                      total Missing  Percent(%)\n",
            "homepage                      36258       84.18\n",
            "companies_3                   35398       82.18\n",
            "actor_3_name                  29391       68.24\n",
            "actor_2_name                  29179       67.74\n",
            "director_name                 29042       67.43\n",
            "companies_2                   28811       66.89\n",
            "actor_1_name                  28747       66.74\n",
            "tagline                       27682       64.27\n",
            "companies_1                   16102       37.38\n",
            "country                        8171       18.97\n",
            "language                       5137       11.93\n",
            "overview                       1906        4.43\n",
            "duration                        346        0.80\n",
            "original_title                    0        0.00\n",
            "id                                0        0.00\n",
            "plot_keywords                     0        0.00\n",
            "production_companies              0        0.00\n",
            "genres                            0        0.00\n",
            "popularity                        0        0.00\n",
            "spoken_languages                  0        0.00\n",
            "production_countries              0        0.00\n",
            "release_date                      0        0.00\n",
            "gross                             0        0.00\n",
            "status                            0        0.00\n",
            "movie_title                       0        0.00\n",
            "vote_average                      0        0.00\n",
            "num_voted_users                   0        0.00\n",
            "release_year                      0        0.00\n",
            "release_month                     0        0.00\n",
            "budget                            0        0.00\n"
          ],
          "name": "stdout"
        }
      ]
    },
    {
      "cell_type": "code",
      "metadata": {
        "id": "yWGYpxH6k6DX",
        "colab_type": "code",
        "colab": {}
      },
      "source": [
        "# drop homepage & tagline\n",
        "raw_data.drop(['homepage','tagline'], axis=1, inplace=True)"
      ],
      "execution_count": 0,
      "outputs": []
    },
    {
      "cell_type": "markdown",
      "metadata": {
        "id": "4qMrd1gO1FT-",
        "colab_type": "text"
      },
      "source": [
        "#### 3.2 Drop Duplication Values and Unseen Features"
      ]
    },
    {
      "cell_type": "code",
      "metadata": {
        "id": "6Rof3hdTmKhc",
        "colab_type": "code",
        "colab": {}
      },
      "source": [
        "# Drop Duplication Values\n",
        "drop_duplicates_subset = ('budget', 'genres', 'id', 'plot_keywords', 'language', 'original_title','overview', 'popularity','release_date', 'gross', 'duration','status','movie_title','vote_average','num_voted_users')\n",
        "raw_data.drop_duplicates(subset=drop_duplicates_subset, keep='first', inplace=True)"
      ],
      "execution_count": 0,
      "outputs": []
    },
    {
      "cell_type": "code",
      "metadata": {
        "id": "pgDmAxdNmKmm",
        "colab_type": "code",
        "colab": {}
      },
      "source": [
        "# Drop features that only know after movie release\n",
        "raw_data.drop(['num_voted_users', 'gross', 'popularity'], axis=1, inplace=True)"
      ],
      "execution_count": 0,
      "outputs": []
    },
    {
      "cell_type": "code",
      "metadata": {
        "id": "DJ5JAJpouebc",
        "colab_type": "code",
        "outputId": "5540c50c-8116-4db9-8235-bd275c605a3a",
        "colab": {
          "base_uri": "https://localhost:8080/",
          "height": 596
        }
      },
      "source": [
        "# Correlation matrix between numerical values\n",
        "plt.figure(figsize = (20,10))\n",
        "g = sns.heatmap(raw_data[list(raw_data)].corr(),annot=True, fmt = \".2f\", cmap = \"coolwarm\",linewidths= 0.01)"
      ],
      "execution_count": 15,
      "outputs": [
        {
          "output_type": "display_data",
          "data": {
            "image/png": "[encoded data removed]",
            "text/plain": [
              "<Figure size 1440x720 with 2 Axes>"
            ]
          },
          "metadata": {
            "tags": [],
            "needs_background": "light"
          }
        }
      ]
    },
    {
      "cell_type": "markdown",
      "metadata": {
        "id": "oOwKUo4d0yGm",
        "colab_type": "text"
      },
      "source": [
        "#### 3.3 Drop Outliers"
      ]
    },
    {
      "cell_type": "code",
      "metadata": {
        "id": "_kytxxY9uegx",
        "colab_type": "code",
        "outputId": "aa9c1511-952f-4aa6-c456-2aa1f6636de8",
        "colab": {
          "base_uri": "https://localhost:8080/",
          "height": 454
        }
      },
      "source": [
        "# release_year and vote_average\n",
        "plt.figure(figsize=(15,10))\n",
        "sns.set(style=\"whitegrid\")\n",
        "sns.jointplot(x=\"release_year\", y=\"vote_average\", data=raw_data)\n",
        "plt.show()"
      ],
      "execution_count": 16,
      "outputs": [
        {
          "output_type": "display_data",
          "data": {
            "text/plain": [
              "<Figure size 1080x720 with 0 Axes>"
            ]
          },
          "metadata": {
            "tags": []
          }
        },
        {
          "output_type": "display_data",
          "data": {
            "image/png": "[encoded data removed]",
            "text/plain": [
              "<Figure size 432x432 with 3 Axes>"
            ]
          },
          "metadata": {
            "tags": []
          }
        }
      ]
    },
    {
      "cell_type": "code",
      "metadata": {
        "id": "CKJ36hZkueln",
        "colab_type": "code",
        "outputId": "cf52bd37-a155-40ff-b8fc-0545f71ffceb",
        "colab": {
          "base_uri": "https://localhost:8080/",
          "height": 51
        }
      },
      "source": [
        "# Drop rows in dataset containing 0 and below vote average\n",
        "before_rows = len(raw_data)\n",
        "raw_data = raw_data[raw_data['vote_average'] > 0]\n",
        "print('Delete {} rows;\\nCurrent Total rows: {}'.format(before_rows-len(raw_data), len(raw_data)))"
      ],
      "execution_count": 17,
      "outputs": [
        {
          "output_type": "stream",
          "text": [
            "Delete 4915 rows;\n",
            "Current Total rows: 38157\n"
          ],
          "name": "stdout"
        }
      ]
    },
    {
      "cell_type": "code",
      "metadata": {
        "id": "ad7mLd7bueql",
        "colab_type": "code",
        "outputId": "bc8ba468-c03a-4497-e2f3-96bf62a2c25e",
        "colab": {
          "base_uri": "https://localhost:8080/",
          "height": 611
        }
      },
      "source": [
        "plt.figure(figsize = (15,10))\n",
        "sns.set(style=\"whitegrid\")\n",
        "sns.regplot(x=\"release_year\", y=\"vote_average\", data=raw_data)\n",
        "plt.show()"
      ],
      "execution_count": 18,
      "outputs": [
        {
          "output_type": "display_data",
          "data": {
            "image/png": "[encoded data removed]",
            "text/plain": [
              "<Figure size 1080x720 with 1 Axes>"
            ]
          },
          "metadata": {
            "tags": []
          }
        }
      ]
    },
    {
      "cell_type": "code",
      "metadata": {
        "id": "e1Gvb_m4uevH",
        "colab_type": "code",
        "outputId": "48dcf753-53b8-4513-9a62-6249e03fbfc8",
        "colab": {
          "base_uri": "https://localhost:8080/",
          "height": 454
        }
      },
      "source": [
        "# Duration and vote_average\n",
        "plt.figure(figsize = (15,10))\n",
        "sns.set(style=\"whitegrid\")\n",
        "sns.jointplot(x=\"duration\", y=\"vote_average\", data=raw_data)\n",
        "plt.show()"
      ],
      "execution_count": 19,
      "outputs": [
        {
          "output_type": "display_data",
          "data": {
            "text/plain": [
              "<Figure size 1080x720 with 0 Axes>"
            ]
          },
          "metadata": {
            "tags": []
          }
        },
        {
          "output_type": "display_data",
          "data": {
            "image/png": "[encoded data removed]",
            "text/plain": [
              "<Figure size 432x432 with 3 Axes>"
            ]
          },
          "metadata": {
            "tags": []
          }
        }
      ]
    },
    {
      "cell_type": "code",
      "metadata": {
        "id": "1r1lgwFk75EY",
        "colab_type": "code",
        "outputId": "57b6d764-59f8-4c15-9ef9-48f69382fd6e",
        "colab": {
          "base_uri": "https://localhost:8080/",
          "height": 51
        }
      },
      "source": [
        "# Most of directors decide to make 90-120 mins movie, 0-10 duration is unlikely possible\n",
        "# Drop rows in dataset of which duration > 10 and duration < 600\n",
        "before_rows = len(raw_data)\n",
        "raw_data = raw_data[10<raw_data['duration']]\n",
        "raw_data = raw_data[raw_data['duration']<600]\n",
        "print('Delete {} rows;\\nCurrent Total rows: {}'.format(before_rows-len(raw_data), len(raw_data)))"
      ],
      "execution_count": 20,
      "outputs": [
        {
          "output_type": "stream",
          "text": [
            "Delete 2537 rows;\n",
            "Current Total rows: 35620\n"
          ],
          "name": "stdout"
        }
      ]
    },
    {
      "cell_type": "code",
      "metadata": {
        "id": "-6ZUR32I1wEY",
        "colab_type": "code",
        "outputId": "006db2bb-a8dc-49bd-88da-d9418e426814",
        "colab": {
          "base_uri": "https://localhost:8080/",
          "height": 611
        }
      },
      "source": [
        "plt.figure(figsize=(15,10))\n",
        "sns.set(style=\"whitegrid\")\n",
        "sns.regplot(x=\"duration\", y=\"vote_average\", data=raw_data)\n",
        "plt.show()"
      ],
      "execution_count": 21,
      "outputs": [
        {
          "output_type": "display_data",
          "data": {
            "image/png": "[encoded data removed]",
            "text/plain": [
              "<Figure size 1080x720 with 1 Axes>"
            ]
          },
          "metadata": {
            "tags": []
          }
        }
      ]
    },
    {
      "cell_type": "code",
      "metadata": {
        "id": "ocpFbVWODF3r",
        "colab_type": "code",
        "outputId": "d5470b0d-ebea-49a0-f5bf-42f003a9c6b5",
        "colab": {
          "base_uri": "https://localhost:8080/",
          "height": 476
        }
      },
      "source": [
        "missing_value_table(raw_data)"
      ],
      "execution_count": 22,
      "outputs": [
        {
          "output_type": "stream",
          "text": [
            "=====Missing Value Check Table=====\n",
            "                      total Missing  Percent(%)\n",
            "companies_3                   28097       78.88\n",
            "actor_3_name                  22747       63.86\n",
            "actor_2_name                  22600       63.45\n",
            "director_name                 22383       62.84\n",
            "actor_1_name                  22266       62.51\n",
            "companies_2                   21842       61.32\n",
            "companies_1                   10537       29.58\n",
            "country                        4657       13.07\n",
            "language                       2363        6.63\n",
            "overview                        525        1.47\n",
            "production_countries              0        0.00\n",
            "genres                            0        0.00\n",
            "id                                0        0.00\n",
            "plot_keywords                     0        0.00\n",
            "original_title                    0        0.00\n",
            "production_companies              0        0.00\n",
            "status                            0        0.00\n",
            "release_date                      0        0.00\n",
            "duration                          0        0.00\n",
            "spoken_languages                  0        0.00\n",
            "movie_title                       0        0.00\n",
            "vote_average                      0        0.00\n",
            "release_year                      0        0.00\n",
            "release_month                     0        0.00\n",
            "budget                            0        0.00\n"
          ],
          "name": "stdout"
        }
      ]
    },
    {
      "cell_type": "markdown",
      "metadata": {
        "id": "klKeD8Od8SL4",
        "colab_type": "text"
      },
      "source": [
        "### 4 Data Wrangling: Define a movie is successful or unsuccessful and edit features\n",
        "*   Define Label\n",
        "*   Budget\n",
        "*   Release Year\n",
        "*   Duration\n",
        "*   Genres\n",
        "*   Director\n",
        "*   Actor\n",
        "*   Company"
      ]
    },
    {
      "cell_type": "markdown",
      "metadata": {
        "id": "s3U2hbA0HFi3",
        "colab_type": "text"
      },
      "source": [
        "#### 4.1 Define Label"
      ]
    },
    {
      "cell_type": "code",
      "metadata": {
        "id": "-gtoSahN9syZ",
        "colab_type": "code",
        "outputId": "0ad1f1a6-9d2b-4c73-e080-d07d5893c51c",
        "colab": {
          "base_uri": "https://localhost:8080/",
          "height": 136
        }
      },
      "source": [
        "# Total columns fot dataset\n",
        "raw_data.columns"
      ],
      "execution_count": 23,
      "outputs": [
        {
          "output_type": "execute_result",
          "data": {
            "text/plain": [
              "Index(['budget', 'genres', 'id', 'plot_keywords', 'language', 'original_title',\n",
              "       'overview', 'production_companies', 'production_countries',\n",
              "       'release_date', 'duration', 'spoken_languages', 'status', 'movie_title',\n",
              "       'vote_average', 'release_year', 'release_month', 'country',\n",
              "       'director_name', 'actor_1_name', 'actor_2_name', 'actor_3_name',\n",
              "       'companies_1', 'companies_2', 'companies_3'],\n",
              "      dtype='object')"
            ]
          },
          "metadata": {
            "tags": []
          },
          "execution_count": 23
        }
      ]
    },
    {
      "cell_type": "code",
      "metadata": {
        "id": "3JXIP3Kq7oD9",
        "colab_type": "code",
        "outputId": "2352ef3e-b6e9-47d7-bc9f-b203082234f6",
        "colab": {
          "base_uri": "https://localhost:8080/",
          "height": 390
        }
      },
      "source": [
        "raw_data.describe(percentiles=[.10,.25,.5,.75,.9,.99], include=['float','int'])"
      ],
      "execution_count": 24,
      "outputs": [
        {
          "output_type": "execute_result",
          "data": {
            "text/html": [
              "<div>\n",
              "<style scoped>\n",
              "    .dataframe tbody tr th:only-of-type {\n",
              "        vertical-align: middle;\n",
              "    }\n",
              "\n",
              "    .dataframe tbody tr th {\n",
              "        vertical-align: top;\n",
              "    }\n",
              "\n",
              "    .dataframe thead th {\n",
              "        text-align: right;\n",
              "    }\n",
              "</style>\n",
              "<table border=\"1\" class=\"dataframe\">\n",
              "  <thead>\n",
              "    <tr style=\"text-align: right;\">\n",
              "      <th></th>\n",
              "      <th>duration</th>\n",
              "      <th>vote_average</th>\n",
              "      <th>release_year</th>\n",
              "      <th>release_month</th>\n",
              "    </tr>\n",
              "  </thead>\n",
              "  <tbody>\n",
              "    <tr>\n",
              "      <th>count</th>\n",
              "      <td>35620.000000</td>\n",
              "      <td>35620.000000</td>\n",
              "      <td>35620.000000</td>\n",
              "      <td>35620.000000</td>\n",
              "    </tr>\n",
              "    <tr>\n",
              "      <th>mean</th>\n",
              "      <td>98.605334</td>\n",
              "      <td>5.914486</td>\n",
              "      <td>1998.545705</td>\n",
              "      <td>6.293964</td>\n",
              "    </tr>\n",
              "    <tr>\n",
              "      <th>std</th>\n",
              "      <td>29.789989</td>\n",
              "      <td>1.370758</td>\n",
              "      <td>11.226824</td>\n",
              "      <td>3.702256</td>\n",
              "    </tr>\n",
              "    <tr>\n",
              "      <th>min</th>\n",
              "      <td>11.000000</td>\n",
              "      <td>0.500000</td>\n",
              "      <td>1970.000000</td>\n",
              "      <td>1.000000</td>\n",
              "    </tr>\n",
              "    <tr>\n",
              "      <th>10%</th>\n",
              "      <td>75.000000</td>\n",
              "      <td>4.100000</td>\n",
              "      <td>1980.000000</td>\n",
              "      <td>1.000000</td>\n",
              "    </tr>\n",
              "    <tr>\n",
              "      <th>25%</th>\n",
              "      <td>87.000000</td>\n",
              "      <td>5.200000</td>\n",
              "      <td>1992.000000</td>\n",
              "      <td>3.000000</td>\n",
              "    </tr>\n",
              "    <tr>\n",
              "      <th>50%</th>\n",
              "      <td>95.000000</td>\n",
              "      <td>6.000000</td>\n",
              "      <td>2003.000000</td>\n",
              "      <td>6.000000</td>\n",
              "    </tr>\n",
              "    <tr>\n",
              "      <th>75%</th>\n",
              "      <td>107.000000</td>\n",
              "      <td>6.800000</td>\n",
              "      <td>2007.000000</td>\n",
              "      <td>10.000000</td>\n",
              "    </tr>\n",
              "    <tr>\n",
              "      <th>90%</th>\n",
              "      <td>125.000000</td>\n",
              "      <td>7.400000</td>\n",
              "      <td>2010.000000</td>\n",
              "      <td>11.000000</td>\n",
              "    </tr>\n",
              "    <tr>\n",
              "      <th>99%</th>\n",
              "      <td>189.000000</td>\n",
              "      <td>9.300000</td>\n",
              "      <td>2011.000000</td>\n",
              "      <td>12.000000</td>\n",
              "    </tr>\n",
              "    <tr>\n",
              "      <th>max</th>\n",
              "      <td>593.000000</td>\n",
              "      <td>10.000000</td>\n",
              "      <td>2020.000000</td>\n",
              "      <td>12.000000</td>\n",
              "    </tr>\n",
              "  </tbody>\n",
              "</table>\n",
              "</div>"
            ],
            "text/plain": [
              "           duration  vote_average  release_year  release_month\n",
              "count  35620.000000  35620.000000  35620.000000   35620.000000\n",
              "mean      98.605334      5.914486   1998.545705       6.293964\n",
              "std       29.789989      1.370758     11.226824       3.702256\n",
              "min       11.000000      0.500000   1970.000000       1.000000\n",
              "10%       75.000000      4.100000   1980.000000       1.000000\n",
              "25%       87.000000      5.200000   1992.000000       3.000000\n",
              "50%       95.000000      6.000000   2003.000000       6.000000\n",
              "75%      107.000000      6.800000   2007.000000      10.000000\n",
              "90%      125.000000      7.400000   2010.000000      11.000000\n",
              "99%      189.000000      9.300000   2011.000000      12.000000\n",
              "max      593.000000     10.000000   2020.000000      12.000000"
            ]
          },
          "metadata": {
            "tags": []
          },
          "execution_count": 24
        }
      ]
    },
    {
      "cell_type": "code",
      "metadata": {
        "id": "NR6bKRIK9s1u",
        "colab_type": "code",
        "outputId": "93b1393f-2b9d-45e2-d84a-fbb82b6bc618",
        "colab": {
          "base_uri": "https://localhost:8080/",
          "height": 68
        }
      },
      "source": [
        "# For this kernel, successful movies is a movie which got vote_score more than vote_score mean\n",
        "raw_data['success'] = raw_data['vote_average'].map(lambda s :1  if s >= raw_data['vote_average'].mean() else 0)\n",
        "raw_data.success.value_counts()"
      ],
      "execution_count": 25,
      "outputs": [
        {
          "output_type": "execute_result",
          "data": {
            "text/plain": [
              "1    19547\n",
              "0    16073\n",
              "Name: success, dtype: int64"
            ]
          },
          "metadata": {
            "tags": []
          },
          "execution_count": 25
        }
      ]
    },
    {
      "cell_type": "code",
      "metadata": {
        "id": "3YaFV3Ba9s7K",
        "colab_type": "code",
        "outputId": "cac505fe-b8ff-457d-a104-537c52b80067",
        "colab": {
          "base_uri": "https://localhost:8080/",
          "height": 303
        }
      },
      "source": [
        "# Data to plot\n",
        "plt.figure(figsize=(5,5))\n",
        "labels = [\"Unsuccess\",\"Success\"]\n",
        "sizes = raw_data['success'].value_counts(sort=False)\n",
        "explode = (0.1,0)  # explode 1st slice\n",
        "# Plot\n",
        "plt.pie(sizes, explode=explode, labels=labels, autopct='%1.1f%%', shadow=True, startangle=140)\n",
        "plt.axis('equal')\n",
        "plt.show()"
      ],
      "execution_count": 26,
      "outputs": [
        {
          "output_type": "display_data",
          "data": {
            "image/png": "[encoded data removed]",
            "text/plain": [
              "<Figure size 360x360 with 1 Axes>"
            ]
          },
          "metadata": {
            "tags": []
          }
        }
      ]
    },
    {
      "cell_type": "markdown",
      "metadata": {
        "id": "_rQJlv0hHdQM",
        "colab_type": "text"
      },
      "source": [
        "#### 4.2 Budget"
      ]
    },
    {
      "cell_type": "code",
      "metadata": {
        "id": "n636RM9nXlLe",
        "colab_type": "code",
        "colab": {}
      },
      "source": [
        "raw_data.budget=raw_data.budget.astype(int)"
      ],
      "execution_count": 0,
      "outputs": []
    },
    {
      "cell_type": "code",
      "metadata": {
        "id": "7ERdEFLeOUKw",
        "colab_type": "code",
        "outputId": "6ee6c16d-86ee-4162-fbb7-a35f0fd3071f",
        "colab": {
          "base_uri": "https://localhost:8080/",
          "height": 296
        }
      },
      "source": [
        "# budget distibution\n",
        "g = sns.kdeplot(raw_data.budget[(raw_data[\"success\"] == 0) ], shade = True)\n",
        "g = sns.kdeplot(raw_data.budget[(raw_data[\"success\"] == 1) ], shade= True)\n",
        "g.set_xlabel(\"budget\")\n",
        "g.set_ylabel(\"Frequency\")\n",
        "g = g.legend([\"Unsuccess\",\"Success\"])"
      ],
      "execution_count": 28,
      "outputs": [
        {
          "output_type": "display_data",
          "data": {
            "image/png": "[encoded data removed]",
            "text/plain": [
              "<Figure size 432x288 with 1 Axes>"
            ]
          },
          "metadata": {
            "tags": []
          }
        }
      ]
    },
    {
      "cell_type": "code",
      "metadata": {
        "id": "YLyT46DbHfzo",
        "colab_type": "code",
        "outputId": "11dd8115-c7bd-4cd3-d850-f2ad6463cc6d",
        "colab": {
          "base_uri": "https://localhost:8080/",
          "height": 296
        }
      },
      "source": [
        "# Non-zero budget distibution\n",
        "g = sns.kdeplot(raw_data.budget[raw_data.budget>0][(raw_data[\"success\"] == 0)], shade = True)\n",
        "g = sns.kdeplot(raw_data.budget[raw_data.budget>0][(raw_data[\"success\"] == 1)], shade= True)\n",
        "g.set_xlabel(\"budget\")\n",
        "g.set_ylabel(\"Frequency\")\n",
        "g = g.legend([\"Unsuccess\",\"Success\"])"
      ],
      "execution_count": 29,
      "outputs": [
        {
          "output_type": "display_data",
          "data": {
            "image/png": "[encoded data removed]",
            "text/plain": [
              "<Figure size 432x288 with 1 Axes>"
            ]
          },
          "metadata": {
            "tags": []
          }
        }
      ]
    },
    {
      "cell_type": "code",
      "metadata": {
        "id": "2be0y2gluMWt",
        "colab_type": "code",
        "colab": {
          "base_uri": "https://localhost:8080/",
          "height": 34
        },
        "outputId": "bb5c3bb1-91d0-4ad8-b915-3e177d3fd205"
      },
      "source": [
        "print(\"Percent of zero budget: {}%\".format(round((raw_data.budget==0).sum()/len(raw_data)*100, 2)))"
      ],
      "execution_count": 30,
      "outputs": [
        {
          "output_type": "stream",
          "text": [
            "Percent of zero budget: 79.46%\n"
          ],
          "name": "stdout"
        }
      ]
    },
    {
      "cell_type": "code",
      "metadata": {
        "id": "BS4OKDrjt5zd",
        "colab_type": "code",
        "colab": {
          "base_uri": "https://localhost:8080/",
          "height": 51
        },
        "outputId": "94484286-e9f4-4c45-cd0f-0dd66f3a604a"
      },
      "source": [
        "# Based on common sence, no moive can be made with zero budget. So drop rows with zero budget\n",
        "before_rows = len(raw_data)\n",
        "raw_data = raw_data[raw_data.budget!=0]\n",
        "print('Delete {} rows;\\nCurrent rows: {}'.format(before_rows-len(raw_data), len(raw_data)))"
      ],
      "execution_count": 31,
      "outputs": [
        {
          "output_type": "stream",
          "text": [
            "Delete 28305 rows;\n",
            "Current rows: 7315\n"
          ],
          "name": "stdout"
        }
      ]
    },
    {
      "cell_type": "code",
      "metadata": {
        "id": "7wu7kFHDJlyo",
        "colab_type": "code",
        "colab": {}
      },
      "source": [
        "# The Q1,Q2(median),Q3,95% of budget of non-zero movies\n",
        "non_zero_budget_Q1 = raw_data.budget[raw_data.budget>0].quantile(0.25)\n",
        "non_zero_budget_median = raw_data.budget[raw_data.budget>0].quantile(0.5)\n",
        "non_zero_budget_Q3 = raw_data.budget[raw_data.budget>0].quantile(0.75)\n",
        "non_zero_budget_95 = raw_data.budget[raw_data.budget>0].quantile(0.95)"
      ],
      "execution_count": 0,
      "outputs": []
    },
    {
      "cell_type": "code",
      "metadata": {
        "id": "fIQpIISWHf5X",
        "colab_type": "code",
        "colab": {}
      },
      "source": [
        "'''\n",
        "Create new feature of budget\n",
        "0 < Budget < Q1 => VeryLowBudget\n",
        "Q1 <= Budget < Median =>LowBudget\n",
        "Median <= Budget < Q3 => MedBudget\n",
        "Q3 <= Budget < 95% => HighBudget\n",
        "95% <= Budget => VeryHighBudget\n",
        "'''\n",
        "raw_data['VeryLowBudget'] = raw_data['budget'].map(lambda s: 1 if 0< s < non_zero_budget_Q1 else 0)\n",
        "raw_data['LowBudget'] = raw_data['budget'].map(lambda s: 1 if non_zero_budget_Q1 <= s < non_zero_budget_median else 0)\n",
        "raw_data['MedBudget'] = raw_data['budget'].map(lambda s: 1 if  non_zero_budget_median <= s < non_zero_budget_Q3 else 0)\n",
        "raw_data['HighBudget'] = raw_data['budget'].map(lambda s: 1 if non_zero_budget_Q3 <= s < non_zero_budget_95 else 0)\n",
        "raw_data['VeryHighBudget'] = raw_data['budget'].map(lambda s: 1 if s >= non_zero_budget_95 else 0)"
      ],
      "execution_count": 0,
      "outputs": []
    },
    {
      "cell_type": "markdown",
      "metadata": {
        "id": "t1FzuecTQ0rD",
        "colab_type": "text"
      },
      "source": [
        "#### 4.3 Release Year"
      ]
    },
    {
      "cell_type": "code",
      "metadata": {
        "id": "JQC5CHePRX_E",
        "colab_type": "code",
        "outputId": "4cb8533f-37eb-4a39-e5f5-e57c737cc287",
        "colab": {
          "base_uri": "https://localhost:8080/",
          "height": 365
        }
      },
      "source": [
        "# Release Year Distribution\n",
        "g = sns.factorplot(y=\"release_year\",x=\"success\",data=raw_data,kind=\"violin\", palette = \"Set2\")"
      ],
      "execution_count": 34,
      "outputs": [
        {
          "output_type": "display_data",
          "data": {
            "image/png": "[encoded data removed]",
            "text/plain": [
              "<Figure size 360x360 with 1 Axes>"
            ]
          },
          "metadata": {
            "tags": []
          }
        }
      ]
    },
    {
      "cell_type": "code",
      "metadata": {
        "id": "tcaFlxsER3WS",
        "colab_type": "code",
        "outputId": "be648a72-2237-4f2c-b79d-9503bcd72f25",
        "colab": {
          "base_uri": "https://localhost:8080/",
          "height": 365
        }
      },
      "source": [
        "# Release Month Distribution\n",
        "g = sns.factorplot(y=\"release_month\",x=\"success\",data=raw_data,kind=\"violin\", palette = \"Set2\")"
      ],
      "execution_count": 35,
      "outputs": [
        {
          "output_type": "display_data",
          "data": {
            "image/png": "[encoded data removed]",
            "text/plain": [
              "<Figure size 360x360 with 1 Axes>"
            ]
          },
          "metadata": {
            "tags": []
          }
        }
      ]
    },
    {
      "cell_type": "markdown",
      "metadata": {
        "id": "HFsJRX1OQ5Z7",
        "colab_type": "text"
      },
      "source": [
        "#### 4.4 Duration"
      ]
    },
    {
      "cell_type": "code",
      "metadata": {
        "id": "mBHxwDJGRyh2",
        "colab_type": "code",
        "outputId": "9e2b13fc-b3d4-4fc5-c447-06b90766c9ad",
        "colab": {
          "base_uri": "https://localhost:8080/",
          "height": 51
        }
      },
      "source": [
        "before = len(raw_data)\n",
        "raw_data = raw_data[np.isfinite(raw_data['duration'])]\n",
        "print('Delete {} rows;\\nCurrent Total rows: {}'.format(before-len(raw_data), len(raw_data)))"
      ],
      "execution_count": 36,
      "outputs": [
        {
          "output_type": "stream",
          "text": [
            "Delete 0 rows;\n",
            "Current Total rows: 7315\n"
          ],
          "name": "stdout"
        }
      ]
    },
    {
      "cell_type": "code",
      "metadata": {
        "id": "erpUsnNuRylJ",
        "colab_type": "code",
        "outputId": "67c45b6c-0e90-48bf-99a9-a9749f11f069",
        "colab": {
          "base_uri": "https://localhost:8080/",
          "height": 285
        }
      },
      "source": [
        "# duration distibution\n",
        "g = sns.kdeplot(raw_data.duration[(raw_data[\"success\"] == 0) ], color=\"blueviolet\", shade = True)\n",
        "g = sns.kdeplot(raw_data.duration[(raw_data[\"success\"] == 1) ], ax =g, color=\"gold\", shade= True)\n",
        "g.set_xlabel(\"Duration\")\n",
        "g.set_ylabel(\"Frequency\")\n",
        "g = g.legend([\"Unsuccess\",\"Success\"])"
      ],
      "execution_count": 37,
      "outputs": [
        {
          "output_type": "display_data",
          "data": {
            "image/png": "[encoded data removed]",
            "text/plain": [
              "<Figure size 432x288 with 1 Axes>"
            ]
          },
          "metadata": {
            "tags": []
          }
        }
      ]
    },
    {
      "cell_type": "code",
      "metadata": {
        "id": "KXWKrMThRyoR",
        "colab_type": "code",
        "outputId": "0bda1921-7169-428d-82aa-f7abade948ec",
        "colab": {
          "base_uri": "https://localhost:8080/",
          "height": 365
        }
      },
      "source": [
        "# duration distibution by success\n",
        "g = sns.factorplot(x=\"success\", y = \"duration\",data = raw_data, kind=\"box\", palette = \"Set3\")"
      ],
      "execution_count": 38,
      "outputs": [
        {
          "output_type": "display_data",
          "data": {
            "image/png": "[encoded data removed]",
            "text/plain": [
              "<Figure size 360x360 with 1 Axes>"
            ]
          },
          "metadata": {
            "tags": []
          }
        }
      ]
    },
    {
      "cell_type": "code",
      "metadata": {
        "id": "vWp7MsugTrAW",
        "colab_type": "code",
        "colab": {}
      },
      "source": [
        "'''\n",
        "Based on common sence\n",
        "duration <90          => Short Movie\n",
        "90 <= duration < 120  => Normal Movie\n",
        "120 <= duration       => Long Movie\n",
        "'''\n",
        "raw_data['ShortMovie'] = raw_data['duration'].map(lambda s: 1 if s < 90 else 0)\n",
        "raw_data['NormalMovie'] = raw_data['duration'].map(lambda s: 1 if 90 <= s < 120 else 0)\n",
        "raw_data['LongMovie'] = raw_data['duration'].map(lambda s: 1 if s >= 120 else 0)"
      ],
      "execution_count": 0,
      "outputs": []
    },
    {
      "cell_type": "markdown",
      "metadata": {
        "id": "VCSsxNDQQ5nm",
        "colab_type": "text"
      },
      "source": [
        "#### 4.5 Genres\n",
        "Since a movie may have multiple genres, we will use one-hot encoding to transform the column of Genres"
      ]
    },
    {
      "cell_type": "code",
      "metadata": {
        "id": "kQqHDwm3TrGJ",
        "colab_type": "code",
        "outputId": "a55ec27f-e524-498e-ff9f-57224b44308b",
        "colab": {
          "base_uri": "https://localhost:8080/",
          "height": 119
        }
      },
      "source": [
        "raw_data.genres.head()"
      ],
      "execution_count": 40,
      "outputs": [
        {
          "output_type": "execute_result",
          "data": {
            "text/plain": [
              "8                         Crime|Comedy\n",
              "9                Action|Thriller|Crime\n",
              "10                         Documentary\n",
              "12    Adventure|Action|Science Fiction\n",
              "13                    Animation|Family\n",
              "Name: genres, dtype: object"
            ]
          },
          "metadata": {
            "tags": []
          },
          "execution_count": 40
        }
      ]
    },
    {
      "cell_type": "code",
      "metadata": {
        "id": "jJWsTRTSJbaT",
        "colab_type": "code",
        "colab": {}
      },
      "source": [
        "def Obtain_list_Occurences(data, column):\n",
        "    # Obtaining list of column\n",
        "    listOcc = []\n",
        "    for i in data[column]:\n",
        "        split_genre = list(map(str, i.split('|')))\n",
        "        for j in split_genre:\n",
        "            if j not in listOcc:\n",
        "                listOcc.append(j)\n",
        "    return listOcc"
      ],
      "execution_count": 0,
      "outputs": []
    },
    {
      "cell_type": "code",
      "metadata": {
        "id": "I8C-terkK7t8",
        "colab_type": "code",
        "colab": {}
      },
      "source": [
        "genre = []\n",
        "genre = Obtain_list_Occurences(raw_data, \"genres\")\n",
        "# Drop empty string\n",
        "genre = list(filter(lambda x:len(x)>0, genre))"
      ],
      "execution_count": 0,
      "outputs": []
    },
    {
      "cell_type": "code",
      "metadata": {
        "id": "gUe19Y9sK7y7",
        "colab_type": "code",
        "colab": {}
      },
      "source": [
        "# Encoding genre\n",
        "for w in genre:\n",
        "    raw_data[w] = raw_data['genres'].map(lambda s: 1 if w in str(s) else 0)"
      ],
      "execution_count": 0,
      "outputs": []
    },
    {
      "cell_type": "code",
      "metadata": {
        "id": "8qus13hZK71i",
        "colab_type": "code",
        "outputId": "b4c307d8-e96d-4c8b-dfc2-c05b37784411",
        "colab": {
          "base_uri": "https://localhost:8080/",
          "height": 204
        }
      },
      "source": [
        "raw_data.loc[:,genre].head()"
      ],
      "execution_count": 44,
      "outputs": [
        {
          "output_type": "execute_result",
          "data": {
            "text/html": [
              "<div>\n",
              "<style scoped>\n",
              "    .dataframe tbody tr th:only-of-type {\n",
              "        vertical-align: middle;\n",
              "    }\n",
              "\n",
              "    .dataframe tbody tr th {\n",
              "        vertical-align: top;\n",
              "    }\n",
              "\n",
              "    .dataframe thead th {\n",
              "        text-align: right;\n",
              "    }\n",
              "</style>\n",
              "<table border=\"1\" class=\"dataframe\">\n",
              "  <thead>\n",
              "    <tr style=\"text-align: right;\">\n",
              "      <th></th>\n",
              "      <th>Crime</th>\n",
              "      <th>Comedy</th>\n",
              "      <th>Action</th>\n",
              "      <th>Thriller</th>\n",
              "      <th>Documentary</th>\n",
              "      <th>Adventure</th>\n",
              "      <th>Science Fiction</th>\n",
              "      <th>Animation</th>\n",
              "      <th>Family</th>\n",
              "      <th>Drama</th>\n",
              "      <th>Romance</th>\n",
              "      <th>Fantasy</th>\n",
              "      <th>War</th>\n",
              "      <th>Music</th>\n",
              "      <th>Western</th>\n",
              "      <th>Mystery</th>\n",
              "      <th>History</th>\n",
              "      <th>Horror</th>\n",
              "      <th>TV Movie</th>\n",
              "    </tr>\n",
              "  </thead>\n",
              "  <tbody>\n",
              "    <tr>\n",
              "      <th>8</th>\n",
              "      <td>1</td>\n",
              "      <td>1</td>\n",
              "      <td>0</td>\n",
              "      <td>0</td>\n",
              "      <td>0</td>\n",
              "      <td>0</td>\n",
              "      <td>0</td>\n",
              "      <td>0</td>\n",
              "      <td>0</td>\n",
              "      <td>0</td>\n",
              "      <td>0</td>\n",
              "      <td>0</td>\n",
              "      <td>0</td>\n",
              "      <td>0</td>\n",
              "      <td>0</td>\n",
              "      <td>0</td>\n",
              "      <td>0</td>\n",
              "      <td>0</td>\n",
              "      <td>0</td>\n",
              "    </tr>\n",
              "    <tr>\n",
              "      <th>9</th>\n",
              "      <td>1</td>\n",
              "      <td>0</td>\n",
              "      <td>1</td>\n",
              "      <td>1</td>\n",
              "      <td>0</td>\n",
              "      <td>0</td>\n",
              "      <td>0</td>\n",
              "      <td>0</td>\n",
              "      <td>0</td>\n",
              "      <td>0</td>\n",
              "      <td>0</td>\n",
              "      <td>0</td>\n",
              "      <td>0</td>\n",
              "      <td>0</td>\n",
              "      <td>0</td>\n",
              "      <td>0</td>\n",
              "      <td>0</td>\n",
              "      <td>0</td>\n",
              "      <td>0</td>\n",
              "    </tr>\n",
              "    <tr>\n",
              "      <th>10</th>\n",
              "      <td>0</td>\n",
              "      <td>0</td>\n",
              "      <td>0</td>\n",
              "      <td>0</td>\n",
              "      <td>1</td>\n",
              "      <td>0</td>\n",
              "      <td>0</td>\n",
              "      <td>0</td>\n",
              "      <td>0</td>\n",
              "      <td>0</td>\n",
              "      <td>0</td>\n",
              "      <td>0</td>\n",
              "      <td>0</td>\n",
              "      <td>0</td>\n",
              "      <td>0</td>\n",
              "      <td>0</td>\n",
              "      <td>0</td>\n",
              "      <td>0</td>\n",
              "      <td>0</td>\n",
              "    </tr>\n",
              "    <tr>\n",
              "      <th>12</th>\n",
              "      <td>0</td>\n",
              "      <td>0</td>\n",
              "      <td>1</td>\n",
              "      <td>0</td>\n",
              "      <td>0</td>\n",
              "      <td>1</td>\n",
              "      <td>1</td>\n",
              "      <td>0</td>\n",
              "      <td>0</td>\n",
              "      <td>0</td>\n",
              "      <td>0</td>\n",
              "      <td>0</td>\n",
              "      <td>0</td>\n",
              "      <td>0</td>\n",
              "      <td>0</td>\n",
              "      <td>0</td>\n",
              "      <td>0</td>\n",
              "      <td>0</td>\n",
              "      <td>0</td>\n",
              "    </tr>\n",
              "    <tr>\n",
              "      <th>13</th>\n",
              "      <td>0</td>\n",
              "      <td>0</td>\n",
              "      <td>0</td>\n",
              "      <td>0</td>\n",
              "      <td>0</td>\n",
              "      <td>0</td>\n",
              "      <td>0</td>\n",
              "      <td>1</td>\n",
              "      <td>1</td>\n",
              "      <td>0</td>\n",
              "      <td>0</td>\n",
              "      <td>0</td>\n",
              "      <td>0</td>\n",
              "      <td>0</td>\n",
              "      <td>0</td>\n",
              "      <td>0</td>\n",
              "      <td>0</td>\n",
              "      <td>0</td>\n",
              "      <td>0</td>\n",
              "    </tr>\n",
              "  </tbody>\n",
              "</table>\n",
              "</div>"
            ],
            "text/plain": [
              "    Crime  Comedy  Action  Thriller  ...  Mystery  History  Horror  TV Movie\n",
              "8       1       1       0         0  ...        0        0       0         0\n",
              "9       1       0       1         1  ...        0        0       0         0\n",
              "10      0       0       0         0  ...        0        0       0         0\n",
              "12      0       0       1         0  ...        0        0       0         0\n",
              "13      0       0       0         0  ...        0        0       0         0\n",
              "\n",
              "[5 rows x 19 columns]"
            ]
          },
          "metadata": {
            "tags": []
          },
          "execution_count": 44
        }
      ]
    },
    {
      "cell_type": "markdown",
      "metadata": {
        "id": "VgbZdsm8Q5yJ",
        "colab_type": "text"
      },
      "source": [
        "#### 4.6 Director"
      ]
    },
    {
      "cell_type": "code",
      "metadata": {
        "id": "u42tA4AKPDmi",
        "colab_type": "code",
        "colab": {}
      },
      "source": [
        "raw_data.director_name.fillna('unknown', inplace=True)"
      ],
      "execution_count": 0,
      "outputs": []
    },
    {
      "cell_type": "code",
      "metadata": {
        "id": "GVzBBe5fPDpn",
        "colab_type": "code",
        "colab": {}
      },
      "source": [
        "def to_frequency_table(data):\n",
        "    frequency = {}\n",
        "    for key in data:\n",
        "        if key in frequency and key:\n",
        "            frequency[key] += 1\n",
        "        else:\n",
        "            frequency[key] = 1\n",
        "    return frequency"
      ],
      "execution_count": 0,
      "outputs": []
    },
    {
      "cell_type": "code",
      "metadata": {
        "id": "YukH2NCXPDsx",
        "colab_type": "code",
        "colab": {}
      },
      "source": [
        "director_dic = to_frequency_table(raw_data['director_name'])\n",
        "director_list = list(director_dic.items())\n",
        "director_list.sort(key=lambda tup:tup[1],reverse=True)\n",
        "# drop 'unknown' item\n",
        "director_list=list(filter(lambda x:x[0]!='unknown', director_list))"
      ],
      "execution_count": 0,
      "outputs": []
    },
    {
      "cell_type": "code",
      "metadata": {
        "id": "2VjJt1aAP6eH",
        "colab_type": "code",
        "colab": {}
      },
      "source": [
        "# Funtion to find top xx in list\n",
        "def Top(List, top_num):\n",
        "    Top = list()\n",
        "    for i in range(0, top_num):\n",
        "        Top.append(List[i][0])\n",
        "    return Top"
      ],
      "execution_count": 0,
      "outputs": []
    },
    {
      "cell_type": "code",
      "metadata": {
        "id": "2zbARf_BPDvj",
        "colab_type": "code",
        "outputId": "096d534f-209e-4e43-e748-4616060d66f1",
        "colab": {
          "base_uri": "https://localhost:8080/",
          "height": 68
        }
      },
      "source": [
        "# Encoding Top 50 director\n",
        "top_list = Top(director_list, 100)\n",
        "for w in top_list:\n",
        "    raw_data[w] = raw_data['director_name'].map(lambda s: 1 if w in str(s) else 0)\n",
        "# Encoding non-Top 50 director in 'other_director' columns\n",
        "raw_data['other_director'] = raw_data['director_name'].map(lambda x:1 if x not in top_list else 0)\n",
        "print(\"Total movies of top directors: {};\\nTotal movies of non-top directors: {};\\nTotal movies: {}.\".format(raw_data[top_list].sum().sum(), raw_data.other_director.sum(), len(raw_data)))"
      ],
      "execution_count": 49,
      "outputs": [
        {
          "output_type": "stream",
          "text": [
            "Total movies of top directors: 1009;\n",
            "Total movies of non-top directors: 6306;\n",
            "Total movies: 7315.\n"
          ],
          "name": "stdout"
        }
      ]
    },
    {
      "cell_type": "markdown",
      "metadata": {
        "id": "2QQrwuvhRQjD",
        "colab_type": "text"
      },
      "source": [
        "#### 4.7 Actor"
      ]
    },
    {
      "cell_type": "code",
      "metadata": {
        "id": "y2p_KCWMgjtu",
        "colab_type": "code",
        "colab": {}
      },
      "source": [
        "# Fill none value in 3 actor columns\n",
        "raw_data.actor_1_name.fillna('unknown',inplace=True)\n",
        "raw_data.actor_2_name.fillna('unknown',inplace=True)\n",
        "raw_data.actor_3_name.fillna('unknown',inplace=True)"
      ],
      "execution_count": 0,
      "outputs": []
    },
    {
      "cell_type": "code",
      "metadata": {
        "id": "DesfDGZmfoyd",
        "colab_type": "code",
        "outputId": "c65f7ab9-ca98-4111-f71e-0c5a6b9268bc",
        "colab": {
          "base_uri": "https://localhost:8080/",
          "height": 419
        }
      },
      "source": [
        "raw_data[['actor_1_name','actor_2_name','actor_3_name']]"
      ],
      "execution_count": 51,
      "outputs": [
        {
          "output_type": "execute_result",
          "data": {
            "text/html": [
              "<div>\n",
              "<style scoped>\n",
              "    .dataframe tbody tr th:only-of-type {\n",
              "        vertical-align: middle;\n",
              "    }\n",
              "\n",
              "    .dataframe tbody tr th {\n",
              "        vertical-align: top;\n",
              "    }\n",
              "\n",
              "    .dataframe thead th {\n",
              "        text-align: right;\n",
              "    }\n",
              "</style>\n",
              "<table border=\"1\" class=\"dataframe\">\n",
              "  <thead>\n",
              "    <tr style=\"text-align: right;\">\n",
              "      <th></th>\n",
              "      <th>actor_1_name</th>\n",
              "      <th>actor_2_name</th>\n",
              "      <th>actor_3_name</th>\n",
              "    </tr>\n",
              "  </thead>\n",
              "  <tbody>\n",
              "    <tr>\n",
              "      <th>8</th>\n",
              "      <td>Tim Roth</td>\n",
              "      <td>Sammi Davis</td>\n",
              "      <td>Amanda de Cadenet</td>\n",
              "    </tr>\n",
              "    <tr>\n",
              "      <th>9</th>\n",
              "      <td>Emilio Estevez</td>\n",
              "      <td>Cuba Gooding Jr.</td>\n",
              "      <td>Denis Leary</td>\n",
              "    </tr>\n",
              "    <tr>\n",
              "      <th>10</th>\n",
              "      <td>unknown</td>\n",
              "      <td>unknown</td>\n",
              "      <td>unknown</td>\n",
              "    </tr>\n",
              "    <tr>\n",
              "      <th>12</th>\n",
              "      <td>Mark Hamill</td>\n",
              "      <td>Harrison Ford</td>\n",
              "      <td>Carrie Fisher</td>\n",
              "    </tr>\n",
              "    <tr>\n",
              "      <th>13</th>\n",
              "      <td>Albert Brooks</td>\n",
              "      <td>Ellen DeGeneres</td>\n",
              "      <td>Alexander Gould</td>\n",
              "    </tr>\n",
              "    <tr>\n",
              "      <th>...</th>\n",
              "      <td>...</td>\n",
              "      <td>...</td>\n",
              "      <td>...</td>\n",
              "    </tr>\n",
              "    <tr>\n",
              "      <th>1934296</th>\n",
              "      <td>unknown</td>\n",
              "      <td>unknown</td>\n",
              "      <td>unknown</td>\n",
              "    </tr>\n",
              "    <tr>\n",
              "      <th>1934298</th>\n",
              "      <td>unknown</td>\n",
              "      <td>unknown</td>\n",
              "      <td>unknown</td>\n",
              "    </tr>\n",
              "    <tr>\n",
              "      <th>1934315</th>\n",
              "      <td>unknown</td>\n",
              "      <td>unknown</td>\n",
              "      <td>unknown</td>\n",
              "    </tr>\n",
              "    <tr>\n",
              "      <th>1934344</th>\n",
              "      <td>unknown</td>\n",
              "      <td>unknown</td>\n",
              "      <td>unknown</td>\n",
              "    </tr>\n",
              "    <tr>\n",
              "      <th>1934350</th>\n",
              "      <td>unknown</td>\n",
              "      <td>unknown</td>\n",
              "      <td>unknown</td>\n",
              "    </tr>\n",
              "  </tbody>\n",
              "</table>\n",
              "<p>7315 rows × 3 columns</p>\n",
              "</div>"
            ],
            "text/plain": [
              "           actor_1_name      actor_2_name       actor_3_name\n",
              "8              Tim Roth       Sammi Davis  Amanda de Cadenet\n",
              "9        Emilio Estevez  Cuba Gooding Jr.        Denis Leary\n",
              "10              unknown           unknown            unknown\n",
              "12          Mark Hamill     Harrison Ford      Carrie Fisher\n",
              "13        Albert Brooks   Ellen DeGeneres    Alexander Gould\n",
              "...                 ...               ...                ...\n",
              "1934296         unknown           unknown            unknown\n",
              "1934298         unknown           unknown            unknown\n",
              "1934315         unknown           unknown            unknown\n",
              "1934344         unknown           unknown            unknown\n",
              "1934350         unknown           unknown            unknown\n",
              "\n",
              "[7315 rows x 3 columns]"
            ]
          },
          "metadata": {
            "tags": []
          },
          "execution_count": 51
        }
      ]
    },
    {
      "cell_type": "code",
      "metadata": {
        "id": "HUAEkLjmg4XQ",
        "colab_type": "code",
        "colab": {}
      },
      "source": [
        "# # Combine 3 columns and sort the occurrence\n",
        "# raw_data['actors_name'] = raw_data[['actor_1_name','actor_2_name','actor_3_name']].apply(lambda x:'|'.join(x), axis=1)\n",
        "# actor_occ = []\n",
        "# actor_occ = Obtain_list_Occurences(raw_data,\"actors_name\")\n",
        "# # Drop 'unknown' string\n",
        "# actor_occ = list(filter(lambda x:x!='unknown', actor_occ))"
      ],
      "execution_count": 0,
      "outputs": []
    },
    {
      "cell_type": "code",
      "metadata": {
        "id": "MCNmvOkWrjZ8",
        "colab_type": "code",
        "colab": {}
      },
      "source": [
        "# actor_dic = to_frequency_table(actor_occ)\n",
        "# actor_list = list(actor_dic.items())\n",
        "# actor_list.sort(key=lambda tup:tup[1],reverse=True)\n",
        "# # drop 'unknown' item\n",
        "# actor_list=list(filter(lambda x:x[0]!='unknown', actor_list))"
      ],
      "execution_count": 0,
      "outputs": []
    },
    {
      "cell_type": "code",
      "metadata": {
        "id": "QLHdPovEjOD_",
        "colab_type": "code",
        "colab": {}
      },
      "source": [
        "# Encoding actor column\n",
        "# for w in actor_occ:\n",
        "#     raw_data[w] = raw_data['actors_name'].map(lambda s: 1 if w in str(s) else 0)"
      ],
      "execution_count": 0,
      "outputs": []
    },
    {
      "cell_type": "markdown",
      "metadata": {
        "id": "lurrrSJhRTsI",
        "colab_type": "text"
      },
      "source": [
        "#### 4.8 Company"
      ]
    },
    {
      "cell_type": "code",
      "metadata": {
        "id": "ZhGRftGVvGcW",
        "colab_type": "code",
        "colab": {}
      },
      "source": [
        "# Fill none value in 3 actor columns\n",
        "raw_data['companies_1'].fillna('unknown',inplace=True)\n",
        "raw_data['companies_2'].fillna('unknown',inplace=True)\n",
        "raw_data['companies_3'].fillna('unknown',inplace=True)"
      ],
      "execution_count": 0,
      "outputs": []
    },
    {
      "cell_type": "code",
      "metadata": {
        "id": "jcU20nD35BYY",
        "colab_type": "code",
        "colab": {}
      },
      "source": [
        "company_dic = to_frequency_table(raw_data['companies_1'])\n",
        "company_list = list(company_dic.items())\n",
        "company_list.sort(key=lambda tup:tup[1],reverse=True)\n",
        "# drop 'unknown' item\n",
        "company_list_1=list(filter(lambda x:x[0]!='unknown', company_list))"
      ],
      "execution_count": 0,
      "outputs": []
    },
    {
      "cell_type": "code",
      "metadata": {
        "id": "V2IzMKRc5Zmb",
        "colab_type": "code",
        "colab": {}
      },
      "source": [
        "company_dic = to_frequency_table(raw_data['companies_2'])\n",
        "company_list = list(company_dic.items())\n",
        "company_list.sort(key=lambda tup:tup[1],reverse=True)\n",
        "# drop 'unknown' item\n",
        "company_list_2=list(filter(lambda x:x[0]!='unknown', company_list))"
      ],
      "execution_count": 0,
      "outputs": []
    },
    {
      "cell_type": "code",
      "metadata": {
        "id": "5a_c7_-b7SXL",
        "colab_type": "code",
        "colab": {}
      },
      "source": [
        "company_dic = to_frequency_table(raw_data['companies_2'])\n",
        "company_list = list(company_dic.items())\n",
        "company_list.sort(key=lambda tup:tup[1],reverse=True)\n",
        "# drop 'unknown' item\n",
        "company_list_3=list(filter(lambda x:x[0]!='unknown', company_list))"
      ],
      "execution_count": 0,
      "outputs": []
    },
    {
      "cell_type": "code",
      "metadata": {
        "id": "Dgot-VsN6LaD",
        "colab_type": "code",
        "colab": {}
      },
      "source": [
        "# Combine all company in one list\n",
        "full_company_list=sorted(company_list_1+company_list_2+company_list_3)\n",
        "company_dict={}\n",
        "for a,b in full_company_list:\n",
        "    if a not in company_dict.keys():\n",
        "        company_dict[a] = b\n",
        "    elif a in company_dict.keys():\n",
        "        company_dict[a] = company_dict.get(a) + b\n",
        "\n",
        "combined_company_list = list(company_dict.items())\n",
        "combined_company_list.sort(key=lambda tup:tup[1],reverse=True)\n",
        "# drop 'unknown' item\n",
        "combined_company_list=list(filter(lambda x:x[0]!='unknown', combined_company_list))"
      ],
      "execution_count": 0,
      "outputs": []
    },
    {
      "cell_type": "code",
      "metadata": {
        "id": "iH1r-DWKutfq",
        "colab_type": "code",
        "outputId": "e84dc08f-9d62-46eb-8488-f301f38088fe",
        "colab": {
          "base_uri": "https://localhost:8080/",
          "height": 68
        }
      },
      "source": [
        "total=0\n",
        "for a,b in combined_company_list:\n",
        "    total += b\n",
        "\n",
        "top_index = 0\n",
        "top_count = 0\n",
        "for a,b in combined_company_list:\n",
        "    if b >= 20:\n",
        "        top_count += b\n",
        "        top_index += 1\n",
        "    else:\n",
        "        break\n",
        "print(top_index)\n",
        "print(len(combined_company_list))\n",
        "print(combined_company_list[top_index])"
      ],
      "execution_count": 60,
      "outputs": [
        {
          "output_type": "stream",
          "text": [
            "80\n",
            "4750\n",
            "('DC Comics', 19)\n"
          ],
          "name": "stdout"
        }
      ]
    },
    {
      "cell_type": "code",
      "metadata": {
        "id": "PHX8X5HNJ0rz",
        "colab_type": "code",
        "colab": {}
      },
      "source": [
        "# Create company columns\n",
        "toplist = Top(combined_company_list, top_index)\n",
        "for w in toplist:\n",
        "    raw_data[w] = 0"
      ],
      "execution_count": 0,
      "outputs": []
    },
    {
      "cell_type": "code",
      "metadata": {
        "id": "9oNiiUK1ixqG",
        "colab_type": "code",
        "colab": {}
      },
      "source": [
        "# Encoding Top company\n",
        "for w in toplist:\n",
        "    raw_data[w][raw_data[w]!=1] = raw_data['companies_1'].map(lambda x: 1 if x in w else 0)\n",
        "for w in toplist:\n",
        "    raw_data[w][raw_data[w]!=1] = raw_data['companies_2'].map(lambda x: 1 if x in w else 0)\n",
        "for w in toplist:\n",
        "    raw_data[w][raw_data[w]!=1] = raw_data['companies_3'].map(lambda x: 1 if x in w else 0)"
      ],
      "execution_count": 0,
      "outputs": []
    },
    {
      "cell_type": "code",
      "metadata": {
        "id": "PML8IUSIxc44",
        "colab_type": "code",
        "outputId": "654e7787-3951-4290-dae8-febaa7fba920",
        "colab": {
          "base_uri": "https://localhost:8080/",
          "height": 102
        }
      },
      "source": [
        "raw_data.info()"
      ],
      "execution_count": 63,
      "outputs": [
        {
          "output_type": "stream",
          "text": [
            "<class 'pandas.core.frame.DataFrame'>\n",
            "Int64Index: 7315 entries, 8 to 1934350\n",
            "Columns: 234 entries, budget to Zentropa Entertainments\n",
            "dtypes: float64(2), int64(212), object(20)\n",
            "memory usage: 13.4+ MB\n"
          ],
          "name": "stdout"
        }
      ]
    },
    {
      "cell_type": "markdown",
      "metadata": {
        "id": "lWjZuHZQyCHQ",
        "colab_type": "text"
      },
      "source": [
        "#### 4.9 Drop Columns"
      ]
    },
    {
      "cell_type": "code",
      "metadata": {
        "id": "C0YgLiV8yRrC",
        "colab_type": "code",
        "colab": {}
      },
      "source": [
        "raw_data.drop(['budget','genres','id','plot_keywords','language','original_title','overview',\n",
        "               'production_companies','production_countries','release_date','duration','spoken_languages','status','movie_title','vote_average','country',\n",
        "               'director_name',\n",
        "               'actor_1_name','actor_2_name','actor_3_name',\n",
        "               'companies_1','companies_2','companies_3'], axis=1, inplace=True)"
      ],
      "execution_count": 0,
      "outputs": []
    },
    {
      "cell_type": "code",
      "metadata": {
        "id": "Duf9iYNLyBnc",
        "colab_type": "code",
        "outputId": "a84e854c-57af-43e4-8cde-c68aa809b5e7",
        "colab": {
          "base_uri": "https://localhost:8080/",
          "height": 204
        }
      },
      "source": [
        "# Check missing value\n",
        "total = raw_data.isnull().sum().sort_values(ascending=False)\n",
        "percent = (raw_data.isnull().sum()/raw_data.isnull().count()).sort_values(ascending=False)\n",
        "missing_data = pd.concat([total, percent], axis=1, keys=['Total', 'Percent'])\n",
        "missing_data.head(5)"
      ],
      "execution_count": 65,
      "outputs": [
        {
          "output_type": "execute_result",
          "data": {
            "text/html": [
              "<div>\n",
              "<style scoped>\n",
              "    .dataframe tbody tr th:only-of-type {\n",
              "        vertical-align: middle;\n",
              "    }\n",
              "\n",
              "    .dataframe tbody tr th {\n",
              "        vertical-align: top;\n",
              "    }\n",
              "\n",
              "    .dataframe thead th {\n",
              "        text-align: right;\n",
              "    }\n",
              "</style>\n",
              "<table border=\"1\" class=\"dataframe\">\n",
              "  <thead>\n",
              "    <tr style=\"text-align: right;\">\n",
              "      <th></th>\n",
              "      <th>Total</th>\n",
              "      <th>Percent</th>\n",
              "    </tr>\n",
              "  </thead>\n",
              "  <tbody>\n",
              "    <tr>\n",
              "      <th>Zentropa Entertainments</th>\n",
              "      <td>0</td>\n",
              "      <td>0.0</td>\n",
              "    </tr>\n",
              "    <tr>\n",
              "      <th>Joel Schumacher</th>\n",
              "      <td>0</td>\n",
              "      <td>0.0</td>\n",
              "    </tr>\n",
              "    <tr>\n",
              "      <th>Paul Verhoeven</th>\n",
              "      <td>0</td>\n",
              "      <td>0.0</td>\n",
              "    </tr>\n",
              "    <tr>\n",
              "      <th>Wolfgang Petersen</th>\n",
              "      <td>0</td>\n",
              "      <td>0.0</td>\n",
              "    </tr>\n",
              "    <tr>\n",
              "      <th>Roman Polanski</th>\n",
              "      <td>0</td>\n",
              "      <td>0.0</td>\n",
              "    </tr>\n",
              "  </tbody>\n",
              "</table>\n",
              "</div>"
            ],
            "text/plain": [
              "                         Total  Percent\n",
              "Zentropa Entertainments      0      0.0\n",
              "Joel Schumacher              0      0.0\n",
              "Paul Verhoeven               0      0.0\n",
              "Wolfgang Petersen            0      0.0\n",
              "Roman Polanski               0      0.0"
            ]
          },
          "metadata": {
            "tags": []
          },
          "execution_count": 65
        }
      ]
    },
    {
      "cell_type": "markdown",
      "metadata": {
        "id": "AStPLH_F9FmX",
        "colab_type": "text"
      },
      "source": [
        "### 5 Modeling\n",
        "*   Define Useful Functions\n",
        "*   Split Data\n",
        "*   K-Nearest Neighbors\n",
        "*   Decision Tree\n",
        "*   Random Forest\n",
        "*   Gradient Boosting\n",
        "*   Conclusion Model Performance\n",
        "*   Model Test"
      ]
    },
    {
      "cell_type": "markdown",
      "metadata": {
        "id": "OuGlRwHSha8f",
        "colab_type": "text"
      },
      "source": [
        "#### 5.0 Define Useful Functions"
      ]
    },
    {
      "cell_type": "code",
      "metadata": {
        "id": "5pJCOyQ4hft9",
        "colab_type": "code",
        "colab": {}
      },
      "source": [
        "import itertools\n",
        "def plot_confusion_matrix(cm,\n",
        "                          target_names,\n",
        "                          title='Confusion matrix',\n",
        "                          cmap=None,\n",
        "                          normalize=True):\n",
        "    accuracy = np.trace(cm) / float(np.sum(cm))\n",
        "    misclass = 1 - accuracy\n",
        "\n",
        "    if cmap is None:\n",
        "        cmap = plt.get_cmap('Blues')\n",
        "\n",
        "    plt.figure(figsize=(8, 6))\n",
        "    plt.imshow(cm, interpolation='nearest', cmap=cmap)\n",
        "    plt.title(title)\n",
        "    plt.colorbar()\n",
        "\n",
        "    if target_names is not None:\n",
        "        tick_marks = np.arange(len(target_names))\n",
        "        plt.xticks(tick_marks, target_names)\n",
        "        plt.yticks(tick_marks, target_names)\n",
        "\n",
        "    if normalize:\n",
        "        cm = cm.astype('float') / cm.sum(axis=1)[:, np.newaxis]\n",
        "\n",
        "    thresh = cm.max() / 1.5 if normalize else cm.max() / 2\n",
        "    for i, j in itertools.product(range(cm.shape[0]), range(cm.shape[1])):\n",
        "        if normalize:\n",
        "            plt.text(j, i, \"{:0.4f}\".format(cm[i, j]),\n",
        "                     horizontalalignment=\"center\",\n",
        "                     color=\"white\" if cm[i, j] > thresh else \"black\")\n",
        "        else:\n",
        "            plt.text(j, i, \"{:,}\".format(cm[i, j]),\n",
        "                     horizontalalignment=\"center\",\n",
        "                     color=\"white\" if cm[i, j] > thresh else \"black\")\n",
        "\n",
        "    plt.tight_layout()\n",
        "    plt.ylabel('True label')\n",
        "    plt.xlabel('Predicted label\\naccuracy={:0.2f}; misclass={:0.2f}'.format(accuracy, misclass))\n",
        "    plt.show()"
      ],
      "execution_count": 0,
      "outputs": []
    },
    {
      "cell_type": "code",
      "metadata": {
        "id": "K2E6Msqxhfw4",
        "colab_type": "code",
        "colab": {}
      },
      "source": [
        "def model_selection(clf, x_train_all, y_train_all, x_train, y_train, x_test, y_test):\n",
        "    clf.fit(x_train,y_train)\n",
        "    score_all=cross_val_score(clf, x_train_all, y_train_all, cv=5)\n",
        "    avg_score=score_all.mean()\n",
        "    print(\"Accuracy Score for 5-fold Cross Validation: {}\".format(round(avg_score,2)))\n",
        "    y_test_pred=clf.predict(x_test)\n",
        "    cm = confusion_matrix(y_test, y_test_pred)\n",
        "    plot_confusion_matrix(cm, normalize = False, target_names = ['failed','success'],title = \"Confusion Matrix over Test Data\")"
      ],
      "execution_count": 0,
      "outputs": []
    },
    {
      "cell_type": "markdown",
      "metadata": {
        "id": "SSW4uWw_1PXk",
        "colab_type": "text"
      },
      "source": [
        "#### 5.1 Split Data"
      ]
    },
    {
      "cell_type": "code",
      "metadata": {
        "id": "1edDJEkt9sbM",
        "colab_type": "code",
        "colab": {}
      },
      "source": [
        "# Split data into train and test set\n",
        "data = raw_data\n",
        "y = data['success']\n",
        "y = np.array(y).reshape(-1,1)\n",
        "x = data.drop('success',axis=1)\n",
        "# release_year and release_month has fixed range => Min-Max Normalization\n",
        "minmax = MinMaxScaler()\n",
        "x[['release_year','release_month']] = minmax.fit_transform(x[['release_year','release_month']])"
      ],
      "execution_count": 0,
      "outputs": []
    },
    {
      "cell_type": "code",
      "metadata": {
        "id": "aJO7-M4x9seJ",
        "colab_type": "code",
        "colab": {}
      },
      "source": [
        "x_train_all, x_test, y_train_all, y_test = train_test_split(x,y,random_state=10, test_size=.25)\n",
        "x_train, x_valid, y_train, y_valid = train_test_split(x_train_all, y_train_all, random_state=11, test_size=0.25)"
      ],
      "execution_count": 0,
      "outputs": []
    },
    {
      "cell_type": "code",
      "metadata": {
        "id": "QzOmMFD-9sgc",
        "colab_type": "code",
        "outputId": "d7d26d98-68ca-41a2-ea6c-0fd8515cbc0c",
        "colab": {
          "base_uri": "https://localhost:8080/",
          "height": 85
        }
      },
      "source": [
        "print('x_train: {}; y_train: {}.'.format(x_train_all.shape, y_train_all.shape))\n",
        "print('x_train: {}; y_train: {}.'.format(x_train.shape, y_train.shape))\n",
        "print('x_valid: {}; y_valid: {}.'.format(x_valid.shape, y_valid.shape))\n",
        "print('x_test: {}; y_test: {}.'.format(x_test.shape, y_test.shape))"
      ],
      "execution_count": 70,
      "outputs": [
        {
          "output_type": "stream",
          "text": [
            "x_train: (5486, 210); y_train: (5486, 1).\n",
            "x_train: (4114, 210); y_train: (4114, 1).\n",
            "x_valid: (1372, 210); y_valid: (1372, 1).\n",
            "x_test: (1829, 210); y_test: (1829, 1).\n"
          ],
          "name": "stdout"
        }
      ]
    },
    {
      "cell_type": "markdown",
      "metadata": {
        "id": "qNZsCN_21S1M",
        "colab_type": "text"
      },
      "source": [
        "#### 5.2 K-Nearest Neighbors"
      ]
    },
    {
      "cell_type": "code",
      "metadata": {
        "id": "YQsw2WZx1XX8",
        "colab_type": "code",
        "outputId": "4476fcb5-6fe0-468e-dd37-009c3c815df5",
        "colab": {
          "base_uri": "https://localhost:8080/",
          "height": 68
        }
      },
      "source": [
        "knn = KNeighborsClassifier(n_neighbors=25)\n",
        "knn.fit(x_train, y_train)"
      ],
      "execution_count": 71,
      "outputs": [
        {
          "output_type": "execute_result",
          "data": {
            "text/plain": [
              "KNeighborsClassifier(algorithm='auto', leaf_size=30, metric='minkowski',\n",
              "                     metric_params=None, n_jobs=None, n_neighbors=25, p=2,\n",
              "                     weights='uniform')"
            ]
          },
          "metadata": {
            "tags": []
          },
          "execution_count": 71
        }
      ]
    },
    {
      "cell_type": "code",
      "metadata": {
        "id": "srS2TRNEdbe_",
        "colab_type": "code",
        "outputId": "b4281a02-d9fc-4848-9830-1373da2dc13c",
        "colab": {
          "base_uri": "https://localhost:8080/",
          "height": 486
        }
      },
      "source": [
        "model_selection(knn, x_train_all, y_train_all, x_train, y_train, x_test, y_test)"
      ],
      "execution_count": 72,
      "outputs": [
        {
          "output_type": "stream",
          "text": [
            "Accuracy Score for 5-fold Cross Validation: 0.67\n"
          ],
          "name": "stdout"
        },
        {
          "output_type": "display_data",
          "data": {
            "image/png": "[encoded data removed]",
            "text/plain": [
              "<Figure size 576x432 with 2 Axes>"
            ]
          },
          "metadata": {
            "tags": []
          }
        }
      ]
    },
    {
      "cell_type": "markdown",
      "metadata": {
        "id": "zAd6PcsedOW8",
        "colab_type": "text"
      },
      "source": [
        "#### 5.3 Decision Tree"
      ]
    },
    {
      "cell_type": "code",
      "metadata": {
        "id": "XT4R6P-X1XdS",
        "colab_type": "code",
        "outputId": "09140435-7b08-451f-8d7c-00d13dc1a361",
        "colab": {
          "base_uri": "https://localhost:8080/",
          "height": 119
        }
      },
      "source": [
        "decision_tree = DecisionTreeClassifier(criterion='entropy',max_depth=20, min_samples_leaf=10)\n",
        "decision_tree.fit(x_train, y_train)"
      ],
      "execution_count": 73,
      "outputs": [
        {
          "output_type": "execute_result",
          "data": {
            "text/plain": [
              "DecisionTreeClassifier(ccp_alpha=0.0, class_weight=None, criterion='entropy',\n",
              "                       max_depth=20, max_features=None, max_leaf_nodes=None,\n",
              "                       min_impurity_decrease=0.0, min_impurity_split=None,\n",
              "                       min_samples_leaf=10, min_samples_split=2,\n",
              "                       min_weight_fraction_leaf=0.0, presort='deprecated',\n",
              "                       random_state=None, splitter='best')"
            ]
          },
          "metadata": {
            "tags": []
          },
          "execution_count": 73
        }
      ]
    },
    {
      "cell_type": "code",
      "metadata": {
        "id": "ZQsQPXYd1Xf6",
        "colab_type": "code",
        "outputId": "293551bd-3840-4c95-b0f0-3312285f84c6",
        "colab": {
          "base_uri": "https://localhost:8080/",
          "height": 486
        }
      },
      "source": [
        "model_selection(decision_tree, x_train_all, y_train_all, x_train, y_train, x_test, y_test)"
      ],
      "execution_count": 74,
      "outputs": [
        {
          "output_type": "stream",
          "text": [
            "Accuracy Score for 5-fold Cross Validation: 0.66\n"
          ],
          "name": "stdout"
        },
        {
          "output_type": "display_data",
          "data": {
            "image/png": "[encoded data removed]",
            "text/plain": [
              "<Figure size 576x432 with 2 Axes>"
            ]
          },
          "metadata": {
            "tags": []
          }
        }
      ]
    },
    {
      "cell_type": "markdown",
      "metadata": {
        "id": "uIWVUplEPrC4",
        "colab_type": "text"
      },
      "source": [
        "####  DNN"
      ]
    },
    {
      "cell_type": "code",
      "metadata": {
        "id": "UPa6pkM_Ptki",
        "colab_type": "code",
        "colab": {}
      },
      "source": [
        "dnn_model=Sequential([\n",
        "                  Dense(64, input_dim=x_train.shape[1],activation='relu'),\n",
        "                  Dense(32, activation='relu'),\n",
        "                  Dense(16, activation='sigmoid'),\n",
        "                  AlphaDropout(rate=0.5),\n",
        "                  Dense(1, activation='sigmoid')])"
      ],
      "execution_count": 0,
      "outputs": []
    },
    {
      "cell_type": "code",
      "metadata": {
        "id": "XUTGSNrJXHfJ",
        "colab_type": "code",
        "outputId": "eafa221e-d3a9-4a93-890d-4d86ea9e5a02",
        "colab": {
          "base_uri": "https://localhost:8080/",
          "height": 323
        }
      },
      "source": [
        "dnn_model.summary()"
      ],
      "execution_count": 76,
      "outputs": [
        {
          "output_type": "stream",
          "text": [
            "Model: \"sequential_1\"\n",
            "_________________________________________________________________\n",
            "Layer (type)                 Output Shape              Param #   \n",
            "=================================================================\n",
            "dense_1 (Dense)              (None, 64)                13504     \n",
            "_________________________________________________________________\n",
            "dense_2 (Dense)              (None, 32)                2080      \n",
            "_________________________________________________________________\n",
            "dense_3 (Dense)              (None, 16)                528       \n",
            "_________________________________________________________________\n",
            "alpha_dropout_1 (AlphaDropou (None, 16)                0         \n",
            "_________________________________________________________________\n",
            "dense_4 (Dense)              (None, 1)                 17        \n",
            "=================================================================\n",
            "Total params: 16,129\n",
            "Trainable params: 16,129\n",
            "Non-trainable params: 0\n",
            "_________________________________________________________________\n"
          ],
          "name": "stdout"
        }
      ]
    },
    {
      "cell_type": "code",
      "metadata": {
        "id": "pCCwwFcFSFUt",
        "colab_type": "code",
        "colab": {}
      },
      "source": [
        "dnn_model.compile(optimizer='Adam', loss='binary_crossentropy',metrics=['accuracy'])"
      ],
      "execution_count": 0,
      "outputs": []
    },
    {
      "cell_type": "code",
      "metadata": {
        "id": "vWh-8deuPw2b",
        "colab_type": "code",
        "outputId": "fa0f32ac-215a-4e40-da8b-470c2ba6c0ad",
        "colab": {
          "base_uri": "https://localhost:8080/",
          "height": 1000
        }
      },
      "source": [
        "# callbacks = [keras.callbacks.EarlyStopping(patience=5, min_delta=1e-3)]\n",
        "dnn_model.fit(x_train, y_train, batch_size=512, epochs=50, validation_data=(x_valid,y_valid))"
      ],
      "execution_count": 78,
      "outputs": [
        {
          "output_type": "stream",
          "text": [
            "Train on 4114 samples, validate on 1372 samples\n",
            "Epoch 1/50\n",
            "4114/4114 [==============================] - 0s 98us/step - loss: 0.9597 - accuracy: 0.4917 - val_loss: 0.6713 - val_accuracy: 0.6028\n",
            "Epoch 2/50\n",
            "4114/4114 [==============================] - 0s 11us/step - loss: 0.9377 - accuracy: 0.5051 - val_loss: 0.6668 - val_accuracy: 0.6028\n",
            "Epoch 3/50\n",
            "4114/4114 [==============================] - 0s 10us/step - loss: 0.9087 - accuracy: 0.5158 - val_loss: 0.6632 - val_accuracy: 0.6028\n",
            "Epoch 4/50\n",
            "4114/4114 [==============================] - 0s 10us/step - loss: 0.8801 - accuracy: 0.5114 - val_loss: 0.6603 - val_accuracy: 0.6028\n",
            "Epoch 5/50\n",
            "4114/4114 [==============================] - 0s 12us/step - loss: 0.8813 - accuracy: 0.5255 - val_loss: 0.6582 - val_accuracy: 0.6028\n",
            "Epoch 6/50\n",
            "4114/4114 [==============================] - 0s 10us/step - loss: 0.8689 - accuracy: 0.5221 - val_loss: 0.6541 - val_accuracy: 0.6028\n",
            "Epoch 7/50\n",
            "4114/4114 [==============================] - 0s 12us/step - loss: 0.8277 - accuracy: 0.5343 - val_loss: 0.6459 - val_accuracy: 0.6028\n",
            "Epoch 8/50\n",
            "4114/4114 [==============================] - 0s 11us/step - loss: 0.8193 - accuracy: 0.5287 - val_loss: 0.6377 - val_accuracy: 0.6122\n",
            "Epoch 9/50\n",
            "4114/4114 [==============================] - 0s 14us/step - loss: 0.8094 - accuracy: 0.5357 - val_loss: 0.6355 - val_accuracy: 0.6152\n",
            "Epoch 10/50\n",
            "4114/4114 [==============================] - 0s 10us/step - loss: 0.7953 - accuracy: 0.5357 - val_loss: 0.6279 - val_accuracy: 0.6224\n",
            "Epoch 11/50\n",
            "4114/4114 [==============================] - 0s 10us/step - loss: 0.8061 - accuracy: 0.5260 - val_loss: 0.6162 - val_accuracy: 0.6436\n",
            "Epoch 12/50\n",
            "4114/4114 [==============================] - 0s 13us/step - loss: 0.7964 - accuracy: 0.5379 - val_loss: 0.6035 - val_accuracy: 0.6655\n",
            "Epoch 13/50\n",
            "4114/4114 [==============================] - 0s 11us/step - loss: 0.7776 - accuracy: 0.5391 - val_loss: 0.5951 - val_accuracy: 0.6727\n",
            "Epoch 14/50\n",
            "4114/4114 [==============================] - 0s 11us/step - loss: 0.7663 - accuracy: 0.5523 - val_loss: 0.5882 - val_accuracy: 0.6771\n",
            "Epoch 15/50\n",
            "4114/4114 [==============================] - 0s 11us/step - loss: 0.7540 - accuracy: 0.5707 - val_loss: 0.5825 - val_accuracy: 0.6968\n",
            "Epoch 16/50\n",
            "4114/4114 [==============================] - 0s 11us/step - loss: 0.7586 - accuracy: 0.5647 - val_loss: 0.5809 - val_accuracy: 0.6983\n",
            "Epoch 17/50\n",
            "4114/4114 [==============================] - 0s 10us/step - loss: 0.7344 - accuracy: 0.5843 - val_loss: 0.5825 - val_accuracy: 0.6997\n",
            "Epoch 18/50\n",
            "4114/4114 [==============================] - 0s 10us/step - loss: 0.7374 - accuracy: 0.5785 - val_loss: 0.5792 - val_accuracy: 0.7026\n",
            "Epoch 19/50\n",
            "4114/4114 [==============================] - 0s 10us/step - loss: 0.7281 - accuracy: 0.5788 - val_loss: 0.5791 - val_accuracy: 0.7004\n",
            "Epoch 20/50\n",
            "4114/4114 [==============================] - 0s 10us/step - loss: 0.7071 - accuracy: 0.6001 - val_loss: 0.5881 - val_accuracy: 0.6968\n",
            "Epoch 21/50\n",
            "4114/4114 [==============================] - 0s 11us/step - loss: 0.7120 - accuracy: 0.5980 - val_loss: 0.5807 - val_accuracy: 0.7019\n",
            "Epoch 22/50\n",
            "4114/4114 [==============================] - 0s 10us/step - loss: 0.7094 - accuracy: 0.5972 - val_loss: 0.5819 - val_accuracy: 0.7004\n",
            "Epoch 23/50\n",
            "4114/4114 [==============================] - 0s 10us/step - loss: 0.7029 - accuracy: 0.5919 - val_loss: 0.5772 - val_accuracy: 0.7004\n",
            "Epoch 24/50\n",
            "4114/4114 [==============================] - 0s 9us/step - loss: 0.7041 - accuracy: 0.5980 - val_loss: 0.5808 - val_accuracy: 0.6975\n",
            "Epoch 25/50\n",
            "4114/4114 [==============================] - 0s 10us/step - loss: 0.6872 - accuracy: 0.6138 - val_loss: 0.5768 - val_accuracy: 0.6968\n",
            "Epoch 26/50\n",
            "4114/4114 [==============================] - 0s 11us/step - loss: 0.6946 - accuracy: 0.6038 - val_loss: 0.5774 - val_accuracy: 0.6931\n",
            "Epoch 27/50\n",
            "4114/4114 [==============================] - 0s 10us/step - loss: 0.6873 - accuracy: 0.6121 - val_loss: 0.5806 - val_accuracy: 0.7034\n",
            "Epoch 28/50\n",
            "4114/4114 [==============================] - 0s 11us/step - loss: 0.6877 - accuracy: 0.6053 - val_loss: 0.5841 - val_accuracy: 0.7063\n",
            "Epoch 29/50\n",
            "4114/4114 [==============================] - 0s 11us/step - loss: 0.6795 - accuracy: 0.6206 - val_loss: 0.5915 - val_accuracy: 0.7012\n",
            "Epoch 30/50\n",
            "4114/4114 [==============================] - 0s 10us/step - loss: 0.6790 - accuracy: 0.6189 - val_loss: 0.5810 - val_accuracy: 0.7012\n",
            "Epoch 31/50\n",
            "4114/4114 [==============================] - 0s 11us/step - loss: 0.6759 - accuracy: 0.6303 - val_loss: 0.5787 - val_accuracy: 0.6888\n",
            "Epoch 32/50\n",
            "4114/4114 [==============================] - 0s 10us/step - loss: 0.6749 - accuracy: 0.6094 - val_loss: 0.5801 - val_accuracy: 0.6844\n",
            "Epoch 33/50\n",
            "4114/4114 [==============================] - 0s 10us/step - loss: 0.6841 - accuracy: 0.6108 - val_loss: 0.5823 - val_accuracy: 0.7106\n",
            "Epoch 34/50\n",
            "4114/4114 [==============================] - 0s 10us/step - loss: 0.6752 - accuracy: 0.6108 - val_loss: 0.5822 - val_accuracy: 0.7092\n",
            "Epoch 35/50\n",
            "4114/4114 [==============================] - 0s 10us/step - loss: 0.6690 - accuracy: 0.6213 - val_loss: 0.5744 - val_accuracy: 0.7063\n",
            "Epoch 36/50\n",
            "4114/4114 [==============================] - 0s 10us/step - loss: 0.6658 - accuracy: 0.6104 - val_loss: 0.5750 - val_accuracy: 0.6888\n",
            "Epoch 37/50\n",
            "4114/4114 [==============================] - 0s 10us/step - loss: 0.6481 - accuracy: 0.6281 - val_loss: 0.5750 - val_accuracy: 0.6880\n",
            "Epoch 38/50\n",
            "4114/4114 [==============================] - 0s 10us/step - loss: 0.6721 - accuracy: 0.6106 - val_loss: 0.5763 - val_accuracy: 0.7055\n",
            "Epoch 39/50\n",
            "4114/4114 [==============================] - 0s 10us/step - loss: 0.6591 - accuracy: 0.6245 - val_loss: 0.5799 - val_accuracy: 0.7085\n",
            "Epoch 40/50\n",
            "4114/4114 [==============================] - 0s 10us/step - loss: 0.6528 - accuracy: 0.6327 - val_loss: 0.5784 - val_accuracy: 0.7092\n",
            "Epoch 41/50\n",
            "4114/4114 [==============================] - 0s 11us/step - loss: 0.6668 - accuracy: 0.6259 - val_loss: 0.5764 - val_accuracy: 0.7077\n",
            "Epoch 42/50\n",
            "4114/4114 [==============================] - 0s 11us/step - loss: 0.6589 - accuracy: 0.6325 - val_loss: 0.5777 - val_accuracy: 0.7121\n",
            "Epoch 43/50\n",
            "4114/4114 [==============================] - 0s 10us/step - loss: 0.6623 - accuracy: 0.6254 - val_loss: 0.5722 - val_accuracy: 0.7041\n",
            "Epoch 44/50\n",
            "4114/4114 [==============================] - 0s 10us/step - loss: 0.6612 - accuracy: 0.6162 - val_loss: 0.5695 - val_accuracy: 0.6997\n",
            "Epoch 45/50\n",
            "4114/4114 [==============================] - 0s 10us/step - loss: 0.6645 - accuracy: 0.6220 - val_loss: 0.5699 - val_accuracy: 0.7055\n",
            "Epoch 46/50\n",
            "4114/4114 [==============================] - 0s 12us/step - loss: 0.6542 - accuracy: 0.6196 - val_loss: 0.5722 - val_accuracy: 0.7114\n",
            "Epoch 47/50\n",
            "4114/4114 [==============================] - 0s 13us/step - loss: 0.6626 - accuracy: 0.6108 - val_loss: 0.5706 - val_accuracy: 0.6968\n",
            "Epoch 48/50\n",
            "4114/4114 [==============================] - 0s 13us/step - loss: 0.6537 - accuracy: 0.6186 - val_loss: 0.5704 - val_accuracy: 0.6961\n",
            "Epoch 49/50\n",
            "4114/4114 [==============================] - 0s 11us/step - loss: 0.6530 - accuracy: 0.6196 - val_loss: 0.5719 - val_accuracy: 0.7055\n",
            "Epoch 50/50\n",
            "4114/4114 [==============================] - 0s 11us/step - loss: 0.6452 - accuracy: 0.6366 - val_loss: 0.5714 - val_accuracy: 0.7041\n"
          ],
          "name": "stdout"
        },
        {
          "output_type": "execute_result",
          "data": {
            "text/plain": [
              "<keras.callbacks.callbacks.History at 0x7f21d299ff98>"
            ]
          },
          "metadata": {
            "tags": []
          },
          "execution_count": 78
        }
      ]
    },
    {
      "cell_type": "code",
      "metadata": {
        "id": "Wyh7__gsW-Rp",
        "colab_type": "code",
        "outputId": "b4d40036-c394-45ba-d0dd-61d366a1600b",
        "colab": {
          "base_uri": "https://localhost:8080/",
          "height": 34
        }
      },
      "source": [
        "y_pred = dnn_model.predict_classes(x_test)\n",
        "accuracy_score(y_test,y_pred)"
      ],
      "execution_count": 79,
      "outputs": [
        {
          "output_type": "execute_result",
          "data": {
            "text/plain": [
              "0.7173318753417168"
            ]
          },
          "metadata": {
            "tags": []
          },
          "execution_count": 79
        }
      ]
    },
    {
      "cell_type": "code",
      "metadata": {
        "id": "Q4QsildPXpVj",
        "colab_type": "code",
        "outputId": "21e01f88-5bce-4aee-b96f-811af3d5e0ba",
        "colab": {
          "base_uri": "https://localhost:8080/",
          "height": 51
        }
      },
      "source": [
        "dnn_model.evaluate(x_test, y_test, verbose=1)"
      ],
      "execution_count": 80,
      "outputs": [
        {
          "output_type": "stream",
          "text": [
            "1829/1829 [==============================] - 0s 25us/step\n"
          ],
          "name": "stdout"
        },
        {
          "output_type": "execute_result",
          "data": {
            "text/plain": [
              "[0.5610398725775045, 0.7173318862915039]"
            ]
          },
          "metadata": {
            "tags": []
          },
          "execution_count": 80
        }
      ]
    }
  ]
}
