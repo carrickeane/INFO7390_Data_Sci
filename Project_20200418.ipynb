{
  "nbformat": 4,
  "nbformat_minor": 0,
  "metadata": {
    "colab": {
      "name": "Project-20200418.ipynb",
      "provenance": [],
      "collapsed_sections": [],
      "authorship_tag": "ABX9TyOxmoeIQyIIC+EyC9M4rd1u"
    },
    "kernelspec": {
      "name": "python3",
      "display_name": "Python 3"
    }
  },
  "cells": [
    {
      "cell_type": "markdown",
      "metadata": {
        "id": "CCIvffRHzv_E",
        "colab_type": "text"
      },
      "source": [
        "# Project"
      ]
    },
    {
      "cell_type": "markdown",
      "metadata": {
        "id": "rSMx0n7Tzry2",
        "colab_type": "text"
      },
      "source": [
        "### 1 Load Packages"
      ]
    },
    {
      "cell_type": "code",
      "metadata": {
        "id": "Q2jfJzJtAAPN",
        "colab_type": "code",
        "outputId": "91490f9d-14b9-4b57-d72b-a3c0fd601845",
        "colab": {
          "base_uri": "https://localhost:8080/",
          "height": 34
        }
      },
      "source": [
        "# ========================TensorFlow========================\n",
        "try:\n",
        "  # %tensorflow_version only exists in Colab.\n",
        "  %tensorflow_version 2.x\n",
        "except Exception:\n",
        "  pass\n",
        "\n",
        "import tensorflow as tf\n",
        "from tensorflow import keras\n",
        "print(tf.__version__)"
      ],
      "execution_count": 1,
      "outputs": [
        {
          "output_type": "stream",
          "text": [
            "2.2.0-rc3\n"
          ],
          "name": "stdout"
        }
      ]
    },
    {
      "cell_type": "code",
      "metadata": {
        "id": "V2Tg8mbar1BH",
        "colab_type": "code",
        "outputId": "cea65f41-d521-4fd9-b41b-939cc5ebff38",
        "colab": {
          "base_uri": "https://localhost:8080/",
          "height": 34
        }
      },
      "source": [
        "# ========================General========================\n",
        "import json\n",
        "import joblib\n",
        "import scipy\n",
        "import pandas as pd\n",
        "import numpy as np\n",
        "import requests\n",
        "# ignore warnings\n",
        "import warnings\n",
        "warnings.filterwarnings('ignore')\n",
        "# ========================Ploting========================\n",
        "import matplotlib as mpl\n",
        "from matplotlib import pyplot as plt\n",
        "import seaborn as sns\n",
        "%matplotlib inline\n",
        "# ========================Data Preprocessing========================\n",
        "from sklearn import preprocessing\n",
        "from sklearn.preprocessing import LabelEncoder\n",
        "from sklearn.preprocessing import MinMaxScaler\n",
        "from sklearn.model_selection import train_test_split\n",
        "from sklearn.decomposition import PCA\n",
        "# ========================Modeling========================\n",
        "from sklearn.neighbors import KNeighborsClassifier\n",
        "from sklearn.tree import DecisionTreeClassifier\n",
        "# ========================Evaluation========================\n",
        "from sklearn.model_selection import  cross_val_score\n",
        "from sklearn.model_selection import GridSearchCV\n",
        "from sklearn.metrics import mean_absolute_error, r2_score\n",
        "from sklearn.metrics import confusion_matrix, accuracy_score, matthews_corrcoef, f1_score\n",
        "# ========================Deep Learning========================\n",
        "# MLP\n",
        "from keras.models import Sequential\n",
        "from keras.layers import Dense, Activation, Dropout, AlphaDropout\n",
        "# ================================================"
      ],
      "execution_count": 2,
      "outputs": [
        {
          "output_type": "stream",
          "text": [
            "Using TensorFlow backend.\n"
          ],
          "name": "stderr"
        }
      ]
    },
    {
      "cell_type": "code",
      "metadata": {
        "id": "W7XkRMngiJDg",
        "colab_type": "code",
        "outputId": "de100056-7476-4592-c1b4-9d3aaf729773",
        "colab": {
          "base_uri": "https://localhost:8080/",
          "height": 34
        }
      },
      "source": [
        "from google.colab import drive\n",
        "drive.mount('/content/drive')"
      ],
      "execution_count": 3,
      "outputs": [
        {
          "output_type": "stream",
          "text": [
            "Drive already mounted at /content/drive; to attempt to forcibly remount, call drive.mount(\"/content/drive\", force_remount=True).\n"
          ],
          "name": "stdout"
        }
      ]
    },
    {
      "cell_type": "markdown",
      "metadata": {
        "id": "9NawEZ8ni5wm",
        "colab_type": "text"
      },
      "source": [
        "### 2 Load dataset"
      ]
    },
    {
      "cell_type": "code",
      "metadata": {
        "id": "HI0TA9aIsEzo",
        "colab_type": "code",
        "colab": {}
      },
      "source": [
        "# load movie\n",
        "def load_tmdb_movies(path):\n",
        "    df = pd.read_csv(path)\n",
        "    df = df[df.release_date.notnull()]\n",
        "    df = df[df.release_date.str.contains(\"^\\d{4}\\-\\d{2}.\")]\n",
        "    df = df[df.release_date>=\"1970-01-01\"]\n",
        "    df['release_year'] = pd.to_datetime(df['release_date']).apply(lambda x: int(x.year) if x==x else None)\n",
        "    df['release_month'] = pd.to_datetime(df['release_date']).apply(lambda x: int(x.month) if x==x else None)\n",
        "    json_columns = ['genres', 'keywords', 'production_countries', 'production_companies', 'spoken_languages']\n",
        "    for column in json_columns:\n",
        "        df[column] = df[column].apply(json.loads)\n",
        "    return df"
      ],
      "execution_count": 0,
      "outputs": []
    },
    {
      "cell_type": "code",
      "metadata": {
        "id": "okHCJC0lMbHp",
        "colab_type": "code",
        "colab": {}
      },
      "source": [
        "# load movie credits\n",
        "def load_tmdb_credits(path):\n",
        "    df = pd.read_csv(path)\n",
        "    json_columns = ['cast', 'crew']\n",
        "    for column in json_columns:\n",
        "        df[column] = df[column].apply(json.loads)\n",
        "    return df"
      ],
      "execution_count": 0,
      "outputs": []
    },
    {
      "cell_type": "code",
      "metadata": {
        "id": "r88fa-ACsGqo",
        "colab_type": "code",
        "colab": {}
      },
      "source": [
        "# Columns that existed in IMDB version of the dataset and are gone.\n",
        "LOST_COLUMNS = [\n",
        "    'actor_1_facebook_likes',\n",
        "    'actor_2_facebook_likes',\n",
        "    'actor_3_facebook_likes',\n",
        "    'aspect_ratio',\n",
        "    'cast_total_facebook_likes',\n",
        "    'color',\n",
        "    'content_rating',\n",
        "    'director_facebook_likes',\n",
        "    'facenumber_in_poster',\n",
        "    'movie_facebook_likes',\n",
        "    'movie_imdb_link',\n",
        "    'num_critic_for_reviews',\n",
        "    'num_user_for_reviews']\n",
        "\n",
        "# Columns in TMDb that had direct equivalents in the IMDB version. \n",
        "# These columns can be used with old kernels just by changing the names\n",
        "TMDB_TO_IMDB_SIMPLE_EQUIVALENCIES = {\n",
        "    'budget': 'budget',\n",
        "    'genres': 'genres',\n",
        "    'revenue': 'box_office',\n",
        "    'title': 'movie_title',\n",
        "    'runtime': 'duration',\n",
        "    'original_language': 'language',  # it's possible that spoken_languages would be a better match\n",
        "    'keywords': 'plot_keywords',\n",
        "    'vote_count': 'num_voted_users'}\n",
        "\n",
        "IMDB_COLUMNS_TO_REMAP = {'imdb_score': 'vote_average'}\n",
        "\n",
        "\n",
        "def safe_access(container, index_values):\n",
        "    # return a missing value rather than an error upon indexing/key failure\n",
        "    result = container\n",
        "    try:\n",
        "        for idx in index_values:\n",
        "            result = result[idx]\n",
        "        return result\n",
        "    except IndexError or KeyError:\n",
        "        return pd.np.nan\n",
        "\n",
        "\n",
        "def get_director(crew_data):\n",
        "    directors = [x['name'] for x in crew_data if x['job'] == 'Director']\n",
        "    return safe_access(directors, [0])\n",
        "\n",
        "\n",
        "def pipe_flatten_names(keywords):\n",
        "    return '|'.join([x['name'] for x in keywords])\n",
        "\n",
        "\n",
        "def convert_to_original_format(movies, credits):\n",
        "    # Converts TMDb data to make it as compatible as possible with kernels built on the original version of the data.\n",
        "    tmdb_movies = movies.copy()\n",
        "    tmdb_movies.rename(columns=TMDB_TO_IMDB_SIMPLE_EQUIVALENCIES, inplace=True)\n",
        "    # I'm assuming that the first production country is equivalent, but have not been able to validate this\n",
        "    tmdb_movies['country'] = tmdb_movies['production_countries'].apply(lambda x: safe_access(x, [0, 'name']))\n",
        "    tmdb_movies['language'] = tmdb_movies['spoken_languages'].apply(lambda x: safe_access(x, [0, 'name']))\n",
        "    tmdb_movies['director_name'] = credits['crew'].apply(get_director)\n",
        "    tmdb_movies['actor_1_name'] = credits['cast'].apply(lambda x: safe_access(x, [0, 'name']))\n",
        "    tmdb_movies['actor_2_name'] = credits['cast'].apply(lambda x: safe_access(x, [1, 'name']))\n",
        "    tmdb_movies['actor_3_name'] = credits['cast'].apply(lambda x: safe_access(x, [2, 'name']))\n",
        "    tmdb_movies['companies_1'] = tmdb_movies['production_companies'].apply(lambda x: safe_access(x, [0, 'name']))\n",
        "    tmdb_movies['companies_2'] = tmdb_movies['production_companies'].apply(lambda x: safe_access(x, [1, 'name']))\n",
        "    tmdb_movies['companies_3'] = tmdb_movies['production_companies'].apply(lambda x: safe_access(x, [2, 'name']))\n",
        "    tmdb_movies['genres'] = tmdb_movies['genres'].apply(pipe_flatten_names)\n",
        "    tmdb_movies['plot_keywords'] = tmdb_movies['plot_keywords'].apply(pipe_flatten_names)\n",
        "    return tmdb_movies"
      ],
      "execution_count": 0,
      "outputs": []
    },
    {
      "cell_type": "code",
      "metadata": {
        "id": "kLWt5CLTitTJ",
        "colab_type": "code",
        "colab": {}
      },
      "source": [
        "# link to raw data: https://drive.google.com/file/d/19C8m6CwRu9I-eydnTbp4gPCp_eeFMb7t/view\n",
        "movies_path = '/content/drive/My Drive/Colab Notebooks/NEU-7390 Advances Data Sci Architecture/movie_data.csv'\n",
        "# link to raw data: https://drive.google.com/file/d/1mnH9UaaXZ-gP3At0Q2Qus-Gz0EJOqiYx/view\n",
        "credits_path = '/content/drive/My Drive/Colab Notebooks/NEU-7390 Advances Data Sci Architecture/movie_credits.csv'"
      ],
      "execution_count": 0,
      "outputs": []
    },
    {
      "cell_type": "code",
      "metadata": {
        "id": "Wee6OKqQoGZ7",
        "colab_type": "code",
        "colab": {}
      },
      "source": [
        "movies = load_tmdb_movies(movies_path)\n",
        "credits = load_tmdb_credits(credits_path)\n",
        "raw_data =convert_to_original_format(movies, credits)"
      ],
      "execution_count": 0,
      "outputs": []
    },
    {
      "cell_type": "markdown",
      "metadata": {
        "id": "HmxT6iObAA-2",
        "colab_type": "text"
      },
      "source": [
        "### 3 Data Preprocessing\n",
        "*   Handling Missing Values\n",
        "*   Drop Duplication Values\n",
        "*   Drop Outliers"
      ]
    },
    {
      "cell_type": "markdown",
      "metadata": {
        "id": "09mKqm1h0267",
        "colab_type": "text"
      },
      "source": [
        "#### 3.1 Handling Missing Values"
      ]
    },
    {
      "cell_type": "code",
      "metadata": {
        "id": "I3OUFK6GPdyq",
        "colab_type": "code",
        "outputId": "51993897-6b9a-47c5-d1d4-8b261aa084c8",
        "colab": {
          "base_uri": "https://localhost:8080/",
          "height": 202
        }
      },
      "source": [
        "raw_data.head(1)"
      ],
      "execution_count": 9,
      "outputs": [
        {
          "output_type": "execute_result",
          "data": {
            "text/html": [
              "<div>\n",
              "<style scoped>\n",
              "    .dataframe tbody tr th:only-of-type {\n",
              "        vertical-align: middle;\n",
              "    }\n",
              "\n",
              "    .dataframe tbody tr th {\n",
              "        vertical-align: top;\n",
              "    }\n",
              "\n",
              "    .dataframe thead th {\n",
              "        text-align: right;\n",
              "    }\n",
              "</style>\n",
              "<table border=\"1\" class=\"dataframe\">\n",
              "  <thead>\n",
              "    <tr style=\"text-align: right;\">\n",
              "      <th></th>\n",
              "      <th>budget</th>\n",
              "      <th>genres</th>\n",
              "      <th>homepage</th>\n",
              "      <th>id</th>\n",
              "      <th>plot_keywords</th>\n",
              "      <th>language</th>\n",
              "      <th>original_title</th>\n",
              "      <th>overview</th>\n",
              "      <th>popularity</th>\n",
              "      <th>production_companies</th>\n",
              "      <th>production_countries</th>\n",
              "      <th>release_date</th>\n",
              "      <th>box_office</th>\n",
              "      <th>duration</th>\n",
              "      <th>spoken_languages</th>\n",
              "      <th>status</th>\n",
              "      <th>tagline</th>\n",
              "      <th>movie_title</th>\n",
              "      <th>vote_average</th>\n",
              "      <th>num_voted_users</th>\n",
              "      <th>release_year</th>\n",
              "      <th>release_month</th>\n",
              "      <th>country</th>\n",
              "      <th>director_name</th>\n",
              "      <th>actor_1_name</th>\n",
              "      <th>actor_2_name</th>\n",
              "      <th>actor_3_name</th>\n",
              "      <th>companies_1</th>\n",
              "      <th>companies_2</th>\n",
              "      <th>companies_3</th>\n",
              "    </tr>\n",
              "  </thead>\n",
              "  <tbody>\n",
              "    <tr>\n",
              "      <th>3</th>\n",
              "      <td>0</td>\n",
              "      <td>Comedy</td>\n",
              "      <td>NaN</td>\n",
              "      <td>21624</td>\n",
              "      <td></td>\n",
              "      <td>NaN</td>\n",
              "      <td>Jatts in Golmaal</td>\n",
              "      <td>Jatts in Golmal is an Comedy based movie. In w...</td>\n",
              "      <td>0.6</td>\n",
              "      <td>[]</td>\n",
              "      <td>[]</td>\n",
              "      <td>2003-02-21</td>\n",
              "      <td>0.0</td>\n",
              "      <td>NaN</td>\n",
              "      <td>[]</td>\n",
              "      <td>Released</td>\n",
              "      <td>NaN</td>\n",
              "      <td>Jatts in Golmaal</td>\n",
              "      <td>0.0</td>\n",
              "      <td>0.0</td>\n",
              "      <td>2003</td>\n",
              "      <td>2</td>\n",
              "      <td>NaN</td>\n",
              "      <td>NaN</td>\n",
              "      <td>NaN</td>\n",
              "      <td>NaN</td>\n",
              "      <td>NaN</td>\n",
              "      <td>NaN</td>\n",
              "      <td>NaN</td>\n",
              "      <td>NaN</td>\n",
              "    </tr>\n",
              "  </tbody>\n",
              "</table>\n",
              "</div>"
            ],
            "text/plain": [
              "  budget  genres homepage  ... companies_1 companies_2 companies_3\n",
              "3      0  Comedy      NaN  ...         NaN         NaN         NaN\n",
              "\n",
              "[1 rows x 30 columns]"
            ]
          },
          "metadata": {
            "tags": []
          },
          "execution_count": 9
        }
      ]
    },
    {
      "cell_type": "code",
      "metadata": {
        "id": "qNxNxwyJCWCv",
        "colab_type": "code",
        "colab": {}
      },
      "source": [
        "def missing_value_table(df):\n",
        "    total_missing = df.isnull().sum().sort_values(ascending=False)\n",
        "    percent = round(((df.isnull().sum()/len(df))*100),2).sort_values(ascending=False)\n",
        "    missing_data = pd.concat([total_missing, percent], axis=1, keys=['total Missing', 'Percent(%)'])\n",
        "    print(\"=====Missing Value Check Table(only list not 0% column)=====\")\n",
        "    print(missing_data[missing_data['Percent(%)'] != 0])\n",
        "    if missing_data[missing_data['Percent(%)'] != 0].shape[0] == 0:\n",
        "        print(\"=====No Missing Value in Data after Checking=====\")"
      ],
      "execution_count": 0,
      "outputs": []
    },
    {
      "cell_type": "code",
      "metadata": {
        "id": "uL6K4OmGCdbX",
        "colab_type": "code",
        "outputId": "80fbe323-a6b7-4c56-bc59-8c2a75ae3f45",
        "colab": {
          "base_uri": "https://localhost:8080/",
          "height": 272
        }
      },
      "source": [
        "missing_value_table(raw_data)"
      ],
      "execution_count": 11,
      "outputs": [
        {
          "output_type": "stream",
          "text": [
            "=====Missing Value Check Table(only list not 0% column)=====\n",
            "               total Missing  Percent(%)\n",
            "homepage               36258       84.18\n",
            "companies_3            35398       82.18\n",
            "actor_3_name           29391       68.24\n",
            "actor_2_name           29179       67.74\n",
            "director_name          29042       67.43\n",
            "companies_2            28811       66.89\n",
            "actor_1_name           28747       66.74\n",
            "tagline                27682       64.27\n",
            "companies_1            16102       37.38\n",
            "country                 8171       18.97\n",
            "language                5137       11.93\n",
            "overview                1906        4.43\n",
            "duration                 346        0.80\n"
          ],
          "name": "stdout"
        }
      ]
    },
    {
      "cell_type": "code",
      "metadata": {
        "id": "yWGYpxH6k6DX",
        "colab_type": "code",
        "colab": {}
      },
      "source": [
        "# drop homepage & tagline, which are useless and also have many missing values\n",
        "raw_data.drop(['homepage','tagline'], axis=1, inplace=True)"
      ],
      "execution_count": 0,
      "outputs": []
    },
    {
      "cell_type": "markdown",
      "metadata": {
        "id": "4qMrd1gO1FT-",
        "colab_type": "text"
      },
      "source": [
        "#### 3.2 Drop Duplication Values and Unseen Features"
      ]
    },
    {
      "cell_type": "code",
      "metadata": {
        "id": "6Rof3hdTmKhc",
        "colab_type": "code",
        "colab": {}
      },
      "source": [
        "# Drop Duplication Values\n",
        "drop_duplicates_subset = ('budget', 'genres', 'id', 'plot_keywords', 'language', 'original_title','overview', 'popularity','release_date', 'box_office', 'duration','status','movie_title','vote_average','num_voted_users')\n",
        "raw_data.drop_duplicates(subset=drop_duplicates_subset, keep='first', inplace=True)"
      ],
      "execution_count": 0,
      "outputs": []
    },
    {
      "cell_type": "code",
      "metadata": {
        "id": "pgDmAxdNmKmm",
        "colab_type": "code",
        "colab": {}
      },
      "source": [
        "# Drop features that only know after movie release, 'box_office' column will be dropped later after define the success of each movie\n",
        "raw_data.drop(['num_voted_users', 'popularity'], axis=1, inplace=True)"
      ],
      "execution_count": 0,
      "outputs": []
    },
    {
      "cell_type": "code",
      "metadata": {
        "id": "DJ5JAJpouebc",
        "colab_type": "code",
        "outputId": "f97c7f3f-9fb3-4c32-e251-13237520ea0b",
        "colab": {
          "base_uri": "https://localhost:8080/",
          "height": 496
        }
      },
      "source": [
        "# Correlation matrix between numerical values\n",
        "plt.figure(figsize = (15,8))\n",
        "g = sns.heatmap(raw_data[list(raw_data)].corr(),annot=True, fmt = \".2f\", cmap = \"coolwarm\",linewidths= 0.01)"
      ],
      "execution_count": 15,
      "outputs": [
        {
          "output_type": "display_data",
          "data": {
            "image/png": "[encoded data removed]",
            "text/plain": [
              "<Figure size 1080x576 with 2 Axes>"
            ]
          },
          "metadata": {
            "tags": [],
            "needs_background": "light"
          }
        }
      ]
    },
    {
      "cell_type": "markdown",
      "metadata": {
        "id": "oOwKUo4d0yGm",
        "colab_type": "text"
      },
      "source": [
        "#### 3.3 Drop Outliers"
      ]
    },
    {
      "cell_type": "code",
      "metadata": {
        "id": "JfbZ3Q7SnGqy",
        "colab_type": "code",
        "colab": {
          "base_uri": "https://localhost:8080/",
          "height": 280
        },
        "outputId": "9b12bdbf-f1a7-4e14-d968-6de8ee739799"
      },
      "source": [
        "# Plot the histgram of vote_average\n",
        "plt.figure(figsize=(10, 4))\n",
        "sns.set_style('darkgrid')\n",
        "sns.distplot(raw_data.vote_average, kde=True)\n",
        "plt.show()"
      ],
      "execution_count": 16,
      "outputs": [
        {
          "output_type": "display_data",
          "data": {
            "image/png": "[encoded data removed]",
            "text/plain": [
              "<Figure size 720x288 with 1 Axes>"
            ]
          },
          "metadata": {
            "tags": [],
            "needs_background": "light"
          }
        }
      ]
    },
    {
      "cell_type": "code",
      "metadata": {
        "id": "CKJ36hZkueln",
        "colab_type": "code",
        "outputId": "920168b3-b277-4a69-c112-8ed198072618",
        "colab": {
          "base_uri": "https://localhost:8080/",
          "height": 51
        }
      },
      "source": [
        "# Drop rows in dataset containing 0 and below vote average\n",
        "before_rows = len(raw_data)\n",
        "raw_data = raw_data[raw_data['vote_average'] > 0]\n",
        "print('Delete {} rows;\\nCurrent Total rows: {}'.format(before_rows-len(raw_data), len(raw_data)))"
      ],
      "execution_count": 17,
      "outputs": [
        {
          "output_type": "stream",
          "text": [
            "Delete 4915 rows;\n",
            "Current Total rows: 38157\n"
          ],
          "name": "stdout"
        }
      ]
    },
    {
      "cell_type": "code",
      "metadata": {
        "id": "ad7mLd7bueql",
        "colab_type": "code",
        "outputId": "0d2bac7f-7195-472f-d31a-44070d66cc9d",
        "colab": {
          "base_uri": "https://localhost:8080/",
          "height": 280
        }
      },
      "source": [
        "# After dropping outliers, the distribution of vote average(blue line) is more like normal distribution(black line)\n",
        "plt.figure(figsize=(10, 4))\n",
        "sns.set_style('darkgrid')\n",
        "sns.distplot(raw_data.vote_average,fit=scipy.stats.norm, kde=True)\n",
        "plt.show()"
      ],
      "execution_count": 18,
      "outputs": [
        {
          "output_type": "display_data",
          "data": {
            "image/png": "[encoded data removed]",
            "text/plain": [
              "<Figure size 720x288 with 1 Axes>"
            ]
          },
          "metadata": {
            "tags": []
          }
        }
      ]
    },
    {
      "cell_type": "code",
      "metadata": {
        "id": "e1Gvb_m4uevH",
        "colab_type": "code",
        "outputId": "502e9bed-2af6-4e2c-c3ed-bbe1b252b90f",
        "colab": {
          "base_uri": "https://localhost:8080/",
          "height": 279
        }
      },
      "source": [
        "# Plot the histgram of duration\n",
        "plt.figure(figsize=(10, 4))\n",
        "sns.set_style('darkgrid')\n",
        "sns.distplot(raw_data.duration, kde=True)\n",
        "plt.show()"
      ],
      "execution_count": 19,
      "outputs": [
        {
          "output_type": "display_data",
          "data": {
            "image/png": "[encoded data removed]",
            "text/plain": [
              "<Figure size 720x288 with 1 Axes>"
            ]
          },
          "metadata": {
            "tags": []
          }
        }
      ]
    },
    {
      "cell_type": "code",
      "metadata": {
        "id": "1r1lgwFk75EY",
        "colab_type": "code",
        "outputId": "9bedf8b5-d3ad-4e05-e6b0-f0992a00d8f9",
        "colab": {
          "base_uri": "https://localhost:8080/",
          "height": 51
        }
      },
      "source": [
        "# Based on common sence, duration of a movie is between 90-120 mins, duration < 10 or duration > 300 is unlikely possible\n",
        "# Drop rows in dataset of which duration > 10 and duration < 300\n",
        "before_rows = len(raw_data)\n",
        "raw_data = raw_data[10 < raw_data['duration']]\n",
        "raw_data = raw_data[raw_data['duration'] < 300]\n",
        "print('Delete {} rows;\\nCurrent Total rows: {}'.format(before_rows-len(raw_data), len(raw_data)))"
      ],
      "execution_count": 20,
      "outputs": [
        {
          "output_type": "stream",
          "text": [
            "Delete 2604 rows;\n",
            "Current Total rows: 35553\n"
          ],
          "name": "stdout"
        }
      ]
    },
    {
      "cell_type": "code",
      "metadata": {
        "id": "-6ZUR32I1wEY",
        "colab_type": "code",
        "outputId": "f0b8cf16-5118-4cd4-c065-ef401c1eee3e",
        "colab": {
          "base_uri": "https://localhost:8080/",
          "height": 279
        }
      },
      "source": [
        "# After dropping outliers, the distribution of vote average(blue line) is more like normal distribution(black line)\n",
        "plt.figure(figsize=(10, 4))\n",
        "sns.set_style('darkgrid')\n",
        "sns.distplot(raw_data.duration,fit=scipy.stats.norm, kde=True)\n",
        "plt.show()"
      ],
      "execution_count": 21,
      "outputs": [
        {
          "output_type": "display_data",
          "data": {
            "image/png": "[encoded data removed]",
            "text/plain": [
              "<Figure size 720x288 with 1 Axes>"
            ]
          },
          "metadata": {
            "tags": []
          }
        }
      ]
    },
    {
      "cell_type": "code",
      "metadata": {
        "id": "ocpFbVWODF3r",
        "colab_type": "code",
        "outputId": "81a3daf7-dc38-4fc4-9352-8d58f7f660a9",
        "colab": {
          "base_uri": "https://localhost:8080/",
          "height": 221
        }
      },
      "source": [
        "missing_value_table(raw_data)"
      ],
      "execution_count": 22,
      "outputs": [
        {
          "output_type": "stream",
          "text": [
            "=====Missing Value Check Table(only list not 0% column)=====\n",
            "               total Missing  Percent(%)\n",
            "companies_3            28037       78.86\n",
            "actor_3_name           22693       63.83\n",
            "actor_2_name           22547       63.42\n",
            "director_name          22325       62.79\n",
            "actor_1_name           22214       62.48\n",
            "companies_2            21786       61.28\n",
            "companies_1            10498       29.53\n",
            "country                 4629       13.02\n",
            "language                2349        6.61\n",
            "overview                 522        1.47\n"
          ],
          "name": "stdout"
        }
      ]
    },
    {
      "cell_type": "markdown",
      "metadata": {
        "id": "klKeD8Od8SL4",
        "colab_type": "text"
      },
      "source": [
        "### 4 Data Wrangling: Define a movie is successful or unsuccessful and edit features\n",
        "*   Define Label\n",
        "*   Budget\n",
        "*   Release Year\n",
        "*   Duration\n",
        "*   Genres\n",
        "*   Director\n",
        "*   Company"
      ]
    },
    {
      "cell_type": "markdown",
      "metadata": {
        "id": "s3U2hbA0HFi3",
        "colab_type": "text"
      },
      "source": [
        "#### 4.1 Define Label"
      ]
    },
    {
      "cell_type": "code",
      "metadata": {
        "id": "-gtoSahN9syZ",
        "colab_type": "code",
        "outputId": "e449c22f-3de4-4c5a-82b1-3478e24eab15",
        "colab": {
          "base_uri": "https://localhost:8080/",
          "height": 136
        }
      },
      "source": [
        "# Total columns fot dataset\n",
        "raw_data.columns"
      ],
      "execution_count": 23,
      "outputs": [
        {
          "output_type": "execute_result",
          "data": {
            "text/plain": [
              "Index(['budget', 'genres', 'id', 'plot_keywords', 'language', 'original_title',\n",
              "       'overview', 'production_companies', 'production_countries',\n",
              "       'release_date', 'box_office', 'duration', 'spoken_languages', 'status',\n",
              "       'movie_title', 'vote_average', 'release_year', 'release_month',\n",
              "       'country', 'director_name', 'actor_1_name', 'actor_2_name',\n",
              "       'actor_3_name', 'companies_1', 'companies_2', 'companies_3'],\n",
              "      dtype='object')"
            ]
          },
          "metadata": {
            "tags": []
          },
          "execution_count": 23
        }
      ]
    },
    {
      "cell_type": "code",
      "metadata": {
        "id": "3JXIP3Kq7oD9",
        "colab_type": "code",
        "outputId": "011ff3fd-bd1b-4bf5-afed-0c4422220964",
        "colab": {
          "base_uri": "https://localhost:8080/",
          "height": 390
        }
      },
      "source": [
        "raw_data.budget = raw_data.budget.astype(float)\n",
        "raw_data.describe(percentiles=[.10,.25,.5,.75,.9,.99])"
      ],
      "execution_count": 24,
      "outputs": [
        {
          "output_type": "execute_result",
          "data": {
            "text/html": [
              "<div>\n",
              "<style scoped>\n",
              "    .dataframe tbody tr th:only-of-type {\n",
              "        vertical-align: middle;\n",
              "    }\n",
              "\n",
              "    .dataframe tbody tr th {\n",
              "        vertical-align: top;\n",
              "    }\n",
              "\n",
              "    .dataframe thead th {\n",
              "        text-align: right;\n",
              "    }\n",
              "</style>\n",
              "<table border=\"1\" class=\"dataframe\">\n",
              "  <thead>\n",
              "    <tr style=\"text-align: right;\">\n",
              "      <th></th>\n",
              "      <th>budget</th>\n",
              "      <th>box_office</th>\n",
              "      <th>duration</th>\n",
              "      <th>vote_average</th>\n",
              "      <th>release_year</th>\n",
              "      <th>release_month</th>\n",
              "    </tr>\n",
              "  </thead>\n",
              "  <tbody>\n",
              "    <tr>\n",
              "      <th>count</th>\n",
              "      <td>3.555300e+04</td>\n",
              "      <td>3.555300e+04</td>\n",
              "      <td>35553.000000</td>\n",
              "      <td>35553.000000</td>\n",
              "      <td>35553.000000</td>\n",
              "      <td>35553.000000</td>\n",
              "    </tr>\n",
              "    <tr>\n",
              "      <th>mean</th>\n",
              "      <td>4.276101e+06</td>\n",
              "      <td>1.092765e+07</td>\n",
              "      <td>98.032346</td>\n",
              "      <td>5.912713</td>\n",
              "      <td>1998.542008</td>\n",
              "      <td>6.291733</td>\n",
              "    </tr>\n",
              "    <tr>\n",
              "      <th>std</th>\n",
              "      <td>1.688069e+07</td>\n",
              "      <td>6.008564e+07</td>\n",
              "      <td>26.437635</td>\n",
              "      <td>1.369054</td>\n",
              "      <td>11.226147</td>\n",
              "      <td>3.701844</td>\n",
              "    </tr>\n",
              "    <tr>\n",
              "      <th>min</th>\n",
              "      <td>0.000000e+00</td>\n",
              "      <td>0.000000e+00</td>\n",
              "      <td>11.000000</td>\n",
              "      <td>0.500000</td>\n",
              "      <td>1970.000000</td>\n",
              "      <td>1.000000</td>\n",
              "    </tr>\n",
              "    <tr>\n",
              "      <th>10%</th>\n",
              "      <td>0.000000e+00</td>\n",
              "      <td>0.000000e+00</td>\n",
              "      <td>75.000000</td>\n",
              "      <td>4.100000</td>\n",
              "      <td>1980.000000</td>\n",
              "      <td>1.000000</td>\n",
              "    </tr>\n",
              "    <tr>\n",
              "      <th>25%</th>\n",
              "      <td>0.000000e+00</td>\n",
              "      <td>0.000000e+00</td>\n",
              "      <td>87.000000</td>\n",
              "      <td>5.200000</td>\n",
              "      <td>1992.000000</td>\n",
              "      <td>3.000000</td>\n",
              "    </tr>\n",
              "    <tr>\n",
              "      <th>50%</th>\n",
              "      <td>0.000000e+00</td>\n",
              "      <td>0.000000e+00</td>\n",
              "      <td>95.000000</td>\n",
              "      <td>6.000000</td>\n",
              "      <td>2003.000000</td>\n",
              "      <td>6.000000</td>\n",
              "    </tr>\n",
              "    <tr>\n",
              "      <th>75%</th>\n",
              "      <td>0.000000e+00</td>\n",
              "      <td>0.000000e+00</td>\n",
              "      <td>107.000000</td>\n",
              "      <td>6.800000</td>\n",
              "      <td>2007.000000</td>\n",
              "      <td>10.000000</td>\n",
              "    </tr>\n",
              "    <tr>\n",
              "      <th>90%</th>\n",
              "      <td>9.000000e+06</td>\n",
              "      <td>1.052400e+07</td>\n",
              "      <td>125.000000</td>\n",
              "      <td>7.400000</td>\n",
              "      <td>2010.000000</td>\n",
              "      <td>11.000000</td>\n",
              "    </tr>\n",
              "    <tr>\n",
              "      <th>99%</th>\n",
              "      <td>8.448000e+07</td>\n",
              "      <td>2.609950e+08</td>\n",
              "      <td>182.000000</td>\n",
              "      <td>9.000000</td>\n",
              "      <td>2011.000000</td>\n",
              "      <td>12.000000</td>\n",
              "    </tr>\n",
              "    <tr>\n",
              "      <th>max</th>\n",
              "      <td>3.800000e+08</td>\n",
              "      <td>2.787965e+09</td>\n",
              "      <td>298.000000</td>\n",
              "      <td>10.000000</td>\n",
              "      <td>2020.000000</td>\n",
              "      <td>12.000000</td>\n",
              "    </tr>\n",
              "  </tbody>\n",
              "</table>\n",
              "</div>"
            ],
            "text/plain": [
              "             budget    box_office  ...  release_year  release_month\n",
              "count  3.555300e+04  3.555300e+04  ...  35553.000000   35553.000000\n",
              "mean   4.276101e+06  1.092765e+07  ...   1998.542008       6.291733\n",
              "std    1.688069e+07  6.008564e+07  ...     11.226147       3.701844\n",
              "min    0.000000e+00  0.000000e+00  ...   1970.000000       1.000000\n",
              "10%    0.000000e+00  0.000000e+00  ...   1980.000000       1.000000\n",
              "25%    0.000000e+00  0.000000e+00  ...   1992.000000       3.000000\n",
              "50%    0.000000e+00  0.000000e+00  ...   2003.000000       6.000000\n",
              "75%    0.000000e+00  0.000000e+00  ...   2007.000000      10.000000\n",
              "90%    9.000000e+06  1.052400e+07  ...   2010.000000      11.000000\n",
              "99%    8.448000e+07  2.609950e+08  ...   2011.000000      12.000000\n",
              "max    3.800000e+08  2.787965e+09  ...   2020.000000      12.000000\n",
              "\n",
              "[11 rows x 6 columns]"
            ]
          },
          "metadata": {
            "tags": []
          },
          "execution_count": 24
        }
      ]
    },
    {
      "cell_type": "markdown",
      "metadata": {
        "id": "pEeU--BJysHo",
        "colab_type": "text"
      },
      "source": [
        "Based on our [research](https://io9.gizmodo.com/how-much-money-does-a-movie-need-to-make-to-be-profitab-5747305), we assume that the box office of a profitable movie is two times more than its budget.\n",
        "\n",
        "For this project, successful movies is a movie which got vote_score more than vote_score mean and get box office two times more than budget."
      ]
    },
    {
      "cell_type": "code",
      "metadata": {
        "id": "eFw-EyHxzTru",
        "colab_type": "code",
        "colab": {}
      },
      "source": [
        "vote_score_mean = raw_data['vote_average'].mean()\n",
        "raw_data['box/budget'] = raw_data['box_office']/raw_data['budget']\n",
        "raw_data['success'] = raw_data['vote_average'].map(lambda s :1  if s > vote_score_mean else 0)\n",
        "raw_data['success'] = raw_data['box/budget'].map(lambda s :1  if s > 2 else 0)"
      ],
      "execution_count": 0,
      "outputs": []
    },
    {
      "cell_type": "code",
      "metadata": {
        "id": "3YaFV3Ba9s7K",
        "colab_type": "code",
        "outputId": "3a5e274b-0b9d-4be3-fde0-1c0b0e7d5030",
        "colab": {
          "base_uri": "https://localhost:8080/",
          "height": 303
        }
      },
      "source": [
        "# Data to plot\n",
        "plt.figure(figsize=(5,5))\n",
        "labels = [\"Unsuccess\",\"Success\"]\n",
        "sizes = raw_data['success'].value_counts(sort=False)\n",
        "explode = (0.1,0)  # explode 1st slice\n",
        "# Plot\n",
        "plt.pie(sizes, explode=explode, labels=labels, autopct='%1.1f%%', shadow=True, startangle=140)\n",
        "plt.axis('equal')\n",
        "plt.show()"
      ],
      "execution_count": 26,
      "outputs": [
        {
          "output_type": "display_data",
          "data": {
            "image/png": "[encoded data removed]",
            "text/plain": [
              "<Figure size 360x360 with 1 Axes>"
            ]
          },
          "metadata": {
            "tags": []
          }
        }
      ]
    },
    {
      "cell_type": "code",
      "metadata": {
        "id": "ueZSVTZ9tHjA",
        "colab_type": "code",
        "colab": {}
      },
      "source": [
        "# Drop 'gross','box/budget' after define the success of each movie\n",
        "raw_data.drop(['box/budget', 'box_office'], axis=1, inplace=True)"
      ],
      "execution_count": 0,
      "outputs": []
    },
    {
      "cell_type": "markdown",
      "metadata": {
        "id": "_rQJlv0hHdQM",
        "colab_type": "text"
      },
      "source": [
        "#### 4.2 Budget"
      ]
    },
    {
      "cell_type": "code",
      "metadata": {
        "id": "n636RM9nXlLe",
        "colab_type": "code",
        "colab": {}
      },
      "source": [
        "raw_data.budget=raw_data.budget.astype(int)"
      ],
      "execution_count": 0,
      "outputs": []
    },
    {
      "cell_type": "code",
      "metadata": {
        "id": "7ERdEFLeOUKw",
        "colab_type": "code",
        "outputId": "98f30183-467f-46c3-c9c1-59940b9a46c1",
        "colab": {
          "base_uri": "https://localhost:8080/",
          "height": 290
        }
      },
      "source": [
        "# budget distibution\n",
        "g = sns.kdeplot(raw_data.budget[(raw_data[\"success\"] == 0) ], shade = True)\n",
        "g = sns.kdeplot(raw_data.budget[(raw_data[\"success\"] == 1) ], shade= True)\n",
        "g.set_xlabel(\"budget\")\n",
        "g.set_ylabel(\"Frequency\")\n",
        "g = g.legend([\"Unsuccess\",\"Success\"])"
      ],
      "execution_count": 29,
      "outputs": [
        {
          "output_type": "display_data",
          "data": {
            "image/png": "[encoded data removed]",
            "text/plain": [
              "<Figure size 432x288 with 1 Axes>"
            ]
          },
          "metadata": {
            "tags": []
          }
        }
      ]
    },
    {
      "cell_type": "code",
      "metadata": {
        "id": "YLyT46DbHfzo",
        "colab_type": "code",
        "outputId": "a6d8f92a-83be-4bc0-87f3-e1bfe0f2e932",
        "colab": {
          "base_uri": "https://localhost:8080/",
          "height": 290
        }
      },
      "source": [
        "# Non-zero budget distibution\n",
        "g = sns.kdeplot(raw_data.budget[raw_data.budget>0][(raw_data[\"success\"] == 0)], shade = True)\n",
        "g = sns.kdeplot(raw_data.budget[raw_data.budget>0][(raw_data[\"success\"] == 1)], shade= True)\n",
        "g.set_xlabel(\"budget\")\n",
        "g.set_ylabel(\"Frequency\")\n",
        "g = g.legend([\"Unsuccess\",\"Success\"])"
      ],
      "execution_count": 30,
      "outputs": [
        {
          "output_type": "display_data",
          "data": {
            "image/png": "[encoded data removed]",
            "text/plain": [
              "<Figure size 432x288 with 1 Axes>"
            ]
          },
          "metadata": {
            "tags": []
          }
        }
      ]
    },
    {
      "cell_type": "code",
      "metadata": {
        "id": "2be0y2gluMWt",
        "colab_type": "code",
        "outputId": "970a608d-a52b-4ddc-8e96-21c2b8c29fb6",
        "colab": {
          "base_uri": "https://localhost:8080/",
          "height": 34
        }
      },
      "source": [
        "print(\"Percent of zero budget: {}%\".format(round((raw_data.budget==0).sum()/len(raw_data)*100, 2)))"
      ],
      "execution_count": 31,
      "outputs": [
        {
          "output_type": "stream",
          "text": [
            "Percent of zero budget: 79.44%\n"
          ],
          "name": "stdout"
        }
      ]
    },
    {
      "cell_type": "code",
      "metadata": {
        "id": "BS4OKDrjt5zd",
        "colab_type": "code",
        "outputId": "586d0a32-9f2e-4d73-9b1e-e98cf57bfa1e",
        "colab": {
          "base_uri": "https://localhost:8080/",
          "height": 51
        }
      },
      "source": [
        "# Based on common sence, no moive can be made with zero budget. So drop rows with zero budget\n",
        "before_rows = len(raw_data)\n",
        "raw_data = raw_data[raw_data.budget!=0]\n",
        "print('Delete {} rows;\\nCurrent rows: {}'.format(before_rows-len(raw_data), len(raw_data)))"
      ],
      "execution_count": 32,
      "outputs": [
        {
          "output_type": "stream",
          "text": [
            "Delete 28243 rows;\n",
            "Current rows: 7310\n"
          ],
          "name": "stdout"
        }
      ]
    },
    {
      "cell_type": "code",
      "metadata": {
        "id": "7wu7kFHDJlyo",
        "colab_type": "code",
        "colab": {}
      },
      "source": [
        "# The Q1,Q2(median),Q3,95% of budget of non-zero movies\n",
        "non_zero_budget_Q1 = raw_data.budget[raw_data.budget>0].quantile(0.25)\n",
        "non_zero_budget_median = raw_data.budget[raw_data.budget>0].quantile(0.5)\n",
        "non_zero_budget_Q3 = raw_data.budget[raw_data.budget>0].quantile(0.75)\n",
        "non_zero_budget_95 = raw_data.budget[raw_data.budget>0].quantile(0.95)"
      ],
      "execution_count": 0,
      "outputs": []
    },
    {
      "cell_type": "code",
      "metadata": {
        "id": "fIQpIISWHf5X",
        "colab_type": "code",
        "colab": {}
      },
      "source": [
        "'''\n",
        "Create new feature of budget\n",
        "0 < Budget < Q1 => VeryLowBudget\n",
        "Q1 <= Budget < Median =>LowBudget\n",
        "Median <= Budget < Q3 => MedBudget\n",
        "Q3 <= Budget < 95% => HighBudget\n",
        "95% <= Budget => VeryHighBudget\n",
        "'''\n",
        "raw_data['VeryLowBudget'] = raw_data['budget'].map(lambda s: 1 if 0< s < non_zero_budget_Q1 else 0)\n",
        "raw_data['LowBudget'] = raw_data['budget'].map(lambda s: 1 if non_zero_budget_Q1 <= s < non_zero_budget_median else 0)\n",
        "raw_data['MedBudget'] = raw_data['budget'].map(lambda s: 1 if  non_zero_budget_median <= s < non_zero_budget_Q3 else 0)\n",
        "raw_data['HighBudget'] = raw_data['budget'].map(lambda s: 1 if non_zero_budget_Q3 <= s < non_zero_budget_95 else 0)\n",
        "raw_data['VeryHighBudget'] = raw_data['budget'].map(lambda s: 1 if s >= non_zero_budget_95 else 0)"
      ],
      "execution_count": 0,
      "outputs": []
    },
    {
      "cell_type": "markdown",
      "metadata": {
        "id": "t1FzuecTQ0rD",
        "colab_type": "text"
      },
      "source": [
        "#### 4.3 Release Year"
      ]
    },
    {
      "cell_type": "code",
      "metadata": {
        "id": "JQC5CHePRX_E",
        "colab_type": "code",
        "outputId": "c9357360-5415-4a46-a18b-9d33089bad40",
        "colab": {
          "base_uri": "https://localhost:8080/",
          "height": 369
        }
      },
      "source": [
        "# Release Year Distribution\n",
        "g = sns.factorplot(y=\"release_year\",x=\"success\",data=raw_data,kind=\"violin\", palette = \"Set2\")"
      ],
      "execution_count": 35,
      "outputs": [
        {
          "output_type": "display_data",
          "data": {
            "image/png": "[encoded data removed]",
            "text/plain": [
              "<Figure size 360x360 with 1 Axes>"
            ]
          },
          "metadata": {
            "tags": []
          }
        }
      ]
    },
    {
      "cell_type": "code",
      "metadata": {
        "id": "tcaFlxsER3WS",
        "colab_type": "code",
        "outputId": "41bab900-bb10-4396-8ca3-b1638c479169",
        "colab": {
          "base_uri": "https://localhost:8080/",
          "height": 369
        }
      },
      "source": [
        "# Release Month Distribution\n",
        "g = sns.factorplot(y=\"release_month\",x=\"success\",data=raw_data,kind=\"violin\", palette = \"Set2\")"
      ],
      "execution_count": 36,
      "outputs": [
        {
          "output_type": "display_data",
          "data": {
            "image/png": "[encoded data removed]",
            "text/plain": [
              "<Figure size 360x360 with 1 Axes>"
            ]
          },
          "metadata": {
            "tags": []
          }
        }
      ]
    },
    {
      "cell_type": "markdown",
      "metadata": {
        "id": "HFsJRX1OQ5Z7",
        "colab_type": "text"
      },
      "source": [
        "#### 4.4 Duration"
      ]
    },
    {
      "cell_type": "code",
      "metadata": {
        "id": "erpUsnNuRylJ",
        "colab_type": "code",
        "outputId": "2b1129aa-6643-40db-858a-049263363250",
        "colab": {
          "base_uri": "https://localhost:8080/",
          "height": 279
        }
      },
      "source": [
        "# duration distibution show success or unsuccess movies are all normal distributed\n",
        "g = sns.kdeplot(raw_data.duration[(raw_data[\"success\"] == 0) ], color=\"blueviolet\", shade = True)\n",
        "g = sns.kdeplot(raw_data.duration[(raw_data[\"success\"] == 1) ], ax =g, color=\"gold\", shade= True)\n",
        "g.set_xlabel(\"Duration\")\n",
        "g.set_ylabel(\"Frequency\")\n",
        "g = g.legend([\"Unsuccess\",\"Success\"])"
      ],
      "execution_count": 37,
      "outputs": [
        {
          "output_type": "display_data",
          "data": {
            "image/png": "[encoded data removed]",
            "text/plain": [
              "<Figure size 432x288 with 1 Axes>"
            ]
          },
          "metadata": {
            "tags": []
          }
        }
      ]
    },
    {
      "cell_type": "code",
      "metadata": {
        "id": "KXWKrMThRyoR",
        "colab_type": "code",
        "outputId": "a19f9f1d-78c4-4b9f-def7-2219311023a8",
        "colab": {
          "base_uri": "https://localhost:8080/",
          "height": 369
        }
      },
      "source": [
        "# duration distibution by success\n",
        "g = sns.factorplot(x=\"success\", y = \"duration\",data = raw_data, kind=\"box\", palette = \"Set3\")"
      ],
      "execution_count": 38,
      "outputs": [
        {
          "output_type": "display_data",
          "data": {
            "image/png": "[encoded data removed]",
            "text/plain": [
              "<Figure size 360x360 with 1 Axes>"
            ]
          },
          "metadata": {
            "tags": []
          }
        }
      ]
    },
    {
      "cell_type": "code",
      "metadata": {
        "id": "vWp7MsugTrAW",
        "colab_type": "code",
        "colab": {}
      },
      "source": [
        "'''\n",
        "Based on common sence\n",
        "duration <90          => Short Movie\n",
        "90 <= duration < 120  => Normal Movie\n",
        "120 <= duration       => Long Movie\n",
        "'''\n",
        "raw_data['ShortMovie'] = raw_data['duration'].map(lambda s: 1 if s < 90 else 0)\n",
        "raw_data['NormalMovie'] = raw_data['duration'].map(lambda s: 1 if 90 <= s < 120 else 0)\n",
        "raw_data['LongMovie'] = raw_data['duration'].map(lambda s: 1 if s >= 120 else 0)"
      ],
      "execution_count": 0,
      "outputs": []
    },
    {
      "cell_type": "markdown",
      "metadata": {
        "id": "VCSsxNDQQ5nm",
        "colab_type": "text"
      },
      "source": [
        "#### 4.5 Genres\n",
        "Since a movie may have multiple genres, we will use one-hot encoding to transform the column of Genres"
      ]
    },
    {
      "cell_type": "code",
      "metadata": {
        "id": "kQqHDwm3TrGJ",
        "colab_type": "code",
        "outputId": "b64909c2-de29-4e26-9f6f-9dad64125e95",
        "colab": {
          "base_uri": "https://localhost:8080/",
          "height": 119
        }
      },
      "source": [
        "raw_data.genres.head()"
      ],
      "execution_count": 40,
      "outputs": [
        {
          "output_type": "execute_result",
          "data": {
            "text/plain": [
              "8                         Crime|Comedy\n",
              "9                Action|Thriller|Crime\n",
              "10                         Documentary\n",
              "12    Adventure|Action|Science Fiction\n",
              "13                    Animation|Family\n",
              "Name: genres, dtype: object"
            ]
          },
          "metadata": {
            "tags": []
          },
          "execution_count": 40
        }
      ]
    },
    {
      "cell_type": "code",
      "metadata": {
        "id": "jJWsTRTSJbaT",
        "colab_type": "code",
        "colab": {}
      },
      "source": [
        "def Obtain_list_Occurences(data, column):\n",
        "    # Obtaining list of column\n",
        "    listOcc = []\n",
        "    for i in data[column]:\n",
        "        split_genre = list(map(str, i.split('|')))\n",
        "        for j in split_genre:\n",
        "            if j not in listOcc:\n",
        "                listOcc.append(j)\n",
        "    return listOcc"
      ],
      "execution_count": 0,
      "outputs": []
    },
    {
      "cell_type": "code",
      "metadata": {
        "id": "I8C-terkK7t8",
        "colab_type": "code",
        "colab": {}
      },
      "source": [
        "genre = []\n",
        "genre = Obtain_list_Occurences(raw_data, \"genres\")\n",
        "# Drop empty string\n",
        "genre = list(filter(lambda x:len(x)>0, genre))"
      ],
      "execution_count": 0,
      "outputs": []
    },
    {
      "cell_type": "code",
      "metadata": {
        "id": "gUe19Y9sK7y7",
        "colab_type": "code",
        "colab": {}
      },
      "source": [
        "# Encoding genre\n",
        "for w in genre:\n",
        "    raw_data[w] = raw_data['genres'].map(lambda s: 1 if w in str(s) else 0)"
      ],
      "execution_count": 0,
      "outputs": []
    },
    {
      "cell_type": "code",
      "metadata": {
        "id": "8qus13hZK71i",
        "colab_type": "code",
        "outputId": "c961099e-e69d-4be0-eb4d-6b69a6a79142",
        "colab": {
          "base_uri": "https://localhost:8080/",
          "height": 204
        }
      },
      "source": [
        "raw_data.loc[:,genre].head()"
      ],
      "execution_count": 44,
      "outputs": [
        {
          "output_type": "execute_result",
          "data": {
            "text/html": [
              "<div>\n",
              "<style scoped>\n",
              "    .dataframe tbody tr th:only-of-type {\n",
              "        vertical-align: middle;\n",
              "    }\n",
              "\n",
              "    .dataframe tbody tr th {\n",
              "        vertical-align: top;\n",
              "    }\n",
              "\n",
              "    .dataframe thead th {\n",
              "        text-align: right;\n",
              "    }\n",
              "</style>\n",
              "<table border=\"1\" class=\"dataframe\">\n",
              "  <thead>\n",
              "    <tr style=\"text-align: right;\">\n",
              "      <th></th>\n",
              "      <th>Crime</th>\n",
              "      <th>Comedy</th>\n",
              "      <th>Action</th>\n",
              "      <th>Thriller</th>\n",
              "      <th>Documentary</th>\n",
              "      <th>Adventure</th>\n",
              "      <th>Science Fiction</th>\n",
              "      <th>Animation</th>\n",
              "      <th>Family</th>\n",
              "      <th>Drama</th>\n",
              "      <th>Romance</th>\n",
              "      <th>Fantasy</th>\n",
              "      <th>War</th>\n",
              "      <th>Music</th>\n",
              "      <th>Western</th>\n",
              "      <th>Mystery</th>\n",
              "      <th>History</th>\n",
              "      <th>Horror</th>\n",
              "      <th>TV Movie</th>\n",
              "    </tr>\n",
              "  </thead>\n",
              "  <tbody>\n",
              "    <tr>\n",
              "      <th>8</th>\n",
              "      <td>1</td>\n",
              "      <td>1</td>\n",
              "      <td>0</td>\n",
              "      <td>0</td>\n",
              "      <td>0</td>\n",
              "      <td>0</td>\n",
              "      <td>0</td>\n",
              "      <td>0</td>\n",
              "      <td>0</td>\n",
              "      <td>0</td>\n",
              "      <td>0</td>\n",
              "      <td>0</td>\n",
              "      <td>0</td>\n",
              "      <td>0</td>\n",
              "      <td>0</td>\n",
              "      <td>0</td>\n",
              "      <td>0</td>\n",
              "      <td>0</td>\n",
              "      <td>0</td>\n",
              "    </tr>\n",
              "    <tr>\n",
              "      <th>9</th>\n",
              "      <td>1</td>\n",
              "      <td>0</td>\n",
              "      <td>1</td>\n",
              "      <td>1</td>\n",
              "      <td>0</td>\n",
              "      <td>0</td>\n",
              "      <td>0</td>\n",
              "      <td>0</td>\n",
              "      <td>0</td>\n",
              "      <td>0</td>\n",
              "      <td>0</td>\n",
              "      <td>0</td>\n",
              "      <td>0</td>\n",
              "      <td>0</td>\n",
              "      <td>0</td>\n",
              "      <td>0</td>\n",
              "      <td>0</td>\n",
              "      <td>0</td>\n",
              "      <td>0</td>\n",
              "    </tr>\n",
              "    <tr>\n",
              "      <th>10</th>\n",
              "      <td>0</td>\n",
              "      <td>0</td>\n",
              "      <td>0</td>\n",
              "      <td>0</td>\n",
              "      <td>1</td>\n",
              "      <td>0</td>\n",
              "      <td>0</td>\n",
              "      <td>0</td>\n",
              "      <td>0</td>\n",
              "      <td>0</td>\n",
              "      <td>0</td>\n",
              "      <td>0</td>\n",
              "      <td>0</td>\n",
              "      <td>0</td>\n",
              "      <td>0</td>\n",
              "      <td>0</td>\n",
              "      <td>0</td>\n",
              "      <td>0</td>\n",
              "      <td>0</td>\n",
              "    </tr>\n",
              "    <tr>\n",
              "      <th>12</th>\n",
              "      <td>0</td>\n",
              "      <td>0</td>\n",
              "      <td>1</td>\n",
              "      <td>0</td>\n",
              "      <td>0</td>\n",
              "      <td>1</td>\n",
              "      <td>1</td>\n",
              "      <td>0</td>\n",
              "      <td>0</td>\n",
              "      <td>0</td>\n",
              "      <td>0</td>\n",
              "      <td>0</td>\n",
              "      <td>0</td>\n",
              "      <td>0</td>\n",
              "      <td>0</td>\n",
              "      <td>0</td>\n",
              "      <td>0</td>\n",
              "      <td>0</td>\n",
              "      <td>0</td>\n",
              "    </tr>\n",
              "    <tr>\n",
              "      <th>13</th>\n",
              "      <td>0</td>\n",
              "      <td>0</td>\n",
              "      <td>0</td>\n",
              "      <td>0</td>\n",
              "      <td>0</td>\n",
              "      <td>0</td>\n",
              "      <td>0</td>\n",
              "      <td>1</td>\n",
              "      <td>1</td>\n",
              "      <td>0</td>\n",
              "      <td>0</td>\n",
              "      <td>0</td>\n",
              "      <td>0</td>\n",
              "      <td>0</td>\n",
              "      <td>0</td>\n",
              "      <td>0</td>\n",
              "      <td>0</td>\n",
              "      <td>0</td>\n",
              "      <td>0</td>\n",
              "    </tr>\n",
              "  </tbody>\n",
              "</table>\n",
              "</div>"
            ],
            "text/plain": [
              "    Crime  Comedy  Action  Thriller  ...  Mystery  History  Horror  TV Movie\n",
              "8       1       1       0         0  ...        0        0       0         0\n",
              "9       1       0       1         1  ...        0        0       0         0\n",
              "10      0       0       0         0  ...        0        0       0         0\n",
              "12      0       0       1         0  ...        0        0       0         0\n",
              "13      0       0       0         0  ...        0        0       0         0\n",
              "\n",
              "[5 rows x 19 columns]"
            ]
          },
          "metadata": {
            "tags": []
          },
          "execution_count": 44
        }
      ]
    },
    {
      "cell_type": "markdown",
      "metadata": {
        "id": "VgbZdsm8Q5yJ",
        "colab_type": "text"
      },
      "source": [
        "#### 4.6 Director"
      ]
    },
    {
      "cell_type": "code",
      "metadata": {
        "id": "u42tA4AKPDmi",
        "colab_type": "code",
        "colab": {}
      },
      "source": [
        "raw_data.director_name.fillna('unknown', inplace=True)"
      ],
      "execution_count": 0,
      "outputs": []
    },
    {
      "cell_type": "code",
      "metadata": {
        "id": "GVzBBe5fPDpn",
        "colab_type": "code",
        "colab": {}
      },
      "source": [
        "def to_frequency_table(data):\n",
        "    frequency = {}\n",
        "    for key in data:\n",
        "        if key in frequency and key:\n",
        "            frequency[key] += 1\n",
        "        else:\n",
        "            frequency[key] = 1\n",
        "    return frequency"
      ],
      "execution_count": 0,
      "outputs": []
    },
    {
      "cell_type": "code",
      "metadata": {
        "id": "YukH2NCXPDsx",
        "colab_type": "code",
        "colab": {}
      },
      "source": [
        "director_dic = to_frequency_table(raw_data['director_name'])\n",
        "director_list = list(director_dic.items())\n",
        "director_list.sort(key=lambda tup:tup[1],reverse=True)\n",
        "# drop 'unknown' item\n",
        "director_list=list(filter(lambda x:x[0]!='unknown', director_list))"
      ],
      "execution_count": 0,
      "outputs": []
    },
    {
      "cell_type": "code",
      "metadata": {
        "id": "2VjJt1aAP6eH",
        "colab_type": "code",
        "colab": {}
      },
      "source": [
        "# Funtion to find top xx in list\n",
        "def Top(List, top_num):\n",
        "    Top = list()\n",
        "    for i in range(0, top_num):\n",
        "        Top.append(List[i][0])\n",
        "    return Top"
      ],
      "execution_count": 0,
      "outputs": []
    },
    {
      "cell_type": "code",
      "metadata": {
        "id": "2zbARf_BPDvj",
        "colab_type": "code",
        "outputId": "60a92a67-d9a0-474f-97c6-91d2af183d8d",
        "colab": {
          "base_uri": "https://localhost:8080/",
          "height": 68
        }
      },
      "source": [
        "# Encoding Top 100 director\n",
        "top_list = Top(director_list, 100)\n",
        "for w in top_list:\n",
        "    raw_data[w] = raw_data['director_name'].map(lambda s: 1 if w in str(s) else 0)\n",
        "# Encoding non-Top 50 director in 'other_director' columns\n",
        "raw_data['other_director'] = raw_data['director_name'].map(lambda x:1 if x not in top_list else 0)\n",
        "print(\"Total movies of top directors: {};\\nTotal movies of non-top directors: {};\\nTotal movies: {}.\".format(raw_data[top_list].sum().sum(), raw_data.other_director.sum(), len(raw_data)))"
      ],
      "execution_count": 49,
      "outputs": [
        {
          "output_type": "stream",
          "text": [
            "Total movies of top directors: 1008;\n",
            "Total movies of non-top directors: 6302;\n",
            "Total movies: 7310.\n"
          ],
          "name": "stdout"
        }
      ]
    },
    {
      "cell_type": "markdown",
      "metadata": {
        "id": "lurrrSJhRTsI",
        "colab_type": "text"
      },
      "source": [
        "#### 4.7 Company"
      ]
    },
    {
      "cell_type": "code",
      "metadata": {
        "id": "ZhGRftGVvGcW",
        "colab_type": "code",
        "colab": {}
      },
      "source": [
        "# Fill none value in 3 actor columns\n",
        "raw_data['companies_1'].fillna('unknown',inplace=True)\n",
        "raw_data['companies_2'].fillna('unknown',inplace=True)\n",
        "raw_data['companies_3'].fillna('unknown',inplace=True)"
      ],
      "execution_count": 0,
      "outputs": []
    },
    {
      "cell_type": "code",
      "metadata": {
        "id": "jcU20nD35BYY",
        "colab_type": "code",
        "colab": {}
      },
      "source": [
        "company_dic = to_frequency_table(raw_data['companies_1'])\n",
        "company_list = list(company_dic.items())\n",
        "company_list.sort(key=lambda tup:tup[1],reverse=True)\n",
        "# drop 'unknown' item\n",
        "company_list_1=list(filter(lambda x:x[0]!='unknown', company_list))"
      ],
      "execution_count": 0,
      "outputs": []
    },
    {
      "cell_type": "code",
      "metadata": {
        "id": "V2IzMKRc5Zmb",
        "colab_type": "code",
        "colab": {}
      },
      "source": [
        "company_dic = to_frequency_table(raw_data['companies_2'])\n",
        "company_list = list(company_dic.items())\n",
        "company_list.sort(key=lambda tup:tup[1],reverse=True)\n",
        "# drop 'unknown' item\n",
        "company_list_2=list(filter(lambda x:x[0]!='unknown', company_list))"
      ],
      "execution_count": 0,
      "outputs": []
    },
    {
      "cell_type": "code",
      "metadata": {
        "id": "5a_c7_-b7SXL",
        "colab_type": "code",
        "colab": {}
      },
      "source": [
        "company_dic = to_frequency_table(raw_data['companies_2'])\n",
        "company_list = list(company_dic.items())\n",
        "company_list.sort(key=lambda tup:tup[1],reverse=True)\n",
        "# drop 'unknown' item\n",
        "company_list_3=list(filter(lambda x:x[0]!='unknown', company_list))"
      ],
      "execution_count": 0,
      "outputs": []
    },
    {
      "cell_type": "code",
      "metadata": {
        "id": "Dgot-VsN6LaD",
        "colab_type": "code",
        "colab": {}
      },
      "source": [
        "# Combine all company in one list\n",
        "full_company_list=sorted(company_list_1+company_list_2+company_list_3)\n",
        "company_dict={}\n",
        "for a,b in full_company_list:\n",
        "    if a not in company_dict.keys():\n",
        "        company_dict[a] = b\n",
        "    elif a in company_dict.keys():\n",
        "        company_dict[a] = company_dict.get(a) + b\n",
        "\n",
        "combined_company_list = list(company_dict.items())\n",
        "combined_company_list.sort(key=lambda tup:tup[1],reverse=True)\n",
        "# drop 'unknown' item\n",
        "combined_company_list=list(filter(lambda x:x[0]!='unknown', combined_company_list))"
      ],
      "execution_count": 0,
      "outputs": []
    },
    {
      "cell_type": "code",
      "metadata": {
        "id": "iH1r-DWKutfq",
        "colab_type": "code",
        "outputId": "05c90a39-bd87-45cd-bb34-d4517b913ba9",
        "colab": {
          "base_uri": "https://localhost:8080/",
          "height": 68
        }
      },
      "source": [
        "total=0\n",
        "for a,b in combined_company_list:\n",
        "    total += b\n",
        "\n",
        "top_index = 0\n",
        "top_count = 0\n",
        "for a,b in combined_company_list:\n",
        "    if b >= 20:\n",
        "        top_count += b\n",
        "        top_index += 1\n",
        "    else:\n",
        "        break\n",
        "print(top_index)\n",
        "print(len(combined_company_list))\n",
        "print(combined_company_list[top_index])"
      ],
      "execution_count": 55,
      "outputs": [
        {
          "output_type": "stream",
          "text": [
            "80\n",
            "4745\n",
            "('DC Comics', 19)\n"
          ],
          "name": "stdout"
        }
      ]
    },
    {
      "cell_type": "code",
      "metadata": {
        "id": "PHX8X5HNJ0rz",
        "colab_type": "code",
        "colab": {}
      },
      "source": [
        "# Create company columns\n",
        "toplist = Top(combined_company_list, top_index)\n",
        "for w in toplist:\n",
        "    raw_data[w] = 0"
      ],
      "execution_count": 0,
      "outputs": []
    },
    {
      "cell_type": "code",
      "metadata": {
        "id": "9oNiiUK1ixqG",
        "colab_type": "code",
        "colab": {}
      },
      "source": [
        "# Encoding Top 80 company\n",
        "for w in toplist:\n",
        "    raw_data[w][raw_data[w]!=1] = raw_data['companies_1'].map(lambda x: 1 if x in w else 0)\n",
        "for w in toplist:\n",
        "    raw_data[w][raw_data[w]!=1] = raw_data['companies_2'].map(lambda x: 1 if x in w else 0)\n",
        "for w in toplist:\n",
        "    raw_data[w][raw_data[w]!=1] = raw_data['companies_3'].map(lambda x: 1 if x in w else 0)"
      ],
      "execution_count": 0,
      "outputs": []
    },
    {
      "cell_type": "markdown",
      "metadata": {
        "id": "lWjZuHZQyCHQ",
        "colab_type": "text"
      },
      "source": [
        "#### 4.8 Drop Columns"
      ]
    },
    {
      "cell_type": "code",
      "metadata": {
        "id": "C0YgLiV8yRrC",
        "colab_type": "code",
        "colab": {}
      },
      "source": [
        "raw_data.drop(['budget','genres','id','plot_keywords','language','original_title','overview',\n",
        "               'production_companies','production_countries','release_date','duration','spoken_languages','status','movie_title','vote_average','country',\n",
        "               'director_name',\n",
        "               'actor_1_name','actor_2_name','actor_3_name',\n",
        "               'companies_1','companies_2','companies_3'], axis=1, inplace=True)"
      ],
      "execution_count": 0,
      "outputs": []
    },
    {
      "cell_type": "code",
      "metadata": {
        "id": "Duf9iYNLyBnc",
        "colab_type": "code",
        "outputId": "f1f5e360-dca1-4dd6-bf48-92b79c0cd606",
        "colab": {
          "base_uri": "https://localhost:8080/",
          "height": 102
        }
      },
      "source": [
        "# Check missing value\n",
        "missing_value_table(raw_data)"
      ],
      "execution_count": 59,
      "outputs": [
        {
          "output_type": "stream",
          "text": [
            "=====Missing Value Check Table(only list not 0% column)=====\n",
            "Empty DataFrame\n",
            "Columns: [total Missing, Percent(%)]\n",
            "Index: []\n",
            "=====No Missing Value in Data after Checking=====\n"
          ],
          "name": "stdout"
        }
      ]
    },
    {
      "cell_type": "code",
      "metadata": {
        "id": "BHRLzw7t88RZ",
        "colab_type": "code",
        "colab": {
          "base_uri": "https://localhost:8080/",
          "height": 310
        },
        "outputId": "43d0d26a-b8be-4632-f302-187938a352eb"
      },
      "source": [
        "# Success and Unsuccss ratio after data manipulation\n",
        "plt.figure(figsize=(5,5))\n",
        "labels = [\"Unsuccess\",\"Success\"]\n",
        "sizes = raw_data['success'].value_counts(sort=False)\n",
        "explode = (0.1,0)  # explode 1st slice\n",
        "# Plot\n",
        "plt.pie(sizes, explode=explode, labels=labels, autopct='%1.1f%%', shadow=True, startangle=140)\n",
        "plt.axis('equal')\n",
        "plt.show()"
      ],
      "execution_count": 60,
      "outputs": [
        {
          "output_type": "display_data",
          "data": {
            "image/png": "[encoded data removed]",
            "text/plain": [
              "<Figure size 360x360 with 1 Axes>"
            ]
          },
          "metadata": {
            "tags": []
          }
        }
      ]
    },
    {
      "cell_type": "markdown",
      "metadata": {
        "id": "AStPLH_F9FmX",
        "colab_type": "text"
      },
      "source": [
        "### 5 Modeling\n",
        "*   Define Useful Functions\n",
        "*   Split Data\n",
        "*   K-Nearest Neighbors\n",
        "*   Decision Tree\n",
        "*   Random Forest\n",
        "*   Gradient Boosting\n",
        "*   Conclusion Model Performance\n",
        "*   Model Test"
      ]
    },
    {
      "cell_type": "markdown",
      "metadata": {
        "id": "OuGlRwHSha8f",
        "colab_type": "text"
      },
      "source": [
        "#### 5.0 Define Useful Functions"
      ]
    },
    {
      "cell_type": "code",
      "metadata": {
        "id": "5pJCOyQ4hft9",
        "colab_type": "code",
        "colab": {}
      },
      "source": [
        "import itertools\n",
        "def plot_confusion_matrix(cm, f1,\n",
        "                          target_names,\n",
        "                          title='Confusion matrix',\n",
        "                          cmap=None,\n",
        "                          normalize=True):\n",
        "    accuracy = np.trace(cm) / float(np.sum(cm))\n",
        "    f1_score = f1\n",
        "\n",
        "    if cmap is None:\n",
        "        cmap = plt.get_cmap('Blues')\n",
        "\n",
        "    plt.figure(figsize=(8, 6))\n",
        "    plt.imshow(cm, interpolation='nearest', cmap=cmap)\n",
        "    plt.title(title)\n",
        "    plt.colorbar()\n",
        "\n",
        "    if target_names is not None:\n",
        "        tick_marks = np.arange(len(target_names))\n",
        "        plt.xticks(tick_marks, target_names)\n",
        "        plt.yticks(tick_marks, target_names)\n",
        "\n",
        "    if normalize:\n",
        "        cm = cm.astype('float') / cm.sum(axis=1)[:, np.newaxis]\n",
        "\n",
        "    thresh = cm.max() / 1.5 if normalize else cm.max() / 2\n",
        "    for i, j in itertools.product(range(cm.shape[0]), range(cm.shape[1])):\n",
        "        if normalize:\n",
        "            plt.text(j, i, \"{:0.4f}\".format(cm[i, j]),\n",
        "                     horizontalalignment=\"center\",\n",
        "                     color=\"white\" if cm[i, j] > thresh else \"black\")\n",
        "        else:\n",
        "            plt.text(j, i, \"{:,}\".format(cm[i, j]),\n",
        "                     horizontalalignment=\"center\",\n",
        "                     color=\"white\" if cm[i, j] > thresh else \"black\")\n",
        "\n",
        "    plt.tight_layout()\n",
        "    plt.ylabel('True label')\n",
        "    plt.xlabel('Predicted Label\\nAccuracy over Test Data={:0.2f}\\nF1-Score={:0.2f}'.format(accuracy, f1_score))\n",
        "    plt.show()"
      ],
      "execution_count": 0,
      "outputs": []
    },
    {
      "cell_type": "code",
      "metadata": {
        "id": "K2E6Msqxhfw4",
        "colab_type": "code",
        "colab": {}
      },
      "source": [
        "def model_selection(clf, x_train_all, y_train_all, x_train, y_train, x_test, y_test):\n",
        "    clf.fit(x_train,y_train)\n",
        "    score_all=cross_val_score(clf, x_train_all, y_train_all, cv=5)\n",
        "    avg_score=score_all.mean()\n",
        "    print(\"Accuracy Score based on 5-fold Cross Validation: {}\\n\".format(round(avg_score,2)))\n",
        "    y_test_pred=clf.predict(x_test)\n",
        "    cm = confusion_matrix(y_test, y_test_pred)\n",
        "    f1 = f1_score(y_test, y_test_pred)\n",
        "    plot_confusion_matrix(cm,f1, normalize = False, target_names = ['failed','success'],title = \"Confusion Matrix over Test Data\")"
      ],
      "execution_count": 0,
      "outputs": []
    },
    {
      "cell_type": "markdown",
      "metadata": {
        "id": "SSW4uWw_1PXk",
        "colab_type": "text"
      },
      "source": [
        "#### 5.1 Split Data"
      ]
    },
    {
      "cell_type": "code",
      "metadata": {
        "id": "1edDJEkt9sbM",
        "colab_type": "code",
        "colab": {}
      },
      "source": [
        "# Split data into train and test set\n",
        "data = raw_data\n",
        "y = data['success']\n",
        "y = np.array(y).reshape(-1,1)\n",
        "x = data.drop('success',axis=1)\n",
        "# release_year and release_month has fixed range => Min-Max Normalization\n",
        "minmax = MinMaxScaler()\n",
        "x[['release_year','release_month']] = minmax.fit_transform(x[['release_year','release_month']])"
      ],
      "execution_count": 0,
      "outputs": []
    },
    {
      "cell_type": "code",
      "metadata": {
        "id": "aJO7-M4x9seJ",
        "colab_type": "code",
        "colab": {}
      },
      "source": [
        "x_train_all, x_test, y_train_all, y_test = train_test_split(x,y,random_state=10, test_size=.25)\n",
        "x_train, x_valid, y_train, y_valid = train_test_split(x_train_all, y_train_all, random_state=11, test_size=0.25)"
      ],
      "execution_count": 0,
      "outputs": []
    },
    {
      "cell_type": "code",
      "metadata": {
        "id": "QzOmMFD-9sgc",
        "colab_type": "code",
        "outputId": "b5d1f6f6-3ca1-41f4-8460-83b242588b98",
        "colab": {
          "base_uri": "https://localhost:8080/",
          "height": 85
        }
      },
      "source": [
        "print('x_train_all: {}; y_train_all: {}.'.format(x_train_all.shape, y_train_all.shape))\n",
        "print('x_train: {}; y_train: {}.'.format(x_train.shape, y_train.shape))\n",
        "print('x_valid: {}; y_valid: {}.'.format(x_valid.shape, y_valid.shape))\n",
        "print('x_test: {}; y_test: {}.'.format(x_test.shape, y_test.shape))"
      ],
      "execution_count": 65,
      "outputs": [
        {
          "output_type": "stream",
          "text": [
            "x_train_all: (5482, 210); y_train_all: (5482, 1).\n",
            "x_train: (4111, 210); y_train: (4111, 1).\n",
            "x_valid: (1371, 210); y_valid: (1371, 1).\n",
            "x_test: (1828, 210); y_test: (1828, 1).\n"
          ],
          "name": "stdout"
        }
      ]
    },
    {
      "cell_type": "code",
      "metadata": {
        "id": "r_NZWiAtdeqq",
        "colab_type": "code",
        "outputId": "025dae94-d8da-4e23-ddd6-fd1d0111a67b",
        "colab": {
          "base_uri": "https://localhost:8080/",
          "height": 336
        }
      },
      "source": [
        "# According to variance ratio of each feature when n_components==original feature szie, many features can be dropped\n",
        "pca = PCA(n_components=x_train.shape[1],svd_solver='auto')\n",
        "x_train_all_pca = pca.fit_transform(x_train_all)\n",
        "var_ratio=pca.explained_variance_ratio_\n",
        "\n",
        "fig=plt.figure(figsize=(30,5))\n",
        "plt.bar([i+1 for i in range(len(var_ratio))], var_ratio)\n",
        "plt.xticks([i+1 for i in range(len(var_ratio))], ['Component '+str(i) for i in [i+1 for i in range(len(var_ratio))]])\n",
        "plt.title('Variance ratio of each component')\n",
        "plt.show()"
      ],
      "execution_count": 66,
      "outputs": [
        {
          "output_type": "display_data",
          "data": {
            "image/png": "[encoded data removed]",
            "text/plain": [
              "<Figure size 2160x360 with 1 Axes>"
            ]
          },
          "metadata": {
            "tags": []
          }
        }
      ]
    },
    {
      "cell_type": "code",
      "metadata": {
        "id": "4RG8TqCxdet2",
        "colab_type": "code",
        "colab": {}
      },
      "source": [
        "# PCA to get 90% cumulative variance in total\n",
        "pca = PCA(n_components=0.90)\n",
        "x_train_all_pca = pca.fit_transform(x_train_all)\n",
        "x_train_pca = pca.transform(x_train)\n",
        "x_valid_pca = pca.transform(x_valid)\n",
        "x_test_pca = pca.transform(x_test)"
      ],
      "execution_count": 0,
      "outputs": []
    },
    {
      "cell_type": "code",
      "metadata": {
        "id": "-prsWI2V9uCQ",
        "colab_type": "code",
        "colab": {
          "base_uri": "https://localhost:8080/",
          "height": 85
        },
        "outputId": "166518ed-8c43-4487-daa3-bd92d6e9e016"
      },
      "source": [
        "print('x_train_all: {}; y_train_all: {}.'.format(x_train_all_pca.shape, y_train_all.shape))\n",
        "print('x_train: {}; y_train: {}.'.format(x_train_pca.shape, y_train.shape))\n",
        "print('x_valid: {}; y_valid: {}.'.format(x_valid_pca.shape, y_valid.shape))\n",
        "print('x_test: {}; y_test: {}.'.format(x_test_pca.shape, y_test.shape))"
      ],
      "execution_count": 68,
      "outputs": [
        {
          "output_type": "stream",
          "text": [
            "x_train_all: (5482, 39); y_train_all: (5482, 1).\n",
            "x_train: (4111, 39); y_train: (4111, 1).\n",
            "x_valid: (1371, 39); y_valid: (1371, 1).\n",
            "x_test: (1828, 39); y_test: (1828, 1).\n"
          ],
          "name": "stdout"
        }
      ]
    },
    {
      "cell_type": "markdown",
      "metadata": {
        "id": "qNZsCN_21S1M",
        "colab_type": "text"
      },
      "source": [
        "#### 5.2 K-Nearest Neighbors"
      ]
    },
    {
      "cell_type": "code",
      "metadata": {
        "id": "YQsw2WZx1XX8",
        "colab_type": "code",
        "outputId": "a94b1022-a667-4095-e94f-fecbad29ca0b",
        "colab": {
          "base_uri": "https://localhost:8080/",
          "height": 68
        }
      },
      "source": [
        "knn = KNeighborsClassifier(n_neighbors=25)\n",
        "knn.fit(x_train_pca, y_train)"
      ],
      "execution_count": 69,
      "outputs": [
        {
          "output_type": "execute_result",
          "data": {
            "text/plain": [
              "KNeighborsClassifier(algorithm='auto', leaf_size=30, metric='minkowski',\n",
              "                     metric_params=None, n_jobs=None, n_neighbors=25, p=2,\n",
              "                     weights='uniform')"
            ]
          },
          "metadata": {
            "tags": []
          },
          "execution_count": 69
        }
      ]
    },
    {
      "cell_type": "code",
      "metadata": {
        "id": "srS2TRNEdbe_",
        "colab_type": "code",
        "outputId": "789cb71a-eea5-4be7-ea27-68c077b65249",
        "colab": {
          "base_uri": "https://localhost:8080/",
          "height": 512
        }
      },
      "source": [
        "model_selection(knn, x_train_all_pca, y_train_all, x_train_pca, y_train, x_test_pca, y_test)"
      ],
      "execution_count": 70,
      "outputs": [
        {
          "output_type": "stream",
          "text": [
            "Accuracy Score based on 5-fold Cross Validation: 0.72\n",
            "\n"
          ],
          "name": "stdout"
        },
        {
          "output_type": "display_data",
          "data": {
            "image/png": "[encoded data removed]",
            "text/plain": [
              "<Figure size 576x432 with 2 Axes>"
            ]
          },
          "metadata": {
            "tags": []
          }
        }
      ]
    },
    {
      "cell_type": "markdown",
      "metadata": {
        "id": "zAd6PcsedOW8",
        "colab_type": "text"
      },
      "source": [
        "#### 5.3 Decision Tree"
      ]
    },
    {
      "cell_type": "code",
      "metadata": {
        "id": "XT4R6P-X1XdS",
        "colab_type": "code",
        "outputId": "a05d67d4-602a-4d9f-d8da-0036bd1d13a0",
        "colab": {
          "base_uri": "https://localhost:8080/",
          "height": 119
        }
      },
      "source": [
        "decision_tree = DecisionTreeClassifier(criterion='entropy',max_depth=20, min_samples_leaf=10)\n",
        "decision_tree.fit(x_train_pca, y_train)"
      ],
      "execution_count": 71,
      "outputs": [
        {
          "output_type": "execute_result",
          "data": {
            "text/plain": [
              "DecisionTreeClassifier(ccp_alpha=0.0, class_weight=None, criterion='entropy',\n",
              "                       max_depth=20, max_features=None, max_leaf_nodes=None,\n",
              "                       min_impurity_decrease=0.0, min_impurity_split=None,\n",
              "                       min_samples_leaf=10, min_samples_split=2,\n",
              "                       min_weight_fraction_leaf=0.0, presort='deprecated',\n",
              "                       random_state=None, splitter='best')"
            ]
          },
          "metadata": {
            "tags": []
          },
          "execution_count": 71
        }
      ]
    },
    {
      "cell_type": "code",
      "metadata": {
        "id": "ZQsQPXYd1Xf6",
        "colab_type": "code",
        "outputId": "4bc6bc9c-44f6-4f5a-b776-ebb5fa1f61f3",
        "colab": {
          "base_uri": "https://localhost:8080/",
          "height": 512
        }
      },
      "source": [
        "model_selection(decision_tree, x_train_all_pca, y_train_all, x_train_pca, y_train, x_test_pca, y_test)"
      ],
      "execution_count": 72,
      "outputs": [
        {
          "output_type": "stream",
          "text": [
            "Accuracy Score based on 5-fold Cross Validation: 0.67\n",
            "\n"
          ],
          "name": "stdout"
        },
        {
          "output_type": "display_data",
          "data": {
            "image/png": "[encoded data removed]",
            "text/plain": [
              "<Figure size 576x432 with 2 Axes>"
            ]
          },
          "metadata": {
            "tags": []
          }
        }
      ]
    },
    {
      "cell_type": "markdown",
      "metadata": {
        "id": "uIWVUplEPrC4",
        "colab_type": "text"
      },
      "source": [
        "####  DNN"
      ]
    },
    {
      "cell_type": "code",
      "metadata": {
        "id": "UPa6pkM_Ptki",
        "colab_type": "code",
        "colab": {}
      },
      "source": [
        "dnn_model=Sequential([\n",
        "                  Dense(32, input_dim=x_train_pca.shape[1],activation='relu'),\n",
        "                  Dense(16, activation='relu'),\n",
        "                  Dense(8, activation='relu'),\n",
        "                  Dense(1, activation='sigmoid')])"
      ],
      "execution_count": 0,
      "outputs": []
    },
    {
      "cell_type": "code",
      "metadata": {
        "id": "XUTGSNrJXHfJ",
        "colab_type": "code",
        "outputId": "e5891891-6f65-47b5-825f-08c4f68a5418",
        "colab": {
          "base_uri": "https://localhost:8080/",
          "height": 289
        }
      },
      "source": [
        "dnn_model.summary()"
      ],
      "execution_count": 74,
      "outputs": [
        {
          "output_type": "stream",
          "text": [
            "Model: \"sequential_1\"\n",
            "_________________________________________________________________\n",
            "Layer (type)                 Output Shape              Param #   \n",
            "=================================================================\n",
            "dense_1 (Dense)              (None, 32)                1280      \n",
            "_________________________________________________________________\n",
            "dense_2 (Dense)              (None, 16)                528       \n",
            "_________________________________________________________________\n",
            "dense_3 (Dense)              (None, 8)                 136       \n",
            "_________________________________________________________________\n",
            "dense_4 (Dense)              (None, 1)                 9         \n",
            "=================================================================\n",
            "Total params: 1,953\n",
            "Trainable params: 1,953\n",
            "Non-trainable params: 0\n",
            "_________________________________________________________________\n"
          ],
          "name": "stdout"
        }
      ]
    },
    {
      "cell_type": "code",
      "metadata": {
        "id": "pCCwwFcFSFUt",
        "colab_type": "code",
        "colab": {}
      },
      "source": [
        "dnn_model.compile(optimizer='Adam', loss='binary_crossentropy',metrics=['accuracy'])"
      ],
      "execution_count": 0,
      "outputs": []
    },
    {
      "cell_type": "code",
      "metadata": {
        "id": "vWh-8deuPw2b",
        "colab_type": "code",
        "outputId": "d7307bab-717d-4623-db4f-fc6ac453905d",
        "colab": {
          "base_uri": "https://localhost:8080/",
          "height": 1000
        }
      },
      "source": [
        "dnn_model.fit(x_train_pca, y_train, batch_size=512, epochs=50, validation_data=(x_valid_pca, y_valid))"
      ],
      "execution_count": 76,
      "outputs": [
        {
          "output_type": "stream",
          "text": [
            "Train on 4111 samples, validate on 1371 samples\n",
            "Epoch 1/50\n",
            "4111/4111 [==============================] - 0s 42us/step - loss: 0.6805 - accuracy: 0.6244 - val_loss: 0.6690 - val_accuracy: 0.6929\n",
            "Epoch 2/50\n",
            "4111/4111 [==============================] - 0s 7us/step - loss: 0.6618 - accuracy: 0.7057 - val_loss: 0.6515 - val_accuracy: 0.6995\n",
            "Epoch 3/50\n",
            "4111/4111 [==============================] - 0s 6us/step - loss: 0.6451 - accuracy: 0.7103 - val_loss: 0.6355 - val_accuracy: 0.6980\n",
            "Epoch 4/50\n",
            "4111/4111 [==============================] - 0s 6us/step - loss: 0.6291 - accuracy: 0.7100 - val_loss: 0.6203 - val_accuracy: 0.6980\n",
            "Epoch 5/50\n",
            "4111/4111 [==============================] - 0s 6us/step - loss: 0.6144 - accuracy: 0.7100 - val_loss: 0.6072 - val_accuracy: 0.6980\n",
            "Epoch 6/50\n",
            "4111/4111 [==============================] - 0s 6us/step - loss: 0.6029 - accuracy: 0.7100 - val_loss: 0.5976 - val_accuracy: 0.6980\n",
            "Epoch 7/50\n",
            "4111/4111 [==============================] - 0s 6us/step - loss: 0.5943 - accuracy: 0.7100 - val_loss: 0.5908 - val_accuracy: 0.6980\n",
            "Epoch 8/50\n",
            "4111/4111 [==============================] - 0s 6us/step - loss: 0.5876 - accuracy: 0.7100 - val_loss: 0.5853 - val_accuracy: 0.6980\n",
            "Epoch 9/50\n",
            "4111/4111 [==============================] - 0s 6us/step - loss: 0.5818 - accuracy: 0.7100 - val_loss: 0.5800 - val_accuracy: 0.6980\n",
            "Epoch 10/50\n",
            "4111/4111 [==============================] - 0s 5us/step - loss: 0.5763 - accuracy: 0.7100 - val_loss: 0.5748 - val_accuracy: 0.6988\n",
            "Epoch 11/50\n",
            "4111/4111 [==============================] - 0s 6us/step - loss: 0.5715 - accuracy: 0.7100 - val_loss: 0.5705 - val_accuracy: 0.6988\n",
            "Epoch 12/50\n",
            "4111/4111 [==============================] - 0s 5us/step - loss: 0.5674 - accuracy: 0.7103 - val_loss: 0.5661 - val_accuracy: 0.6988\n",
            "Epoch 13/50\n",
            "4111/4111 [==============================] - 0s 6us/step - loss: 0.5629 - accuracy: 0.7105 - val_loss: 0.5618 - val_accuracy: 0.6988\n",
            "Epoch 14/50\n",
            "4111/4111 [==============================] - 0s 6us/step - loss: 0.5588 - accuracy: 0.7108 - val_loss: 0.5583 - val_accuracy: 0.6995\n",
            "Epoch 15/50\n",
            "4111/4111 [==============================] - 0s 6us/step - loss: 0.5554 - accuracy: 0.7149 - val_loss: 0.5549 - val_accuracy: 0.7017\n",
            "Epoch 16/50\n",
            "4111/4111 [==============================] - 0s 6us/step - loss: 0.5523 - accuracy: 0.7156 - val_loss: 0.5523 - val_accuracy: 0.7024\n",
            "Epoch 17/50\n",
            "4111/4111 [==============================] - 0s 6us/step - loss: 0.5495 - accuracy: 0.7171 - val_loss: 0.5494 - val_accuracy: 0.7039\n",
            "Epoch 18/50\n",
            "4111/4111 [==============================] - 0s 6us/step - loss: 0.5472 - accuracy: 0.7186 - val_loss: 0.5481 - val_accuracy: 0.7061\n",
            "Epoch 19/50\n",
            "4111/4111 [==============================] - 0s 6us/step - loss: 0.5450 - accuracy: 0.7207 - val_loss: 0.5463 - val_accuracy: 0.7061\n",
            "Epoch 20/50\n",
            "4111/4111 [==============================] - 0s 6us/step - loss: 0.5432 - accuracy: 0.7220 - val_loss: 0.5459 - val_accuracy: 0.7075\n",
            "Epoch 21/50\n",
            "4111/4111 [==============================] - 0s 5us/step - loss: 0.5420 - accuracy: 0.7244 - val_loss: 0.5448 - val_accuracy: 0.7119\n",
            "Epoch 22/50\n",
            "4111/4111 [==============================] - 0s 5us/step - loss: 0.5402 - accuracy: 0.7261 - val_loss: 0.5431 - val_accuracy: 0.7112\n",
            "Epoch 23/50\n",
            "4111/4111 [==============================] - 0s 6us/step - loss: 0.5380 - accuracy: 0.7261 - val_loss: 0.5420 - val_accuracy: 0.7133\n",
            "Epoch 24/50\n",
            "4111/4111 [==============================] - 0s 6us/step - loss: 0.5368 - accuracy: 0.7280 - val_loss: 0.5409 - val_accuracy: 0.7163\n",
            "Epoch 25/50\n",
            "4111/4111 [==============================] - 0s 6us/step - loss: 0.5356 - accuracy: 0.7280 - val_loss: 0.5405 - val_accuracy: 0.7177\n",
            "Epoch 26/50\n",
            "4111/4111 [==============================] - 0s 6us/step - loss: 0.5345 - accuracy: 0.7293 - val_loss: 0.5405 - val_accuracy: 0.7163\n",
            "Epoch 27/50\n",
            "4111/4111 [==============================] - 0s 6us/step - loss: 0.5339 - accuracy: 0.7288 - val_loss: 0.5405 - val_accuracy: 0.7177\n",
            "Epoch 28/50\n",
            "4111/4111 [==============================] - 0s 6us/step - loss: 0.5328 - accuracy: 0.7288 - val_loss: 0.5405 - val_accuracy: 0.7185\n",
            "Epoch 29/50\n",
            "4111/4111 [==============================] - 0s 6us/step - loss: 0.5314 - accuracy: 0.7307 - val_loss: 0.5406 - val_accuracy: 0.7185\n",
            "Epoch 30/50\n",
            "4111/4111 [==============================] - 0s 5us/step - loss: 0.5298 - accuracy: 0.7332 - val_loss: 0.5401 - val_accuracy: 0.7170\n",
            "Epoch 31/50\n",
            "4111/4111 [==============================] - 0s 6us/step - loss: 0.5285 - accuracy: 0.7351 - val_loss: 0.5402 - val_accuracy: 0.7192\n",
            "Epoch 32/50\n",
            "4111/4111 [==============================] - 0s 6us/step - loss: 0.5276 - accuracy: 0.7383 - val_loss: 0.5405 - val_accuracy: 0.7199\n",
            "Epoch 33/50\n",
            "4111/4111 [==============================] - 0s 6us/step - loss: 0.5264 - accuracy: 0.7390 - val_loss: 0.5401 - val_accuracy: 0.7214\n",
            "Epoch 34/50\n",
            "4111/4111 [==============================] - 0s 6us/step - loss: 0.5254 - accuracy: 0.7390 - val_loss: 0.5397 - val_accuracy: 0.7214\n",
            "Epoch 35/50\n",
            "4111/4111 [==============================] - 0s 6us/step - loss: 0.5247 - accuracy: 0.7402 - val_loss: 0.5399 - val_accuracy: 0.7177\n",
            "Epoch 36/50\n",
            "4111/4111 [==============================] - 0s 6us/step - loss: 0.5235 - accuracy: 0.7395 - val_loss: 0.5399 - val_accuracy: 0.7170\n",
            "Epoch 37/50\n",
            "4111/4111 [==============================] - 0s 7us/step - loss: 0.5223 - accuracy: 0.7395 - val_loss: 0.5401 - val_accuracy: 0.7199\n",
            "Epoch 38/50\n",
            "4111/4111 [==============================] - 0s 6us/step - loss: 0.5215 - accuracy: 0.7390 - val_loss: 0.5401 - val_accuracy: 0.7206\n",
            "Epoch 39/50\n",
            "4111/4111 [==============================] - 0s 6us/step - loss: 0.5207 - accuracy: 0.7400 - val_loss: 0.5396 - val_accuracy: 0.7243\n",
            "Epoch 40/50\n",
            "4111/4111 [==============================] - 0s 5us/step - loss: 0.5195 - accuracy: 0.7458 - val_loss: 0.5389 - val_accuracy: 0.7272\n",
            "Epoch 41/50\n",
            "4111/4111 [==============================] - 0s 5us/step - loss: 0.5188 - accuracy: 0.7460 - val_loss: 0.5381 - val_accuracy: 0.7257\n",
            "Epoch 42/50\n",
            "4111/4111 [==============================] - 0s 6us/step - loss: 0.5176 - accuracy: 0.7458 - val_loss: 0.5371 - val_accuracy: 0.7287\n",
            "Epoch 43/50\n",
            "4111/4111 [==============================] - 0s 6us/step - loss: 0.5169 - accuracy: 0.7446 - val_loss: 0.5382 - val_accuracy: 0.7265\n",
            "Epoch 44/50\n",
            "4111/4111 [==============================] - 0s 6us/step - loss: 0.5159 - accuracy: 0.7453 - val_loss: 0.5379 - val_accuracy: 0.7287\n",
            "Epoch 45/50\n",
            "4111/4111 [==============================] - 0s 6us/step - loss: 0.5154 - accuracy: 0.7504 - val_loss: 0.5377 - val_accuracy: 0.7301\n",
            "Epoch 46/50\n",
            "4111/4111 [==============================] - 0s 6us/step - loss: 0.5147 - accuracy: 0.7504 - val_loss: 0.5373 - val_accuracy: 0.7287\n",
            "Epoch 47/50\n",
            "4111/4111 [==============================] - 0s 6us/step - loss: 0.5133 - accuracy: 0.7524 - val_loss: 0.5362 - val_accuracy: 0.7301\n",
            "Epoch 48/50\n",
            "4111/4111 [==============================] - 0s 6us/step - loss: 0.5124 - accuracy: 0.7541 - val_loss: 0.5366 - val_accuracy: 0.7316\n",
            "Epoch 49/50\n",
            "4111/4111 [==============================] - 0s 5us/step - loss: 0.5112 - accuracy: 0.7546 - val_loss: 0.5357 - val_accuracy: 0.7316\n",
            "Epoch 50/50\n",
            "4111/4111 [==============================] - 0s 6us/step - loss: 0.5103 - accuracy: 0.7531 - val_loss: 0.5364 - val_accuracy: 0.7287\n"
          ],
          "name": "stdout"
        },
        {
          "output_type": "execute_result",
          "data": {
            "text/plain": [
              "<keras.callbacks.callbacks.History at 0x7efc09d553c8>"
            ]
          },
          "metadata": {
            "tags": []
          },
          "execution_count": 76
        }
      ]
    },
    {
      "cell_type": "code",
      "metadata": {
        "id": "Wyh7__gsW-Rp",
        "colab_type": "code",
        "outputId": "edf6ca6c-45fa-433d-fe67-64e6c2efcc10",
        "colab": {
          "base_uri": "https://localhost:8080/",
          "height": 34
        }
      },
      "source": [
        "y_pred = dnn_model.predict_classes(x_test_pca)\n",
        "accuracy_score(y_test,y_pred)"
      ],
      "execution_count": 77,
      "outputs": [
        {
          "output_type": "execute_result",
          "data": {
            "text/plain": [
              "0.7308533916849015"
            ]
          },
          "metadata": {
            "tags": []
          },
          "execution_count": 77
        }
      ]
    },
    {
      "cell_type": "code",
      "metadata": {
        "id": "Q4QsildPXpVj",
        "colab_type": "code",
        "outputId": "3fed14fa-1003-4b22-c72a-8ba3b2b048b6",
        "colab": {
          "base_uri": "https://localhost:8080/",
          "height": 51
        }
      },
      "source": [
        "dnn_model.evaluate(x_test_pca, y_test, verbose=1)"
      ],
      "execution_count": 78,
      "outputs": [
        {
          "output_type": "stream",
          "text": [
            "1828/1828 [==============================] - 0s 19us/step\n"
          ],
          "name": "stdout"
        },
        {
          "output_type": "execute_result",
          "data": {
            "text/plain": [
              "[0.5362598793642265, 0.7308533787727356]"
            ]
          },
          "metadata": {
            "tags": []
          },
          "execution_count": 78
        }
      ]
    }
  ]
}