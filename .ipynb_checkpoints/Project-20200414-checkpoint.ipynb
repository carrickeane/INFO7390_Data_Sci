{
 "cells": [
  {
   "cell_type": "markdown",
   "metadata": {
    "colab_type": "text",
    "id": "CCIvffRHzv_E"
   },
   "source": [
    "# Project"
   ]
  },
  {
   "cell_type": "markdown",
   "metadata": {
    "colab_type": "text",
    "id": "rSMx0n7Tzry2"
   },
   "source": [
    "### 1 Load Packages"
   ]
  },
  {
   "cell_type": "code",
   "execution_count": 1,
   "metadata": {
    "colab": {
     "base_uri": "https://localhost:8080/",
     "height": 34
    },
    "colab_type": "code",
    "id": "Q2jfJzJtAAPN",
    "outputId": "016e0ea0-c71b-4b98-e1aa-59be8088f83a"
   },
   "outputs": [
    {
     "name": "stdout",
     "output_type": "stream",
     "text": [
      "2.2.0-rc2\n"
     ]
    }
   ],
   "source": [
    "# ========================TensorFlow========================\n",
    "try:\n",
    "  # %tensorflow_version only exists in Colab.\n",
    "  %tensorflow_version 2.x\n",
    "except Exception:\n",
    "  pass\n",
    "\n",
    "import tensorflow as tf\n",
    "from tensorflow import keras\n",
    "print(tf.__version__)"
   ]
  },
  {
   "cell_type": "code",
   "execution_count": 9,
   "metadata": {
    "colab": {
     "base_uri": "https://localhost:8080/",
     "height": 34
    },
    "colab_type": "code",
    "id": "V2Tg8mbar1BH",
    "outputId": "b54632d5-5cf3-4df3-d05d-ed642904d854"
   },
   "outputs": [],
   "source": [
    "# ========================General========================\n",
    "import os\n",
    "import io\n",
    "import sys\n",
    "import time\n",
    "import json\n",
    "import joblib\n",
    "import pandas as pd\n",
    "import numpy as np\n",
    "import requests\n",
    "import statistics\n",
    "# ignore warnings\n",
    "import warnings\n",
    "warnings.filterwarnings('ignore')\n",
    "# ========================Ploting========================\n",
    "import matplotlib as mpl\n",
    "from matplotlib import pyplot as plt\n",
    "import seaborn as sns\n",
    "%matplotlib inline\n",
    "# ========================Data Preprocessing========================\n",
    "from sklearn import preprocessing\n",
    "# Encoding\n",
    "from sklearn.preprocessing import LabelEncoder\n",
    "# Feature Scaling\n",
    "from sklearn.preprocessing import MinMaxScaler\n",
    "# Data Split\n",
    "from sklearn.model_selection import train_test_split\n",
    "# ========================Modeling========================\n",
    "# KNN\n",
    "from sklearn.neighbors import KNeighborsClassifier\n",
    "# Decision Tree & Random Forest\n",
    "from sklearn.tree import DecisionTreeClassifier\n",
    "from sklearn.ensemble import RandomForestClassifier\n",
    "from sklearn.ensemble import GradientBoostingClassifier\n",
    "# KMeans\n",
    "from sklearn.cluster import KMeans\n",
    "# ========================Evaluation========================\n",
    "from sklearn.model_selection import  cross_val_score\n",
    "from sklearn.model_selection import GridSearchCV\n",
    "from sklearn.metrics import mean_absolute_error, r2_score\n",
    "from sklearn.metrics import confusion_matrix, accuracy_score, matthews_corrcoef, f1_score\n",
    "# ========================Deep Learning========================\n",
    "# MLP\n",
    "from keras.models import Sequential\n",
    "from keras.layers import Dense, Activation, Dropout, AlphaDropout\n",
    "# ================================================"
   ]
  },
  {
   "cell_type": "code",
   "execution_count": 10,
   "metadata": {
    "colab": {
     "base_uri": "https://localhost:8080/",
     "height": 34
    },
    "colab_type": "code",
    "id": "W7XkRMngiJDg",
    "outputId": "0c030bca-3530-4181-b36c-c5b1c6f9546a"
   },
   "outputs": [],
   "source": [
    "# from google.colab import drive\n",
    "# drive.mount('/content/drive')"
   ]
  },
  {
   "cell_type": "markdown",
   "metadata": {
    "colab_type": "text",
    "id": "9NawEZ8ni5wm"
   },
   "source": [
    "### 2 Load dataset"
   ]
  },
  {
   "cell_type": "code",
   "execution_count": 11,
   "metadata": {
    "colab": {},
    "colab_type": "code",
    "id": "HI0TA9aIsEzo"
   },
   "outputs": [],
   "source": [
    "# load movie\n",
    "def load_tmdb_movies(path):\n",
    "    df = pd.read_csv(path)\n",
    "    df = df[df.release_date.notnull()]\n",
    "    df = df[df.release_date.str.contains(\"^\\d{4}\\-\\d{2}.\")]\n",
    "    df = df[df.release_date>=\"1970-01-01\"]\n",
    "    df['release_year'] = pd.to_datetime(df['release_date']).apply(lambda x: int(x.year) if x==x else None)\n",
    "    df['release_month'] = pd.to_datetime(df['release_date']).apply(lambda x: int(x.month) if x==x else None)\n",
    "    json_columns = ['genres', 'keywords', 'production_countries', 'production_companies', 'spoken_languages']\n",
    "    for column in json_columns:\n",
    "        df[column] = df[column].apply(json.loads)\n",
    "    return df"
   ]
  },
  {
   "cell_type": "code",
   "execution_count": 12,
   "metadata": {
    "colab": {},
    "colab_type": "code",
    "id": "okHCJC0lMbHp"
   },
   "outputs": [],
   "source": [
    "# load movie credits\n",
    "def load_tmdb_credits(path):\n",
    "    df = pd.read_csv(path)\n",
    "    json_columns = ['cast', 'crew']\n",
    "    for column in json_columns:\n",
    "        df[column] = df[column].apply(json.loads)\n",
    "    return df"
   ]
  },
  {
   "cell_type": "code",
   "execution_count": 13,
   "metadata": {
    "colab": {},
    "colab_type": "code",
    "id": "r88fa-ACsGqo"
   },
   "outputs": [],
   "source": [
    "# Columns that existed in IMDB version of the dataset and are gone.\n",
    "LOST_COLUMNS = [\n",
    "    'actor_1_facebook_likes',\n",
    "    'actor_2_facebook_likes',\n",
    "    'actor_3_facebook_likes',\n",
    "    'aspect_ratio',\n",
    "    'cast_total_facebook_likes',\n",
    "    'color',\n",
    "    'content_rating',\n",
    "    'director_facebook_likes',\n",
    "    'facenumber_in_poster',\n",
    "    'movie_facebook_likes',\n",
    "    'movie_imdb_link',\n",
    "    'num_critic_for_reviews',\n",
    "    'num_user_for_reviews']\n",
    "\n",
    "# Columns in TMDb that had direct equivalents in the IMDB version. \n",
    "# These columns can be used with old kernels just by changing the names\n",
    "TMDB_TO_IMDB_SIMPLE_EQUIVALENCIES = {\n",
    "    'budget': 'budget',\n",
    "    'genres': 'genres',\n",
    "    'revenue': 'gross',\n",
    "    'title': 'movie_title',\n",
    "    'runtime': 'duration',\n",
    "    'original_language': 'language',  # it's possible that spoken_languages would be a better match\n",
    "    'keywords': 'plot_keywords',\n",
    "    'vote_count': 'num_voted_users'}\n",
    "\n",
    "IMDB_COLUMNS_TO_REMAP = {'imdb_score': 'vote_average'}\n",
    "\n",
    "\n",
    "def safe_access(container, index_values):\n",
    "    # return a missing value rather than an error upon indexing/key failure\n",
    "    result = container\n",
    "    try:\n",
    "        for idx in index_values:\n",
    "            result = result[idx]\n",
    "        return result\n",
    "    except IndexError or KeyError:\n",
    "        return pd.np.nan\n",
    "\n",
    "\n",
    "def get_director(crew_data):\n",
    "    directors = [x['name'] for x in crew_data if x['job'] == 'Director']\n",
    "    return safe_access(directors, [0])\n",
    "\n",
    "\n",
    "def pipe_flatten_names(keywords):\n",
    "    return '|'.join([x['name'] for x in keywords])\n",
    "\n",
    "\n",
    "def convert_to_original_format(movies, credits):\n",
    "    # Converts TMDb data to make it as compatible as possible with kernels built on the original version of the data.\n",
    "    tmdb_movies = movies.copy()\n",
    "    tmdb_movies.rename(columns=TMDB_TO_IMDB_SIMPLE_EQUIVALENCIES, inplace=True)\n",
    "    # I'm assuming that the first production country is equivalent, but have not been able to validate this\n",
    "    tmdb_movies['country'] = tmdb_movies['production_countries'].apply(lambda x: safe_access(x, [0, 'name']))\n",
    "    tmdb_movies['language'] = tmdb_movies['spoken_languages'].apply(lambda x: safe_access(x, [0, 'name']))\n",
    "    tmdb_movies['director_name'] = credits['crew'].apply(get_director)\n",
    "    tmdb_movies['actor_1_name'] = credits['cast'].apply(lambda x: safe_access(x, [0, 'name']))\n",
    "    tmdb_movies['actor_2_name'] = credits['cast'].apply(lambda x: safe_access(x, [1, 'name']))\n",
    "    tmdb_movies['actor_3_name'] = credits['cast'].apply(lambda x: safe_access(x, [2, 'name']))\n",
    "    tmdb_movies['companies_1'] = tmdb_movies['production_companies'].apply(lambda x: safe_access(x, [0, 'name']))\n",
    "    tmdb_movies['companies_2'] = tmdb_movies['production_companies'].apply(lambda x: safe_access(x, [1, 'name']))\n",
    "    tmdb_movies['companies_3'] = tmdb_movies['production_companies'].apply(lambda x: safe_access(x, [2, 'name']))\n",
    "    tmdb_movies['genres'] = tmdb_movies['genres'].apply(pipe_flatten_names)\n",
    "    tmdb_movies['plot_keywords'] = tmdb_movies['plot_keywords'].apply(pipe_flatten_names)\n",
    "    return tmdb_movies"
   ]
  },
  {
   "cell_type": "code",
   "execution_count": 14,
   "metadata": {
    "colab": {},
    "colab_type": "code",
    "id": "kLWt5CLTitTJ"
   },
   "outputs": [],
   "source": [
    "# movies_path = '/content/drive/My Drive/Colab Notebooks/NEU-7390 Advances Data Sci Architecture/movie_data.csv'\n",
    "# credits_path = '/content/drive/My Drive/Colab Notebooks/NEU-7390 Advances Data Sci Architecture/movie_credits.csv'"
   ]
  },
  {
   "cell_type": "code",
   "execution_count": 41,
   "metadata": {
    "colab": {},
    "colab_type": "code",
    "id": "Wee6OKqQoGZ7"
   },
   "outputs": [],
   "source": [
    "# movies = load_tmdb_movies(movies_path)\n",
    "# credits = load_tmdb_credits(credits_path)\n",
    "# raw_data =convert_to_original_format(movies, credits)\n",
    "\n",
    "movies = load_tmdb_movies(\"../../PreditMovieSuccess/movie_data_edited.csv\")\n",
    "credits = load_tmdb_credits(\"../../PreditMovieSuccess/movie_credits.csv\")\n",
    "df =convert_to_original_format(movies, credits)"
   ]
  },
  {
   "cell_type": "markdown",
   "metadata": {
    "colab_type": "text",
    "id": "HmxT6iObAA-2"
   },
   "source": [
    "### 3 Data Preprocessing\n",
    "*   Handling Missing Values\n",
    "*   Drop Duplication Values\n",
    "*   Drop Outliers"
   ]
  },
  {
   "cell_type": "markdown",
   "metadata": {
    "colab_type": "text",
    "id": "09mKqm1h0267"
   },
   "source": [
    "#### 3.1 Handling Missing Values"
   ]
  },
  {
   "cell_type": "code",
   "execution_count": 42,
   "metadata": {
    "colab": {
     "base_uri": "https://localhost:8080/",
     "height": 202
    },
    "colab_type": "code",
    "id": "I3OUFK6GPdyq",
    "outputId": "fc193f6f-d2b1-44c0-e1c4-e7b3205e7c87"
   },
   "outputs": [],
   "source": [
    "raw_data = df[df['budget'] > 0]"
   ]
  },
  {
   "cell_type": "code",
   "execution_count": 43,
   "metadata": {
    "colab": {},
    "colab_type": "code",
    "id": "qNxNxwyJCWCv"
   },
   "outputs": [],
   "source": [
    "def missing_value_table(df):\n",
    "    total_missing = df.isnull().sum().sort_values(ascending=False)\n",
    "    percent = round(((df.isnull().sum()/len(df))*100),2).sort_values(ascending=False)\n",
    "    missing_data = pd.concat([total_missing, percent], axis=1, keys=['total Missing', 'Percent(%)'])\n",
    "    print(\"=====Missing Value Check Table=====\")\n",
    "    print(missing_data)"
   ]
  },
  {
   "cell_type": "code",
   "execution_count": 44,
   "metadata": {
    "colab": {
     "base_uri": "https://localhost:8080/",
     "height": 561
    },
    "colab_type": "code",
    "id": "uL6K4OmGCdbX",
    "outputId": "e8e377d0-14ab-486b-ffb8-9150ea07cc08"
   },
   "outputs": [
    {
     "name": "stdout",
     "output_type": "stream",
     "text": [
      "=====Missing Value Check Table=====\n",
      "                      total Missing  Percent(%)\n",
      "homepage                       5455       72.11\n",
      "companies_3                    4590       60.67\n",
      "companies_2                    2808       37.12\n",
      "tagline                        2058       27.20\n",
      "actor_3_name                   1073       14.18\n",
      "actor_2_name                    909       12.02\n",
      "companies_1                     900       11.90\n",
      "director_name                   670        8.86\n",
      "actor_1_name                    581        7.68\n",
      "country                         348        4.60\n",
      "language                        188        2.49\n",
      "overview                         39        0.52\n",
      "duration                          5        0.07\n",
      "original_title                    0        0.00\n",
      "id                                0        0.00\n",
      "plot_keywords                     0        0.00\n",
      "production_companies              0        0.00\n",
      "genres                            0        0.00\n",
      "popularity                        0        0.00\n",
      "spoken_languages                  0        0.00\n",
      "production_countries              0        0.00\n",
      "release_date                      0        0.00\n",
      "gross                             0        0.00\n",
      "status                            0        0.00\n",
      "movie_title                       0        0.00\n",
      "vote_average                      0        0.00\n",
      "num_voted_users                   0        0.00\n",
      "release_year                      0        0.00\n",
      "release_month                     0        0.00\n",
      "budget                            0        0.00\n"
     ]
    }
   ],
   "source": [
    "missing_value_table(raw_data)"
   ]
  },
  {
   "cell_type": "code",
   "execution_count": 45,
   "metadata": {
    "colab": {},
    "colab_type": "code",
    "id": "yWGYpxH6k6DX"
   },
   "outputs": [],
   "source": [
    "# drop homepage & tagline\n",
    "raw_data.drop(['homepage','tagline'], axis=1, inplace=True)"
   ]
  },
  {
   "cell_type": "markdown",
   "metadata": {
    "colab_type": "text",
    "id": "4qMrd1gO1FT-"
   },
   "source": [
    "#### 3.2 Drop Duplication Values and Unseen Features"
   ]
  },
  {
   "cell_type": "code",
   "execution_count": 46,
   "metadata": {
    "colab": {},
    "colab_type": "code",
    "id": "6Rof3hdTmKhc"
   },
   "outputs": [],
   "source": [
    "# Drop Duplication Values\n",
    "drop_duplicates_subset = ('budget', 'genres', 'id', 'plot_keywords', 'language', 'original_title','overview', 'popularity','release_date', 'gross', 'duration','status','movie_title','vote_average','num_voted_users')\n",
    "raw_data.drop_duplicates(subset=drop_duplicates_subset, keep='first', inplace=True)"
   ]
  },
  {
   "cell_type": "code",
   "execution_count": 47,
   "metadata": {
    "colab": {},
    "colab_type": "code",
    "id": "pgDmAxdNmKmm"
   },
   "outputs": [],
   "source": [
    "# Drop features that only know after movie release\n",
    "raw_data.drop(['num_voted_users', 'popularity'], axis=1, inplace=True)"
   ]
  },
  {
   "cell_type": "code",
   "execution_count": 48,
   "metadata": {
    "colab": {
     "base_uri": "https://localhost:8080/",
     "height": 596
    },
    "colab_type": "code",
    "id": "DJ5JAJpouebc",
    "outputId": "5540c50c-8116-4db9-8235-bd275c605a3a"
   },
   "outputs": [
    {
     "data": {
      "image/png": "[encoded data removed]",
      "text/plain": [
       "<matplotlib.figure.Figure at 0x1a77ec75c0>"
      ]
     },
     "metadata": {},
     "output_type": "display_data"
    }
   ],
   "source": [
    "# Correlation matrix between numerical values\n",
    "plt.figure(figsize = (20,10))\n",
    "g = sns.heatmap(raw_data[list(raw_data)].corr(),annot=True, fmt = \".2f\", cmap = \"coolwarm\",linewidths= 0.01)"
   ]
  },
  {
   "cell_type": "markdown",
   "metadata": {
    "colab_type": "text",
    "id": "oOwKUo4d0yGm"
   },
   "source": [
    "#### 3.3 Drop Outliers"
   ]
  },
  {
   "cell_type": "code",
   "execution_count": 49,
   "metadata": {
    "colab": {
     "base_uri": "https://localhost:8080/",
     "height": 454
    },
    "colab_type": "code",
    "id": "_kytxxY9uegx",
    "outputId": "aa9c1511-952f-4aa6-c456-2aa1f6636de8"
   },
   "outputs": [
    {
     "data": {
      "text/plain": [
       "<matplotlib.figure.Figure at 0x1a33f37eb8>"
      ]
     },
     "metadata": {},
     "output_type": "display_data"
    },
    {
     "data": {
      "image/png": "[encoded data removed]",
      "text/plain": [
       "<matplotlib.figure.Figure at 0x1a347fb2b0>"
      ]
     },
     "metadata": {},
     "output_type": "display_data"
    }
   ],
   "source": [
    "# release_year and vote_average\n",
    "plt.figure(figsize=(15,10))\n",
    "sns.set(style=\"whitegrid\")\n",
    "sns.jointplot(x=\"release_year\", y=\"vote_average\", data=raw_data)\n",
    "plt.show()"
   ]
  },
  {
   "cell_type": "code",
   "execution_count": 50,
   "metadata": {
    "colab": {
     "base_uri": "https://localhost:8080/",
     "height": 51
    },
    "colab_type": "code",
    "id": "CKJ36hZkueln",
    "outputId": "cf52bd37-a155-40ff-b8fc-0545f71ffceb"
   },
   "outputs": [
    {
     "name": "stdout",
     "output_type": "stream",
     "text": [
      "Delete 165 rows;\n",
      "Current Total rows: 7400\n"
     ]
    }
   ],
   "source": [
    "# Drop rows in dataset containing 0 and below vote average\n",
    "before_rows = len(raw_data)\n",
    "raw_data = raw_data[raw_data['vote_average'] > 0]\n",
    "print('Delete {} rows;\\nCurrent Total rows: {}'.format(before_rows-len(raw_data), len(raw_data)))"
   ]
  },
  {
   "cell_type": "code",
   "execution_count": 51,
   "metadata": {
    "colab": {
     "base_uri": "https://localhost:8080/",
     "height": 611
    },
    "colab_type": "code",
    "id": "ad7mLd7bueql",
    "outputId": "bc8ba468-c03a-4497-e2f3-96bf62a2c25e"
   },
   "outputs": [
    {
     "data": {
      "image/png": "[encoded data removed]",
      "text/plain": [
       "<matplotlib.figure.Figure at 0x1a33ee5320>"
      ]
     },
     "metadata": {},
     "output_type": "display_data"
    }
   ],
   "source": [
    "plt.figure(figsize = (15,10))\n",
    "sns.set(style=\"whitegrid\")\n",
    "sns.regplot(x=\"release_year\", y=\"vote_average\", data=raw_data)\n",
    "plt.show()"
   ]
  },
  {
   "cell_type": "code",
   "execution_count": 52,
   "metadata": {
    "colab": {
     "base_uri": "https://localhost:8080/",
     "height": 454
    },
    "colab_type": "code",
    "id": "e1Gvb_m4uevH",
    "outputId": "48dcf753-53b8-4513-9a62-6249e03fbfc8"
   },
   "outputs": [
    {
     "data": {
      "text/plain": [
       "<matplotlib.figure.Figure at 0x1a39032208>"
      ]
     },
     "metadata": {},
     "output_type": "display_data"
    },
    {
     "data": {
      "image/png": "[encoded data removed]",
      "text/plain": [
       "<matplotlib.figure.Figure at 0x1a34868d68>"
      ]
     },
     "metadata": {},
     "output_type": "display_data"
    }
   ],
   "source": [
    "# Duration and vote_average\n",
    "plt.figure(figsize = (15,10))\n",
    "sns.set(style=\"whitegrid\")\n",
    "sns.jointplot(x=\"duration\", y=\"vote_average\", data=raw_data)\n",
    "plt.show()"
   ]
  },
  {
   "cell_type": "code",
   "execution_count": 53,
   "metadata": {
    "colab": {
     "base_uri": "https://localhost:8080/",
     "height": 51
    },
    "colab_type": "code",
    "id": "1r1lgwFk75EY",
    "outputId": "57b6d764-59f8-4c15-9ef9-48f69382fd6e"
   },
   "outputs": [
    {
     "name": "stdout",
     "output_type": "stream",
     "text": [
      "Delete 85 rows;\n",
      "Current Total rows: 7315\n"
     ]
    }
   ],
   "source": [
    "# Most of directors decide to make 90-120 mins movie, 0-10 duration is unlikely possible\n",
    "# Drop rows in dataset of which duration > 10 and duration < 600\n",
    "before_rows = len(raw_data)\n",
    "raw_data = raw_data[10<raw_data['duration']]\n",
    "raw_data = raw_data[raw_data['duration']<600]\n",
    "print('Delete {} rows;\\nCurrent Total rows: {}'.format(before_rows-len(raw_data), len(raw_data)))"
   ]
  },
  {
   "cell_type": "code",
   "execution_count": 54,
   "metadata": {
    "colab": {
     "base_uri": "https://localhost:8080/",
     "height": 611
    },
    "colab_type": "code",
    "id": "-6ZUR32I1wEY",
    "outputId": "006db2bb-a8dc-49bd-88da-d9418e426814"
   },
   "outputs": [
    {
     "data": {
      "image/png": "[encoded data removed]",
      "text/plain": [
       "<matplotlib.figure.Figure at 0x1a38fe37f0>"
      ]
     },
     "metadata": {},
     "output_type": "display_data"
    }
   ],
   "source": [
    "plt.figure(figsize=(15,10))\n",
    "sns.set(style=\"whitegrid\")\n",
    "sns.regplot(x=\"duration\", y=\"vote_average\", data=raw_data)\n",
    "plt.show()"
   ]
  },
  {
   "cell_type": "code",
   "execution_count": 55,
   "metadata": {
    "colab": {
     "base_uri": "https://localhost:8080/",
     "height": 476
    },
    "colab_type": "code",
    "id": "ocpFbVWODF3r",
    "outputId": "d5470b0d-ebea-49a0-f5bf-42f003a9c6b5"
   },
   "outputs": [
    {
     "name": "stdout",
     "output_type": "stream",
     "text": [
      "=====Missing Value Check Table=====\n",
      "                      total Missing  Percent(%)\n",
      "companies_3                    4350       59.47\n",
      "companies_2                    2585       35.34\n",
      "actor_3_name                   1023       13.98\n",
      "actor_2_name                    868       11.87\n",
      "companies_1                     729        9.97\n",
      "director_name                   640        8.75\n",
      "actor_1_name                    551        7.53\n",
      "country                         261        3.57\n",
      "language                        120        1.64\n",
      "overview                         13        0.18\n",
      "production_countries              0        0.00\n",
      "genres                            0        0.00\n",
      "id                                0        0.00\n",
      "plot_keywords                     0        0.00\n",
      "original_title                    0        0.00\n",
      "production_companies              0        0.00\n",
      "spoken_languages                  0        0.00\n",
      "release_date                      0        0.00\n",
      "gross                             0        0.00\n",
      "duration                          0        0.00\n",
      "status                            0        0.00\n",
      "movie_title                       0        0.00\n",
      "vote_average                      0        0.00\n",
      "release_year                      0        0.00\n",
      "release_month                     0        0.00\n",
      "budget                            0        0.00\n"
     ]
    }
   ],
   "source": [
    "missing_value_table(raw_data)"
   ]
  },
  {
   "cell_type": "markdown",
   "metadata": {
    "colab_type": "text",
    "id": "klKeD8Od8SL4"
   },
   "source": [
    "### 4 Data Wrangling: Define a movie is successful or unsuccessful and edit features\n",
    "*   Define Label\n",
    "*   Budget\n",
    "*   Release Year\n",
    "*   Duration\n",
    "*   Genres\n",
    "*   Director\n",
    "*   Actor\n",
    "*   Company"
   ]
  },
  {
   "cell_type": "markdown",
   "metadata": {
    "colab_type": "text",
    "id": "s3U2hbA0HFi3"
   },
   "source": [
    "#### 4.1 Define Label"
   ]
  },
  {
   "cell_type": "code",
   "execution_count": 56,
   "metadata": {
    "colab": {
     "base_uri": "https://localhost:8080/",
     "height": 136
    },
    "colab_type": "code",
    "id": "-gtoSahN9syZ",
    "outputId": "0ad1f1a6-9d2b-4c73-e080-d07d5893c51c"
   },
   "outputs": [
    {
     "data": {
      "text/plain": [
       "Index(['budget', 'genres', 'id', 'plot_keywords', 'language', 'original_title',\n",
       "       'overview', 'production_companies', 'production_countries',\n",
       "       'release_date', 'gross', 'duration', 'spoken_languages', 'status',\n",
       "       'movie_title', 'vote_average', 'release_year', 'release_month',\n",
       "       'country', 'director_name', 'actor_1_name', 'actor_2_name',\n",
       "       'actor_3_name', 'companies_1', 'companies_2', 'companies_3'],\n",
       "      dtype='object')"
      ]
     },
     "execution_count": 56,
     "metadata": {},
     "output_type": "execute_result"
    }
   ],
   "source": [
    "# Total columns fot dataset\n",
    "raw_data.columns"
   ]
  },
  {
   "cell_type": "code",
   "execution_count": 57,
   "metadata": {
    "colab": {
     "base_uri": "https://localhost:8080/",
     "height": 390
    },
    "colab_type": "code",
    "id": "3JXIP3Kq7oD9",
    "outputId": "2352ef3e-b6e9-47d7-bc9f-b203082234f6"
   },
   "outputs": [
    {
     "data": {
      "text/html": [
       "<div>\n",
       "<style scoped>\n",
       "    .dataframe tbody tr th:only-of-type {\n",
       "        vertical-align: middle;\n",
       "    }\n",
       "\n",
       "    .dataframe tbody tr th {\n",
       "        vertical-align: top;\n",
       "    }\n",
       "\n",
       "    .dataframe thead th {\n",
       "        text-align: right;\n",
       "    }\n",
       "</style>\n",
       "<table border=\"1\" class=\"dataframe\">\n",
       "  <thead>\n",
       "    <tr style=\"text-align: right;\">\n",
       "      <th></th>\n",
       "      <th>budget</th>\n",
       "      <th>id</th>\n",
       "      <th>gross</th>\n",
       "      <th>duration</th>\n",
       "      <th>vote_average</th>\n",
       "      <th>release_year</th>\n",
       "      <th>release_month</th>\n",
       "    </tr>\n",
       "  </thead>\n",
       "  <tbody>\n",
       "    <tr>\n",
       "      <th>count</th>\n",
       "      <td>7.315000e+03</td>\n",
       "      <td>7315.000000</td>\n",
       "      <td>7.315000e+03</td>\n",
       "      <td>7315.000000</td>\n",
       "      <td>7315.000000</td>\n",
       "      <td>7315.000000</td>\n",
       "      <td>7315.000000</td>\n",
       "    </tr>\n",
       "    <tr>\n",
       "      <th>mean</th>\n",
       "      <td>2.078810e+07</td>\n",
       "      <td>24791.978947</td>\n",
       "      <td>5.038520e+07</td>\n",
       "      <td>104.838141</td>\n",
       "      <td>6.027109</td>\n",
       "      <td>2000.067943</td>\n",
       "      <td>6.679426</td>\n",
       "    </tr>\n",
       "    <tr>\n",
       "      <th>std</th>\n",
       "      <td>3.227801e+07</td>\n",
       "      <td>20612.878079</td>\n",
       "      <td>1.242341e+08</td>\n",
       "      <td>23.651808</td>\n",
       "      <td>1.158989</td>\n",
       "      <td>10.179368</td>\n",
       "      <td>3.491410</td>\n",
       "    </tr>\n",
       "    <tr>\n",
       "      <th>min</th>\n",
       "      <td>1.000000e+00</td>\n",
       "      <td>5.000000</td>\n",
       "      <td>0.000000e+00</td>\n",
       "      <td>11.000000</td>\n",
       "      <td>0.500000</td>\n",
       "      <td>1970.000000</td>\n",
       "      <td>1.000000</td>\n",
       "    </tr>\n",
       "    <tr>\n",
       "      <th>10%</th>\n",
       "      <td>2.898576e+05</td>\n",
       "      <td>1921.400000</td>\n",
       "      <td>0.000000e+00</td>\n",
       "      <td>85.000000</td>\n",
       "      <td>4.500000</td>\n",
       "      <td>1984.000000</td>\n",
       "      <td>2.000000</td>\n",
       "    </tr>\n",
       "    <tr>\n",
       "      <th>25%</th>\n",
       "      <td>2.000000e+06</td>\n",
       "      <td>9608.500000</td>\n",
       "      <td>0.000000e+00</td>\n",
       "      <td>91.000000</td>\n",
       "      <td>5.400000</td>\n",
       "      <td>1995.000000</td>\n",
       "      <td>4.000000</td>\n",
       "    </tr>\n",
       "    <tr>\n",
       "      <th>50%</th>\n",
       "      <td>8.500000e+06</td>\n",
       "      <td>16608.000000</td>\n",
       "      <td>3.011195e+06</td>\n",
       "      <td>100.000000</td>\n",
       "      <td>6.200000</td>\n",
       "      <td>2003.000000</td>\n",
       "      <td>7.000000</td>\n",
       "    </tr>\n",
       "    <tr>\n",
       "      <th>75%</th>\n",
       "      <td>2.500000e+07</td>\n",
       "      <td>39867.500000</td>\n",
       "      <td>4.159436e+07</td>\n",
       "      <td>114.000000</td>\n",
       "      <td>6.800000</td>\n",
       "      <td>2008.000000</td>\n",
       "      <td>10.000000</td>\n",
       "    </tr>\n",
       "    <tr>\n",
       "      <th>90%</th>\n",
       "      <td>5.800000e+07</td>\n",
       "      <td>57419.800000</td>\n",
       "      <td>1.498823e+08</td>\n",
       "      <td>131.000000</td>\n",
       "      <td>7.300000</td>\n",
       "      <td>2010.000000</td>\n",
       "      <td>11.000000</td>\n",
       "    </tr>\n",
       "    <tr>\n",
       "      <th>99%</th>\n",
       "      <td>1.550000e+08</td>\n",
       "      <td>72766.860000</td>\n",
       "      <td>6.230111e+08</td>\n",
       "      <td>180.000000</td>\n",
       "      <td>8.200000</td>\n",
       "      <td>2012.000000</td>\n",
       "      <td>12.000000</td>\n",
       "    </tr>\n",
       "    <tr>\n",
       "      <th>max</th>\n",
       "      <td>3.800000e+08</td>\n",
       "      <td>74595.000000</td>\n",
       "      <td>2.787965e+09</td>\n",
       "      <td>540.000000</td>\n",
       "      <td>10.000000</td>\n",
       "      <td>2019.000000</td>\n",
       "      <td>12.000000</td>\n",
       "    </tr>\n",
       "  </tbody>\n",
       "</table>\n",
       "</div>"
      ],
      "text/plain": [
       "             budget            id         gross     duration  vote_average  \\\n",
       "count  7.315000e+03   7315.000000  7.315000e+03  7315.000000   7315.000000   \n",
       "mean   2.078810e+07  24791.978947  5.038520e+07   104.838141      6.027109   \n",
       "std    3.227801e+07  20612.878079  1.242341e+08    23.651808      1.158989   \n",
       "min    1.000000e+00      5.000000  0.000000e+00    11.000000      0.500000   \n",
       "10%    2.898576e+05   1921.400000  0.000000e+00    85.000000      4.500000   \n",
       "25%    2.000000e+06   9608.500000  0.000000e+00    91.000000      5.400000   \n",
       "50%    8.500000e+06  16608.000000  3.011195e+06   100.000000      6.200000   \n",
       "75%    2.500000e+07  39867.500000  4.159436e+07   114.000000      6.800000   \n",
       "90%    5.800000e+07  57419.800000  1.498823e+08   131.000000      7.300000   \n",
       "99%    1.550000e+08  72766.860000  6.230111e+08   180.000000      8.200000   \n",
       "max    3.800000e+08  74595.000000  2.787965e+09   540.000000     10.000000   \n",
       "\n",
       "       release_year  release_month  \n",
       "count   7315.000000    7315.000000  \n",
       "mean    2000.067943       6.679426  \n",
       "std       10.179368       3.491410  \n",
       "min     1970.000000       1.000000  \n",
       "10%     1984.000000       2.000000  \n",
       "25%     1995.000000       4.000000  \n",
       "50%     2003.000000       7.000000  \n",
       "75%     2008.000000      10.000000  \n",
       "90%     2010.000000      11.000000  \n",
       "99%     2012.000000      12.000000  \n",
       "max     2019.000000      12.000000  "
      ]
     },
     "execution_count": 57,
     "metadata": {},
     "output_type": "execute_result"
    }
   ],
   "source": [
    "raw_data.describe(percentiles=[.10,.25,.5,.75,.9,.99], include=['float','int'])"
   ]
  },
  {
   "cell_type": "code",
   "execution_count": 59,
   "metadata": {
    "colab": {
     "base_uri": "https://localhost:8080/",
     "height": 68
    },
    "colab_type": "code",
    "id": "NR6bKRIK9s1u",
    "outputId": "93b1393f-2b9d-45e2-d84a-fbb82b6bc618"
   },
   "outputs": [
    {
     "data": {
      "text/plain": [
       "1    3994\n",
       "0    3321\n",
       "Name: success, dtype: int64"
      ]
     },
     "execution_count": 59,
     "metadata": {},
     "output_type": "execute_result"
    }
   ],
   "source": [
    "# For this kernel, successful movies is a movie which got vote_score more than vote_score mean\n",
    "raw_data['success'] = raw_data['vote_average'].map(lambda s :1  if s >= raw_data['vote_average'].mean() else 0)\n",
    "raw_data.success.value_counts()"
   ]
  },
  {
   "cell_type": "code",
   "execution_count": 60,
   "metadata": {},
   "outputs": [
    {
     "data": {
      "text/plain": [
       "0    5305\n",
       "1    2010\n",
       "Name: success, dtype: int64"
      ]
     },
     "execution_count": 60,
     "metadata": {},
     "output_type": "execute_result"
    }
   ],
   "source": [
    "# For this kernel, successful movies is a movie which got vote_score more than vote_score mean\n",
    "# raw_data['success'] = raw_data['vote_average'].map(lambda s :1  if s >= raw_data['vote_average'].mean() else 0)\n",
    "# raw_data.success.value_counts()\n",
    "for i in raw_data.index:\n",
    "    gross = float(raw_data.at[i, 'gross'])\n",
    "    budget = float(raw_data.at[i, 'budget'])\n",
    "    raw_data.at[i, 'success'] = 1 if raw_data.at[i, 'success'] == 1 and gross / budget >= 1.2 else 0\n",
    "raw_data.success.value_counts()"
   ]
  },
  {
   "cell_type": "code",
   "execution_count": 61,
   "metadata": {
    "colab": {
     "base_uri": "https://localhost:8080/",
     "height": 303
    },
    "colab_type": "code",
    "id": "3YaFV3Ba9s7K",
    "outputId": "cac505fe-b8ff-457d-a104-537c52b80067"
   },
   "outputs": [
    {
     "data": {
      "image/png": "[encoded data removed]",
      "text/plain": [
       "<matplotlib.figure.Figure at 0x1a38e9a198>"
      ]
     },
     "metadata": {},
     "output_type": "display_data"
    }
   ],
   "source": [
    "# Data to plot\n",
    "plt.figure(figsize=(5,5))\n",
    "labels = [\"Unsuccess\",\"Success\"]\n",
    "sizes = raw_data['success'].value_counts(sort=False)\n",
    "explode = (0.1,0)  # explode 1st slice\n",
    "# Plot\n",
    "plt.pie(sizes, explode=explode, labels=labels, autopct='%1.1f%%', shadow=True, startangle=140)\n",
    "plt.axis('equal')\n",
    "plt.show()"
   ]
  },
  {
   "cell_type": "markdown",
   "metadata": {
    "colab_type": "text",
    "id": "_rQJlv0hHdQM"
   },
   "source": [
    "#### 4.2 Budget"
   ]
  },
  {
   "cell_type": "code",
   "execution_count": 62,
   "metadata": {
    "colab": {},
    "colab_type": "code",
    "id": "n636RM9nXlLe"
   },
   "outputs": [],
   "source": [
    "raw_data.budget=raw_data.budget.astype(int)"
   ]
  },
  {
   "cell_type": "code",
   "execution_count": 63,
   "metadata": {
    "colab": {
     "base_uri": "https://localhost:8080/",
     "height": 296
    },
    "colab_type": "code",
    "id": "7ERdEFLeOUKw",
    "outputId": "6ee6c16d-86ee-4162-fbb7-a35f0fd3071f"
   },
   "outputs": [
    {
     "data": {
      "image/png": "[encoded data removed]",
      "text/plain": [
       "<matplotlib.figure.Figure at 0x1a38ed3668>"
      ]
     },
     "metadata": {},
     "output_type": "display_data"
    }
   ],
   "source": [
    "# budget distibution\n",
    "g = sns.kdeplot(raw_data.budget[(raw_data[\"success\"] == 0) ], shade = True)\n",
    "g = sns.kdeplot(raw_data.budget[(raw_data[\"success\"] == 1) ], shade= True)\n",
    "g.set_xlabel(\"budget\")\n",
    "g.set_ylabel(\"Frequency\")\n",
    "g = g.legend([\"Unsuccess\",\"Success\"])"
   ]
  },
  {
   "cell_type": "code",
   "execution_count": 64,
   "metadata": {
    "colab": {
     "base_uri": "https://localhost:8080/",
     "height": 296
    },
    "colab_type": "code",
    "id": "YLyT46DbHfzo",
    "outputId": "11dd8115-c7bd-4cd3-d850-f2ad6463cc6d"
   },
   "outputs": [
    {
     "data": {
      "image/png": "[encoded data removed]",
      "text/plain": [
       "<matplotlib.figure.Figure at 0x1a38e31048>"
      ]
     },
     "metadata": {},
     "output_type": "display_data"
    }
   ],
   "source": [
    "# Non-zero budget distibution\n",
    "g = sns.kdeplot(raw_data.budget[raw_data.budget>0][(raw_data[\"success\"] == 0)], shade = True)\n",
    "g = sns.kdeplot(raw_data.budget[raw_data.budget>0][(raw_data[\"success\"] == 1)], shade= True)\n",
    "g.set_xlabel(\"budget\")\n",
    "g.set_ylabel(\"Frequency\")\n",
    "g = g.legend([\"Unsuccess\",\"Success\"])"
   ]
  },
  {
   "cell_type": "code",
   "execution_count": 65,
   "metadata": {
    "colab": {
     "base_uri": "https://localhost:8080/",
     "height": 34
    },
    "colab_type": "code",
    "id": "2be0y2gluMWt",
    "outputId": "bb5c3bb1-91d0-4ad8-b915-3e177d3fd205"
   },
   "outputs": [
    {
     "name": "stdout",
     "output_type": "stream",
     "text": [
      "Percent of zero budget: 0.0%\n"
     ]
    }
   ],
   "source": [
    "print(\"Percent of zero budget: {}%\".format(round((raw_data.budget==0).sum()/len(raw_data)*100, 2)))"
   ]
  },
  {
   "cell_type": "code",
   "execution_count": 66,
   "metadata": {
    "colab": {
     "base_uri": "https://localhost:8080/",
     "height": 51
    },
    "colab_type": "code",
    "id": "BS4OKDrjt5zd",
    "outputId": "94484286-e9f4-4c45-cd0f-0dd66f3a604a"
   },
   "outputs": [
    {
     "name": "stdout",
     "output_type": "stream",
     "text": [
      "Delete 0 rows;\n",
      "Current rows: 7315\n"
     ]
    }
   ],
   "source": [
    "# Based on common sence, no moive can be made with zero budget. So drop rows with zero budget\n",
    "before_rows = len(raw_data)\n",
    "raw_data = raw_data[raw_data.budget!=0]\n",
    "print('Delete {} rows;\\nCurrent rows: {}'.format(before_rows-len(raw_data), len(raw_data)))"
   ]
  },
  {
   "cell_type": "code",
   "execution_count": 67,
   "metadata": {
    "colab": {},
    "colab_type": "code",
    "id": "7wu7kFHDJlyo"
   },
   "outputs": [],
   "source": [
    "# The Q1,Q2(median),Q3,95% of budget of non-zero movies\n",
    "non_zero_budget_Q1 = raw_data.budget[raw_data.budget>0].quantile(0.25)\n",
    "non_zero_budget_median = raw_data.budget[raw_data.budget>0].quantile(0.5)\n",
    "non_zero_budget_Q3 = raw_data.budget[raw_data.budget>0].quantile(0.75)\n",
    "non_zero_budget_95 = raw_data.budget[raw_data.budget>0].quantile(0.95)"
   ]
  },
  {
   "cell_type": "code",
   "execution_count": 68,
   "metadata": {
    "colab": {},
    "colab_type": "code",
    "id": "fIQpIISWHf5X"
   },
   "outputs": [],
   "source": [
    "'''\n",
    "Create new feature of budget\n",
    "0 < Budget < Q1 => VeryLowBudget\n",
    "Q1 <= Budget < Median =>LowBudget\n",
    "Median <= Budget < Q3 => MedBudget\n",
    "Q3 <= Budget < 95% => HighBudget\n",
    "95% <= Budget => VeryHighBudget\n",
    "'''\n",
    "raw_data['VeryLowBudget'] = raw_data['budget'].map(lambda s: 1 if 0< s < non_zero_budget_Q1 else 0)\n",
    "raw_data['LowBudget'] = raw_data['budget'].map(lambda s: 1 if non_zero_budget_Q1 <= s < non_zero_budget_median else 0)\n",
    "raw_data['MedBudget'] = raw_data['budget'].map(lambda s: 1 if  non_zero_budget_median <= s < non_zero_budget_Q3 else 0)\n",
    "raw_data['HighBudget'] = raw_data['budget'].map(lambda s: 1 if non_zero_budget_Q3 <= s < non_zero_budget_95 else 0)\n",
    "raw_data['VeryHighBudget'] = raw_data['budget'].map(lambda s: 1 if s >= non_zero_budget_95 else 0)"
   ]
  },
  {
   "cell_type": "markdown",
   "metadata": {
    "colab_type": "text",
    "id": "t1FzuecTQ0rD"
   },
   "source": [
    "#### 4.3 Release Year"
   ]
  },
  {
   "cell_type": "code",
   "execution_count": 69,
   "metadata": {
    "colab": {
     "base_uri": "https://localhost:8080/",
     "height": 365
    },
    "colab_type": "code",
    "id": "JQC5CHePRX_E",
    "outputId": "4cb8533f-37eb-4a39-e5f5-e57c737cc287"
   },
   "outputs": [
    {
     "data": {
      "image/png": "[encoded data removed]",
      "text/plain": [
       "<matplotlib.figure.Figure at 0x1a38e34128>"
      ]
     },
     "metadata": {},
     "output_type": "display_data"
    }
   ],
   "source": [
    "# Release Year Distribution\n",
    "g = sns.factorplot(y=\"release_year\",x=\"success\",data=raw_data,kind=\"violin\", palette = \"Set2\")"
   ]
  },
  {
   "cell_type": "code",
   "execution_count": 70,
   "metadata": {
    "colab": {
     "base_uri": "https://localhost:8080/",
     "height": 365
    },
    "colab_type": "code",
    "id": "tcaFlxsER3WS",
    "outputId": "be648a72-2237-4f2c-b79d-9503bcd72f25"
   },
   "outputs": [
    {
     "data": {
      "image/png": "[encoded data removed]",
      "text/plain": [
       "<matplotlib.figure.Figure at 0x1a38e9ad30>"
      ]
     },
     "metadata": {},
     "output_type": "display_data"
    }
   ],
   "source": [
    "# Release Month Distribution\n",
    "g = sns.factorplot(y=\"release_month\",x=\"success\",data=raw_data,kind=\"violin\", palette = \"Set2\")"
   ]
  },
  {
   "cell_type": "markdown",
   "metadata": {
    "colab_type": "text",
    "id": "HFsJRX1OQ5Z7"
   },
   "source": [
    "#### 4.4 Duration"
   ]
  },
  {
   "cell_type": "code",
   "execution_count": 71,
   "metadata": {
    "colab": {
     "base_uri": "https://localhost:8080/",
     "height": 51
    },
    "colab_type": "code",
    "id": "mBHxwDJGRyh2",
    "outputId": "9e2b13fc-b3d4-4fc5-c447-06b90766c9ad"
   },
   "outputs": [
    {
     "name": "stdout",
     "output_type": "stream",
     "text": [
      "Delete 0 rows;\n",
      "Current Total rows: 7315\n"
     ]
    }
   ],
   "source": [
    "before = len(raw_data)\n",
    "raw_data = raw_data[np.isfinite(raw_data['duration'])]\n",
    "print('Delete {} rows;\\nCurrent Total rows: {}'.format(before-len(raw_data), len(raw_data)))"
   ]
  },
  {
   "cell_type": "code",
   "execution_count": 72,
   "metadata": {
    "colab": {
     "base_uri": "https://localhost:8080/",
     "height": 285
    },
    "colab_type": "code",
    "id": "erpUsnNuRylJ",
    "outputId": "67c45b6c-0e90-48bf-99a9-a9749f11f069"
   },
   "outputs": [
    {
     "data": {
      "image/png": "[encoded data removed]",
      "text/plain": [
       "<matplotlib.figure.Figure at 0x1a38e9aac8>"
      ]
     },
     "metadata": {},
     "output_type": "display_data"
    }
   ],
   "source": [
    "# duration distibution\n",
    "g = sns.kdeplot(raw_data.duration[(raw_data[\"success\"] == 0) ], color=\"blueviolet\", shade = True)\n",
    "g = sns.kdeplot(raw_data.duration[(raw_data[\"success\"] == 1) ], ax =g, color=\"gold\", shade= True)\n",
    "g.set_xlabel(\"Duration\")\n",
    "g.set_ylabel(\"Frequency\")\n",
    "g = g.legend([\"Unsuccess\",\"Success\"])"
   ]
  },
  {
   "cell_type": "code",
   "execution_count": 73,
   "metadata": {
    "colab": {
     "base_uri": "https://localhost:8080/",
     "height": 365
    },
    "colab_type": "code",
    "id": "KXWKrMThRyoR",
    "outputId": "0bda1921-7169-428d-82aa-f7abade948ec"
   },
   "outputs": [
    {
     "data": {
      "image/png": "[encoded data removed]",
      "text/plain": [
       "<matplotlib.figure.Figure at 0x1a38d9a2e8>"
      ]
     },
     "metadata": {},
     "output_type": "display_data"
    }
   ],
   "source": [
    "# duration distibution by success\n",
    "g = sns.factorplot(x=\"success\", y = \"duration\",data = raw_data, kind=\"box\", palette = \"Set3\")"
   ]
  },
  {
   "cell_type": "code",
   "execution_count": 74,
   "metadata": {
    "colab": {},
    "colab_type": "code",
    "id": "vWp7MsugTrAW"
   },
   "outputs": [],
   "source": [
    "'''\n",
    "Based on common sence\n",
    "duration <90          => Short Movie\n",
    "90 <= duration < 120  => Normal Movie\n",
    "120 <= duration       => Long Movie\n",
    "'''\n",
    "raw_data['ShortMovie'] = raw_data['duration'].map(lambda s: 1 if s < 90 else 0)\n",
    "raw_data['NormalMovie'] = raw_data['duration'].map(lambda s: 1 if 90 <= s < 120 else 0)\n",
    "raw_data['LongMovie'] = raw_data['duration'].map(lambda s: 1 if s >= 120 else 0)"
   ]
  },
  {
   "cell_type": "markdown",
   "metadata": {
    "colab_type": "text",
    "id": "VCSsxNDQQ5nm"
   },
   "source": [
    "#### 4.5 Genres\n",
    "Since a movie may have multiple genres, we will use one-hot encoding to transform the column of Genres"
   ]
  },
  {
   "cell_type": "code",
   "execution_count": 75,
   "metadata": {
    "colab": {
     "base_uri": "https://localhost:8080/",
     "height": 119
    },
    "colab_type": "code",
    "id": "kQqHDwm3TrGJ",
    "outputId": "a55ec27f-e524-498e-ff9f-57224b44308b"
   },
   "outputs": [
    {
     "data": {
      "text/plain": [
       "14        Drama|Action|Crime\n",
       "60          Comedy|Drama|War\n",
       "62         Drama|History|War\n",
       "63         Drama|History|War\n",
       "65    Drama|History|Thriller\n",
       "Name: genres, dtype: object"
      ]
     },
     "execution_count": 75,
     "metadata": {},
     "output_type": "execute_result"
    }
   ],
   "source": [
    "raw_data.genres.head()"
   ]
  },
  {
   "cell_type": "code",
   "execution_count": 76,
   "metadata": {
    "colab": {},
    "colab_type": "code",
    "id": "jJWsTRTSJbaT"
   },
   "outputs": [],
   "source": [
    "def Obtain_list_Occurences(data, column):\n",
    "    # Obtaining list of column\n",
    "    listOcc = []\n",
    "    for i in data[column]:\n",
    "        split_genre = list(map(str, i.split('|')))\n",
    "        for j in split_genre:\n",
    "            if j not in listOcc:\n",
    "                listOcc.append(j)\n",
    "    return listOcc"
   ]
  },
  {
   "cell_type": "code",
   "execution_count": 77,
   "metadata": {
    "colab": {},
    "colab_type": "code",
    "id": "I8C-terkK7t8"
   },
   "outputs": [],
   "source": [
    "genre = []\n",
    "genre = Obtain_list_Occurences(raw_data, \"genres\")\n",
    "# Drop empty string\n",
    "genre = list(filter(lambda x:len(x)>0, genre))"
   ]
  },
  {
   "cell_type": "code",
   "execution_count": 78,
   "metadata": {
    "colab": {},
    "colab_type": "code",
    "id": "gUe19Y9sK7y7"
   },
   "outputs": [],
   "source": [
    "# Encoding genre\n",
    "for w in genre:\n",
    "    raw_data[w] = raw_data['genres'].map(lambda s: 1 if w in str(s) else 0)"
   ]
  },
  {
   "cell_type": "code",
   "execution_count": 79,
   "metadata": {
    "colab": {
     "base_uri": "https://localhost:8080/",
     "height": 204
    },
    "colab_type": "code",
    "id": "8qus13hZK71i",
    "outputId": "b4c307d8-e96d-4c8b-dfc2-c05b37784411"
   },
   "outputs": [
    {
     "data": {
      "text/html": [
       "<div>\n",
       "<style scoped>\n",
       "    .dataframe tbody tr th:only-of-type {\n",
       "        vertical-align: middle;\n",
       "    }\n",
       "\n",
       "    .dataframe tbody tr th {\n",
       "        vertical-align: top;\n",
       "    }\n",
       "\n",
       "    .dataframe thead th {\n",
       "        text-align: right;\n",
       "    }\n",
       "</style>\n",
       "<table border=\"1\" class=\"dataframe\">\n",
       "  <thead>\n",
       "    <tr style=\"text-align: right;\">\n",
       "      <th></th>\n",
       "      <th>Drama</th>\n",
       "      <th>Action</th>\n",
       "      <th>Crime</th>\n",
       "      <th>Comedy</th>\n",
       "      <th>War</th>\n",
       "      <th>History</th>\n",
       "      <th>Thriller</th>\n",
       "      <th>Romance</th>\n",
       "      <th>Horror</th>\n",
       "      <th>Mystery</th>\n",
       "      <th>Documentary</th>\n",
       "      <th>Music</th>\n",
       "      <th>Adventure</th>\n",
       "      <th>Science Fiction</th>\n",
       "      <th>Western</th>\n",
       "      <th>Animation</th>\n",
       "      <th>Family</th>\n",
       "      <th>Fantasy</th>\n",
       "      <th>TV Movie</th>\n",
       "    </tr>\n",
       "  </thead>\n",
       "  <tbody>\n",
       "    <tr>\n",
       "      <th>14</th>\n",
       "      <td>1</td>\n",
       "      <td>1</td>\n",
       "      <td>1</td>\n",
       "      <td>0</td>\n",
       "      <td>0</td>\n",
       "      <td>0</td>\n",
       "      <td>0</td>\n",
       "      <td>0</td>\n",
       "      <td>0</td>\n",
       "      <td>0</td>\n",
       "      <td>0</td>\n",
       "      <td>0</td>\n",
       "      <td>0</td>\n",
       "      <td>0</td>\n",
       "      <td>0</td>\n",
       "      <td>0</td>\n",
       "      <td>0</td>\n",
       "      <td>0</td>\n",
       "      <td>0</td>\n",
       "    </tr>\n",
       "    <tr>\n",
       "      <th>60</th>\n",
       "      <td>1</td>\n",
       "      <td>0</td>\n",
       "      <td>0</td>\n",
       "      <td>1</td>\n",
       "      <td>1</td>\n",
       "      <td>0</td>\n",
       "      <td>0</td>\n",
       "      <td>0</td>\n",
       "      <td>0</td>\n",
       "      <td>0</td>\n",
       "      <td>0</td>\n",
       "      <td>0</td>\n",
       "      <td>0</td>\n",
       "      <td>0</td>\n",
       "      <td>0</td>\n",
       "      <td>0</td>\n",
       "      <td>0</td>\n",
       "      <td>0</td>\n",
       "      <td>0</td>\n",
       "    </tr>\n",
       "    <tr>\n",
       "      <th>62</th>\n",
       "      <td>1</td>\n",
       "      <td>0</td>\n",
       "      <td>0</td>\n",
       "      <td>0</td>\n",
       "      <td>1</td>\n",
       "      <td>1</td>\n",
       "      <td>0</td>\n",
       "      <td>0</td>\n",
       "      <td>0</td>\n",
       "      <td>0</td>\n",
       "      <td>0</td>\n",
       "      <td>0</td>\n",
       "      <td>0</td>\n",
       "      <td>0</td>\n",
       "      <td>0</td>\n",
       "      <td>0</td>\n",
       "      <td>0</td>\n",
       "      <td>0</td>\n",
       "      <td>0</td>\n",
       "    </tr>\n",
       "    <tr>\n",
       "      <th>63</th>\n",
       "      <td>1</td>\n",
       "      <td>0</td>\n",
       "      <td>0</td>\n",
       "      <td>0</td>\n",
       "      <td>1</td>\n",
       "      <td>1</td>\n",
       "      <td>0</td>\n",
       "      <td>0</td>\n",
       "      <td>0</td>\n",
       "      <td>0</td>\n",
       "      <td>0</td>\n",
       "      <td>0</td>\n",
       "      <td>0</td>\n",
       "      <td>0</td>\n",
       "      <td>0</td>\n",
       "      <td>0</td>\n",
       "      <td>0</td>\n",
       "      <td>0</td>\n",
       "      <td>0</td>\n",
       "    </tr>\n",
       "    <tr>\n",
       "      <th>65</th>\n",
       "      <td>1</td>\n",
       "      <td>0</td>\n",
       "      <td>0</td>\n",
       "      <td>0</td>\n",
       "      <td>0</td>\n",
       "      <td>1</td>\n",
       "      <td>1</td>\n",
       "      <td>0</td>\n",
       "      <td>0</td>\n",
       "      <td>0</td>\n",
       "      <td>0</td>\n",
       "      <td>0</td>\n",
       "      <td>0</td>\n",
       "      <td>0</td>\n",
       "      <td>0</td>\n",
       "      <td>0</td>\n",
       "      <td>0</td>\n",
       "      <td>0</td>\n",
       "      <td>0</td>\n",
       "    </tr>\n",
       "  </tbody>\n",
       "</table>\n",
       "</div>"
      ],
      "text/plain": [
       "    Drama  Action  Crime  Comedy  War  History  Thriller  Romance  Horror  \\\n",
       "14      1       1      1       0    0        0         0        0       0   \n",
       "60      1       0      0       1    1        0         0        0       0   \n",
       "62      1       0      0       0    1        1         0        0       0   \n",
       "63      1       0      0       0    1        1         0        0       0   \n",
       "65      1       0      0       0    0        1         1        0       0   \n",
       "\n",
       "    Mystery  Documentary  Music  Adventure  Science Fiction  Western  \\\n",
       "14        0            0      0          0                0        0   \n",
       "60        0            0      0          0                0        0   \n",
       "62        0            0      0          0                0        0   \n",
       "63        0            0      0          0                0        0   \n",
       "65        0            0      0          0                0        0   \n",
       "\n",
       "    Animation  Family  Fantasy  TV Movie  \n",
       "14          0       0        0         0  \n",
       "60          0       0        0         0  \n",
       "62          0       0        0         0  \n",
       "63          0       0        0         0  \n",
       "65          0       0        0         0  "
      ]
     },
     "execution_count": 79,
     "metadata": {},
     "output_type": "execute_result"
    }
   ],
   "source": [
    "raw_data.loc[:,genre].head()"
   ]
  },
  {
   "cell_type": "markdown",
   "metadata": {
    "colab_type": "text",
    "id": "VgbZdsm8Q5yJ"
   },
   "source": [
    "#### 4.6 Director"
   ]
  },
  {
   "cell_type": "code",
   "execution_count": 80,
   "metadata": {
    "colab": {},
    "colab_type": "code",
    "id": "u42tA4AKPDmi"
   },
   "outputs": [],
   "source": [
    "raw_data.director_name.fillna('unknown', inplace=True)"
   ]
  },
  {
   "cell_type": "code",
   "execution_count": 81,
   "metadata": {
    "colab": {},
    "colab_type": "code",
    "id": "GVzBBe5fPDpn"
   },
   "outputs": [],
   "source": [
    "def to_frequency_table(data):\n",
    "    frequency = {}\n",
    "    for key in data:\n",
    "        if key in frequency and key:\n",
    "            frequency[key] += 1\n",
    "        else:\n",
    "            frequency[key] = 1\n",
    "    return frequency"
   ]
  },
  {
   "cell_type": "code",
   "execution_count": 82,
   "metadata": {
    "colab": {},
    "colab_type": "code",
    "id": "YukH2NCXPDsx"
   },
   "outputs": [],
   "source": [
    "director_dic = to_frequency_table(raw_data['director_name'])\n",
    "director_list = list(director_dic.items())\n",
    "director_list.sort(key=lambda tup:tup[1],reverse=True)\n",
    "# drop 'unknown' item\n",
    "director_list=list(filter(lambda x:x[0]!='unknown', director_list))"
   ]
  },
  {
   "cell_type": "code",
   "execution_count": 83,
   "metadata": {
    "colab": {},
    "colab_type": "code",
    "id": "2VjJt1aAP6eH"
   },
   "outputs": [],
   "source": [
    "# Funtion to find top xx in list\n",
    "def Top(List, top_num):\n",
    "    Top = list()\n",
    "    for i in range(0, top_num):\n",
    "        Top.append(List[i][0])\n",
    "    return Top"
   ]
  },
  {
   "cell_type": "code",
   "execution_count": 84,
   "metadata": {
    "colab": {
     "base_uri": "https://localhost:8080/",
     "height": 68
    },
    "colab_type": "code",
    "id": "2zbARf_BPDvj",
    "outputId": "096d534f-209e-4e43-e748-4616060d66f1"
   },
   "outputs": [
    {
     "name": "stdout",
     "output_type": "stream",
     "text": [
      "Total movies of top directors: 607;\n",
      "Total movies of non-top directors: 6709;\n",
      "Total movies: 7315.\n"
     ]
    }
   ],
   "source": [
    "# Encoding Top 50 director\n",
    "top_list = Top(director_list, 100)\n",
    "for w in top_list:\n",
    "    raw_data[w] = raw_data['director_name'].map(lambda s: 1 if w in str(s) else 0)\n",
    "# Encoding non-Top 50 director in 'other_director' columns\n",
    "raw_data['other_director'] = raw_data['director_name'].map(lambda x:1 if x not in top_list else 0)\n",
    "print(\"Total movies of top directors: {};\\nTotal movies of non-top directors: {};\\nTotal movies: {}.\".format(raw_data[top_list].sum().sum(), raw_data.other_director.sum(), len(raw_data)))"
   ]
  },
  {
   "cell_type": "markdown",
   "metadata": {
    "colab_type": "text",
    "id": "2QQrwuvhRQjD"
   },
   "source": [
    "#### 4.7 Actor"
   ]
  },
  {
   "cell_type": "code",
   "execution_count": 85,
   "metadata": {
    "colab": {},
    "colab_type": "code",
    "id": "y2p_KCWMgjtu"
   },
   "outputs": [],
   "source": [
    "# Fill none value in 3 actor columns\n",
    "raw_data.actor_1_name.fillna('unknown',inplace=True)\n",
    "raw_data.actor_2_name.fillna('unknown',inplace=True)\n",
    "raw_data.actor_3_name.fillna('unknown',inplace=True)"
   ]
  },
  {
   "cell_type": "code",
   "execution_count": 86,
   "metadata": {
    "colab": {
     "base_uri": "https://localhost:8080/",
     "height": 419
    },
    "colab_type": "code",
    "id": "DesfDGZmfoyd",
    "outputId": "c65f7ab9-ca98-4111-f71e-0c5a6b9268bc"
   },
   "outputs": [
    {
     "data": {
      "text/html": [
       "<div>\n",
       "<style scoped>\n",
       "    .dataframe tbody tr th:only-of-type {\n",
       "        vertical-align: middle;\n",
       "    }\n",
       "\n",
       "    .dataframe tbody tr th {\n",
       "        vertical-align: top;\n",
       "    }\n",
       "\n",
       "    .dataframe thead th {\n",
       "        text-align: right;\n",
       "    }\n",
       "</style>\n",
       "<table border=\"1\" class=\"dataframe\">\n",
       "  <thead>\n",
       "    <tr style=\"text-align: right;\">\n",
       "      <th></th>\n",
       "      <th>actor_1_name</th>\n",
       "      <th>actor_2_name</th>\n",
       "      <th>actor_3_name</th>\n",
       "    </tr>\n",
       "  </thead>\n",
       "  <tbody>\n",
       "    <tr>\n",
       "      <th>14</th>\n",
       "      <td>Tom Hanks</td>\n",
       "      <td>Robin Wright</td>\n",
       "      <td>Gary Sinise</td>\n",
       "    </tr>\n",
       "    <tr>\n",
       "      <th>60</th>\n",
       "      <td>Christian Ulmen</td>\n",
       "      <td>Moritz Bleibtreu</td>\n",
       "      <td>Martina Gedeck</td>\n",
       "    </tr>\n",
       "    <tr>\n",
       "      <th>62</th>\n",
       "      <td>Jennifer Grey</td>\n",
       "      <td>Patrick Swayze</td>\n",
       "      <td>Jerry Orbach</td>\n",
       "    </tr>\n",
       "    <tr>\n",
       "      <th>63</th>\n",
       "      <td>Harrison Ford</td>\n",
       "      <td>Sean Connery</td>\n",
       "      <td>Denholm Elliott</td>\n",
       "    </tr>\n",
       "    <tr>\n",
       "      <th>65</th>\n",
       "      <td>Abel Jacquin</td>\n",
       "      <td>Francisco Rabal</td>\n",
       "      <td>unknown</td>\n",
       "    </tr>\n",
       "    <tr>\n",
       "      <th>77</th>\n",
       "      <td>Robert De Niro</td>\n",
       "      <td>Jodie Foster</td>\n",
       "      <td>Albert Brooks</td>\n",
       "    </tr>\n",
       "    <tr>\n",
       "      <th>78</th>\n",
       "      <td>Franka Potente</td>\n",
       "      <td>Moritz Bleibtreu</td>\n",
       "      <td>Herbert Knaup</td>\n",
       "    </tr>\n",
       "    <tr>\n",
       "      <th>90</th>\n",
       "      <td>Jonathan Rhys Meyers</td>\n",
       "      <td>Scarlett Johansson</td>\n",
       "      <td>Emily Mortimer</td>\n",
       "    </tr>\n",
       "    <tr>\n",
       "      <th>98</th>\n",
       "      <td>unknown</td>\n",
       "      <td>unknown</td>\n",
       "      <td>unknown</td>\n",
       "    </tr>\n",
       "    <tr>\n",
       "      <th>110</th>\n",
       "      <td>Anders W. Berthelsen</td>\n",
       "      <td>Iben Hjejle</td>\n",
       "      <td>Jesper Asholt</td>\n",
       "    </tr>\n",
       "    <tr>\n",
       "      <th>126</th>\n",
       "      <td>Jamie Sives</td>\n",
       "      <td>Adrian Rawlins</td>\n",
       "      <td>Shirley Henderson</td>\n",
       "    </tr>\n",
       "    <tr>\n",
       "      <th>130</th>\n",
       "      <td>Madeleine Koehler</td>\n",
       "      <td>Marcel Koehler</td>\n",
       "      <td>Mrs. Auguste Lumière</td>\n",
       "    </tr>\n",
       "    <tr>\n",
       "      <th>139</th>\n",
       "      <td>Kevin Peter Hall</td>\n",
       "      <td>Danny Glover</td>\n",
       "      <td>Gary Busey</td>\n",
       "    </tr>\n",
       "    <tr>\n",
       "      <th>152</th>\n",
       "      <td>Fred Savage</td>\n",
       "      <td>Luke Edwards</td>\n",
       "      <td>Beau Bridges</td>\n",
       "    </tr>\n",
       "    <tr>\n",
       "      <th>158</th>\n",
       "      <td>unknown</td>\n",
       "      <td>unknown</td>\n",
       "      <td>unknown</td>\n",
       "    </tr>\n",
       "    <tr>\n",
       "      <th>161</th>\n",
       "      <td>Patrick Stewart</td>\n",
       "      <td>Jonathan Frakes</td>\n",
       "      <td>Brent Spiner</td>\n",
       "    </tr>\n",
       "    <tr>\n",
       "      <th>170</th>\n",
       "      <td>Harvey Keitel</td>\n",
       "      <td>Robert De Niro</td>\n",
       "      <td>David Proval</td>\n",
       "    </tr>\n",
       "    <tr>\n",
       "      <th>177</th>\n",
       "      <td>Cary Grant</td>\n",
       "      <td>Eva Marie Saint</td>\n",
       "      <td>James Mason</td>\n",
       "    </tr>\n",
       "    <tr>\n",
       "      <th>178</th>\n",
       "      <td>Tobin Bell</td>\n",
       "      <td>Shawnee Smith</td>\n",
       "      <td>Angus Macfadyen</td>\n",
       "    </tr>\n",
       "    <tr>\n",
       "      <th>179</th>\n",
       "      <td>Tobin Bell</td>\n",
       "      <td>Shawnee Smith</td>\n",
       "      <td>Donnie Wahlberg</td>\n",
       "    </tr>\n",
       "    <tr>\n",
       "      <th>191</th>\n",
       "      <td>Matt Dillon</td>\n",
       "      <td>Ralph Macchio</td>\n",
       "      <td>C. Thomas Howell</td>\n",
       "    </tr>\n",
       "    <tr>\n",
       "      <th>194</th>\n",
       "      <td>George Clooney</td>\n",
       "      <td>Matt Damon</td>\n",
       "      <td>Jeffrey Wright</td>\n",
       "    </tr>\n",
       "    <tr>\n",
       "      <th>197</th>\n",
       "      <td>Werner Krauss</td>\n",
       "      <td>Conrad Veidt</td>\n",
       "      <td>Friedrich Fehér</td>\n",
       "    </tr>\n",
       "    <tr>\n",
       "      <th>198</th>\n",
       "      <td>Wil Wheaton</td>\n",
       "      <td>River Phoenix</td>\n",
       "      <td>Corey Feldman</td>\n",
       "    </tr>\n",
       "    <tr>\n",
       "      <th>234</th>\n",
       "      <td>Daniel Brühl</td>\n",
       "      <td>Anabelle Lachatte</td>\n",
       "      <td>Patrick Joswig</td>\n",
       "    </tr>\n",
       "    <tr>\n",
       "      <th>239</th>\n",
       "      <td>Tim Robbins</td>\n",
       "      <td>Morgan Freeman</td>\n",
       "      <td>Bob Gunton</td>\n",
       "    </tr>\n",
       "    <tr>\n",
       "      <th>240</th>\n",
       "      <td>F. Murray Abraham</td>\n",
       "      <td>Tom Hulce</td>\n",
       "      <td>Elizabeth Berridge</td>\n",
       "    </tr>\n",
       "    <tr>\n",
       "      <th>241</th>\n",
       "      <td>Arnold Schwarzenegger</td>\n",
       "      <td>Linda Hamilton</td>\n",
       "      <td>Edward Furlong</td>\n",
       "    </tr>\n",
       "    <tr>\n",
       "      <th>254</th>\n",
       "      <td>Arnold Schwarzenegger</td>\n",
       "      <td>Nick Stahl</td>\n",
       "      <td>Claire Danes</td>\n",
       "    </tr>\n",
       "    <tr>\n",
       "      <th>256</th>\n",
       "      <td>George Clooney</td>\n",
       "      <td>Brad Pitt</td>\n",
       "      <td>Matt Damon</td>\n",
       "    </tr>\n",
       "    <tr>\n",
       "      <th>...</th>\n",
       "      <td>...</td>\n",
       "      <td>...</td>\n",
       "      <td>...</td>\n",
       "    </tr>\n",
       "    <tr>\n",
       "      <th>43001</th>\n",
       "      <td>unknown</td>\n",
       "      <td>unknown</td>\n",
       "      <td>unknown</td>\n",
       "    </tr>\n",
       "    <tr>\n",
       "      <th>43003</th>\n",
       "      <td>John Forsythe</td>\n",
       "      <td>Joan Camden</td>\n",
       "      <td>Harold J. Kennedy</td>\n",
       "    </tr>\n",
       "    <tr>\n",
       "      <th>43004</th>\n",
       "      <td>Tyler Perry</td>\n",
       "      <td>Phylicia Rashād</td>\n",
       "      <td>Thandie Newton</td>\n",
       "    </tr>\n",
       "    <tr>\n",
       "      <th>43005</th>\n",
       "      <td>Judith Godrèche</td>\n",
       "      <td>Aure Atika</td>\n",
       "      <td>Gérard Depardieu</td>\n",
       "    </tr>\n",
       "    <tr>\n",
       "      <th>43006</th>\n",
       "      <td>Debby Kristy</td>\n",
       "      <td>Andhika Pratama</td>\n",
       "      <td>Poppy Sovia</td>\n",
       "    </tr>\n",
       "    <tr>\n",
       "      <th>43007</th>\n",
       "      <td>Michèle Laroque</td>\n",
       "      <td>Didier Bourdon</td>\n",
       "      <td>Line Renaud</td>\n",
       "    </tr>\n",
       "    <tr>\n",
       "      <th>43010</th>\n",
       "      <td>Ashin Kumar Josh</td>\n",
       "      <td>Alexandre Abou-Slaïby</td>\n",
       "      <td>Antoine Michel</td>\n",
       "    </tr>\n",
       "    <tr>\n",
       "      <th>43013</th>\n",
       "      <td>unknown</td>\n",
       "      <td>unknown</td>\n",
       "      <td>unknown</td>\n",
       "    </tr>\n",
       "    <tr>\n",
       "      <th>43015</th>\n",
       "      <td>Stefano Accorsi</td>\n",
       "      <td>Maya Sansa</td>\n",
       "      <td>Marco Messeri</td>\n",
       "    </tr>\n",
       "    <tr>\n",
       "      <th>43016</th>\n",
       "      <td>Martina Colombari</td>\n",
       "      <td>Irene Ferri</td>\n",
       "      <td>Carlotta Miti</td>\n",
       "    </tr>\n",
       "    <tr>\n",
       "      <th>43017</th>\n",
       "      <td>Rossana Rory</td>\n",
       "      <td>Errol Flynn</td>\n",
       "      <td>Francisco Canero</td>\n",
       "    </tr>\n",
       "    <tr>\n",
       "      <th>43020</th>\n",
       "      <td>Gad Elmaleh</td>\n",
       "      <td>Cécile de France</td>\n",
       "      <td>Nathalie Boutefeu</td>\n",
       "    </tr>\n",
       "    <tr>\n",
       "      <th>43023</th>\n",
       "      <td>Lex Barker</td>\n",
       "      <td>Anne Bancroft</td>\n",
       "      <td>Mamie Van Doren</td>\n",
       "    </tr>\n",
       "    <tr>\n",
       "      <th>43027</th>\n",
       "      <td>Yvonne Fedderson</td>\n",
       "      <td>Brett Halsey</td>\n",
       "      <td>Jana Lund</td>\n",
       "    </tr>\n",
       "    <tr>\n",
       "      <th>43030</th>\n",
       "      <td>Michael Rooker</td>\n",
       "      <td>Robert Patrick</td>\n",
       "      <td>Louis Mandylor</td>\n",
       "    </tr>\n",
       "    <tr>\n",
       "      <th>43032</th>\n",
       "      <td>Michael Hanrahan</td>\n",
       "      <td>Kelly Slater</td>\n",
       "      <td>Raimana Van Bastolear</td>\n",
       "    </tr>\n",
       "    <tr>\n",
       "      <th>43033</th>\n",
       "      <td>Paolo Bonolis</td>\n",
       "      <td>Sergio Rubini</td>\n",
       "      <td>Margherita Buy</td>\n",
       "    </tr>\n",
       "    <tr>\n",
       "      <th>43035</th>\n",
       "      <td>Patrick Dempsey</td>\n",
       "      <td>Ashley Judd</td>\n",
       "      <td>Tim Blake Nelson</td>\n",
       "    </tr>\n",
       "    <tr>\n",
       "      <th>43044</th>\n",
       "      <td>unknown</td>\n",
       "      <td>unknown</td>\n",
       "      <td>unknown</td>\n",
       "    </tr>\n",
       "    <tr>\n",
       "      <th>43045</th>\n",
       "      <td>unknown</td>\n",
       "      <td>unknown</td>\n",
       "      <td>unknown</td>\n",
       "    </tr>\n",
       "    <tr>\n",
       "      <th>43051</th>\n",
       "      <td>Dragan Nikolić</td>\n",
       "      <td>Aleksandar Gavrić</td>\n",
       "      <td>María Baxa</td>\n",
       "    </tr>\n",
       "    <tr>\n",
       "      <th>43058</th>\n",
       "      <td>Mario Casas</td>\n",
       "      <td>Vicente Romero</td>\n",
       "      <td>Macarena Gómez</td>\n",
       "    </tr>\n",
       "    <tr>\n",
       "      <th>43060</th>\n",
       "      <td>Aga Muhlach</td>\n",
       "      <td>Claudine Barretto</td>\n",
       "      <td>John Lloyd Cruz</td>\n",
       "    </tr>\n",
       "    <tr>\n",
       "      <th>43061</th>\n",
       "      <td>unknown</td>\n",
       "      <td>unknown</td>\n",
       "      <td>unknown</td>\n",
       "    </tr>\n",
       "    <tr>\n",
       "      <th>43063</th>\n",
       "      <td>Jean-Pierre Marielle</td>\n",
       "      <td>Jacques Villeret</td>\n",
       "      <td>Denis Podalydès</td>\n",
       "    </tr>\n",
       "    <tr>\n",
       "      <th>43066</th>\n",
       "      <td>Richard Berry</td>\n",
       "      <td>Saïd Taghmaoui</td>\n",
       "      <td>Joaquim de Almeida</td>\n",
       "    </tr>\n",
       "    <tr>\n",
       "      <th>43067</th>\n",
       "      <td>Patrick Bruel</td>\n",
       "      <td>Anne Brochet</td>\n",
       "      <td>Agnès Blanchot</td>\n",
       "    </tr>\n",
       "    <tr>\n",
       "      <th>43068</th>\n",
       "      <td>Broderick Crawford</td>\n",
       "      <td>John Ireland</td>\n",
       "      <td>Ellen Drew</td>\n",
       "    </tr>\n",
       "    <tr>\n",
       "      <th>43071</th>\n",
       "      <td>Stephen McNally</td>\n",
       "      <td>Thelma Ritter</td>\n",
       "      <td>Luis van Rooten</td>\n",
       "    </tr>\n",
       "    <tr>\n",
       "      <th>43074</th>\n",
       "      <td>Michael Bolton</td>\n",
       "      <td>unknown</td>\n",
       "      <td>unknown</td>\n",
       "    </tr>\n",
       "  </tbody>\n",
       "</table>\n",
       "<p>7315 rows × 3 columns</p>\n",
       "</div>"
      ],
      "text/plain": [
       "                actor_1_name           actor_2_name           actor_3_name\n",
       "14                 Tom Hanks           Robin Wright            Gary Sinise\n",
       "60           Christian Ulmen       Moritz Bleibtreu         Martina Gedeck\n",
       "62             Jennifer Grey         Patrick Swayze           Jerry Orbach\n",
       "63             Harrison Ford           Sean Connery        Denholm Elliott\n",
       "65              Abel Jacquin        Francisco Rabal                unknown\n",
       "77            Robert De Niro           Jodie Foster          Albert Brooks\n",
       "78            Franka Potente       Moritz Bleibtreu          Herbert Knaup\n",
       "90      Jonathan Rhys Meyers     Scarlett Johansson         Emily Mortimer\n",
       "98                   unknown                unknown                unknown\n",
       "110     Anders W. Berthelsen            Iben Hjejle          Jesper Asholt\n",
       "126              Jamie Sives         Adrian Rawlins      Shirley Henderson\n",
       "130        Madeleine Koehler         Marcel Koehler   Mrs. Auguste Lumière\n",
       "139         Kevin Peter Hall           Danny Glover             Gary Busey\n",
       "152              Fred Savage           Luke Edwards           Beau Bridges\n",
       "158                  unknown                unknown                unknown\n",
       "161          Patrick Stewart        Jonathan Frakes           Brent Spiner\n",
       "170            Harvey Keitel         Robert De Niro           David Proval\n",
       "177               Cary Grant        Eva Marie Saint            James Mason\n",
       "178               Tobin Bell          Shawnee Smith        Angus Macfadyen\n",
       "179               Tobin Bell          Shawnee Smith        Donnie Wahlberg\n",
       "191              Matt Dillon          Ralph Macchio       C. Thomas Howell\n",
       "194           George Clooney             Matt Damon         Jeffrey Wright\n",
       "197            Werner Krauss           Conrad Veidt        Friedrich Fehér\n",
       "198              Wil Wheaton          River Phoenix          Corey Feldman\n",
       "234             Daniel Brühl      Anabelle Lachatte         Patrick Joswig\n",
       "239              Tim Robbins         Morgan Freeman             Bob Gunton\n",
       "240        F. Murray Abraham              Tom Hulce     Elizabeth Berridge\n",
       "241    Arnold Schwarzenegger         Linda Hamilton         Edward Furlong\n",
       "254    Arnold Schwarzenegger             Nick Stahl           Claire Danes\n",
       "256           George Clooney              Brad Pitt             Matt Damon\n",
       "...                      ...                    ...                    ...\n",
       "43001                unknown                unknown                unknown\n",
       "43003          John Forsythe            Joan Camden      Harold J. Kennedy\n",
       "43004            Tyler Perry        Phylicia Rashād         Thandie Newton\n",
       "43005        Judith Godrèche             Aure Atika       Gérard Depardieu\n",
       "43006           Debby Kristy        Andhika Pratama            Poppy Sovia\n",
       "43007        Michèle Laroque         Didier Bourdon            Line Renaud\n",
       "43010       Ashin Kumar Josh  Alexandre Abou-Slaïby         Antoine Michel\n",
       "43013                unknown                unknown                unknown\n",
       "43015        Stefano Accorsi             Maya Sansa          Marco Messeri\n",
       "43016      Martina Colombari            Irene Ferri          Carlotta Miti\n",
       "43017           Rossana Rory            Errol Flynn       Francisco Canero\n",
       "43020            Gad Elmaleh       Cécile de France      Nathalie Boutefeu\n",
       "43023             Lex Barker          Anne Bancroft        Mamie Van Doren\n",
       "43027       Yvonne Fedderson           Brett Halsey              Jana Lund\n",
       "43030         Michael Rooker         Robert Patrick         Louis Mandylor\n",
       "43032       Michael Hanrahan           Kelly Slater  Raimana Van Bastolear\n",
       "43033          Paolo Bonolis          Sergio Rubini         Margherita Buy\n",
       "43035        Patrick Dempsey            Ashley Judd       Tim Blake Nelson\n",
       "43044                unknown                unknown                unknown\n",
       "43045                unknown                unknown                unknown\n",
       "43051         Dragan Nikolić      Aleksandar Gavrić             María Baxa\n",
       "43058            Mario Casas         Vicente Romero         Macarena Gómez\n",
       "43060            Aga Muhlach      Claudine Barretto        John Lloyd Cruz\n",
       "43061                unknown                unknown                unknown\n",
       "43063   Jean-Pierre Marielle       Jacques Villeret        Denis Podalydès\n",
       "43066          Richard Berry         Saïd Taghmaoui     Joaquim de Almeida\n",
       "43067          Patrick Bruel           Anne Brochet         Agnès Blanchot\n",
       "43068     Broderick Crawford           John Ireland             Ellen Drew\n",
       "43071        Stephen McNally          Thelma Ritter        Luis van Rooten\n",
       "43074         Michael Bolton                unknown                unknown\n",
       "\n",
       "[7315 rows x 3 columns]"
      ]
     },
     "execution_count": 86,
     "metadata": {},
     "output_type": "execute_result"
    }
   ],
   "source": [
    "raw_data[['actor_1_name','actor_2_name','actor_3_name']]"
   ]
  },
  {
   "cell_type": "code",
   "execution_count": 87,
   "metadata": {
    "colab": {},
    "colab_type": "code",
    "id": "HUAEkLjmg4XQ"
   },
   "outputs": [],
   "source": [
    "# # Combine 3 columns and sort the occurrence\n",
    "# raw_data['actors_name'] = raw_data[['actor_1_name','actor_2_name','actor_3_name']].apply(lambda x:'|'.join(x), axis=1)\n",
    "# actor_occ = []\n",
    "# actor_occ = Obtain_list_Occurences(raw_data,\"actors_name\")\n",
    "# # Drop 'unknown' string\n",
    "# actor_occ = list(filter(lambda x:x!='unknown', actor_occ))"
   ]
  },
  {
   "cell_type": "code",
   "execution_count": 88,
   "metadata": {
    "colab": {},
    "colab_type": "code",
    "id": "MCNmvOkWrjZ8"
   },
   "outputs": [],
   "source": [
    "# actor_dic = to_frequency_table(actor_occ)\n",
    "# actor_list = list(actor_dic.items())\n",
    "# actor_list.sort(key=lambda tup:tup[1],reverse=True)\n",
    "# # drop 'unknown' item\n",
    "# actor_list=list(filter(lambda x:x[0]!='unknown', actor_list))"
   ]
  },
  {
   "cell_type": "code",
   "execution_count": 89,
   "metadata": {
    "colab": {},
    "colab_type": "code",
    "id": "QLHdPovEjOD_"
   },
   "outputs": [],
   "source": [
    "# Encoding actor column\n",
    "# for w in actor_occ:\n",
    "#     raw_data[w] = raw_data['actors_name'].map(lambda s: 1 if w in str(s) else 0)"
   ]
  },
  {
   "cell_type": "markdown",
   "metadata": {
    "colab_type": "text",
    "id": "lurrrSJhRTsI"
   },
   "source": [
    "#### 4.8 Company"
   ]
  },
  {
   "cell_type": "code",
   "execution_count": 90,
   "metadata": {
    "colab": {},
    "colab_type": "code",
    "id": "ZhGRftGVvGcW"
   },
   "outputs": [],
   "source": [
    "# Fill none value in 3 actor columns\n",
    "raw_data['companies_1'].fillna('unknown',inplace=True)\n",
    "raw_data['companies_2'].fillna('unknown',inplace=True)\n",
    "raw_data['companies_3'].fillna('unknown',inplace=True)"
   ]
  },
  {
   "cell_type": "code",
   "execution_count": 91,
   "metadata": {
    "colab": {},
    "colab_type": "code",
    "id": "jcU20nD35BYY"
   },
   "outputs": [],
   "source": [
    "company_dic = to_frequency_table(raw_data['companies_1'])\n",
    "company_list = list(company_dic.items())\n",
    "company_list.sort(key=lambda tup:tup[1],reverse=True)\n",
    "# drop 'unknown' item\n",
    "company_list_1=list(filter(lambda x:x[0]!='unknown', company_list))"
   ]
  },
  {
   "cell_type": "code",
   "execution_count": 92,
   "metadata": {
    "colab": {},
    "colab_type": "code",
    "id": "V2IzMKRc5Zmb"
   },
   "outputs": [],
   "source": [
    "company_dic = to_frequency_table(raw_data['companies_2'])\n",
    "company_list = list(company_dic.items())\n",
    "company_list.sort(key=lambda tup:tup[1],reverse=True)\n",
    "# drop 'unknown' item\n",
    "company_list_2=list(filter(lambda x:x[0]!='unknown', company_list))"
   ]
  },
  {
   "cell_type": "code",
   "execution_count": 93,
   "metadata": {
    "colab": {},
    "colab_type": "code",
    "id": "5a_c7_-b7SXL"
   },
   "outputs": [],
   "source": [
    "company_dic = to_frequency_table(raw_data['companies_2'])\n",
    "company_list = list(company_dic.items())\n",
    "company_list.sort(key=lambda tup:tup[1],reverse=True)\n",
    "# drop 'unknown' item\n",
    "company_list_3=list(filter(lambda x:x[0]!='unknown', company_list))"
   ]
  },
  {
   "cell_type": "code",
   "execution_count": 94,
   "metadata": {
    "colab": {},
    "colab_type": "code",
    "id": "Dgot-VsN6LaD"
   },
   "outputs": [],
   "source": [
    "# Combine all company in one list\n",
    "full_company_list=sorted(company_list_1+company_list_2+company_list_3)\n",
    "company_dict={}\n",
    "for a,b in full_company_list:\n",
    "    if a not in company_dict.keys():\n",
    "        company_dict[a] = b\n",
    "    elif a in company_dict.keys():\n",
    "        company_dict[a] = company_dict.get(a) + b\n",
    "\n",
    "combined_company_list = list(company_dict.items())\n",
    "combined_company_list.sort(key=lambda tup:tup[1],reverse=True)\n",
    "# drop 'unknown' item\n",
    "combined_company_list=list(filter(lambda x:x[0]!='unknown', combined_company_list))"
   ]
  },
  {
   "cell_type": "code",
   "execution_count": 95,
   "metadata": {
    "colab": {
     "base_uri": "https://localhost:8080/",
     "height": 68
    },
    "colab_type": "code",
    "id": "iH1r-DWKutfq",
    "outputId": "e84dc08f-9d62-46eb-8488-f301f38088fe"
   },
   "outputs": [
    {
     "name": "stdout",
     "output_type": "stream",
     "text": [
      "80\n",
      "4750\n",
      "('DC Comics', 19)\n"
     ]
    }
   ],
   "source": [
    "total=0\n",
    "for a,b in combined_company_list:\n",
    "    total += b\n",
    "\n",
    "top_index = 0\n",
    "top_count = 0\n",
    "for a,b in combined_company_list:\n",
    "    if b >= 20:\n",
    "        top_count += b\n",
    "        top_index += 1\n",
    "    else:\n",
    "        break\n",
    "print(top_index)\n",
    "print(len(combined_company_list))\n",
    "print(combined_company_list[top_index])"
   ]
  },
  {
   "cell_type": "code",
   "execution_count": 96,
   "metadata": {
    "colab": {},
    "colab_type": "code",
    "id": "PHX8X5HNJ0rz"
   },
   "outputs": [],
   "source": [
    "# Create company columns\n",
    "toplist = Top(combined_company_list, top_index)\n",
    "for w in toplist:\n",
    "    raw_data[w] = 0"
   ]
  },
  {
   "cell_type": "code",
   "execution_count": 97,
   "metadata": {
    "colab": {},
    "colab_type": "code",
    "id": "9oNiiUK1ixqG"
   },
   "outputs": [],
   "source": [
    "# Encoding Top company\n",
    "for w in toplist:\n",
    "    raw_data[w][raw_data[w]!=1] = raw_data['companies_1'].map(lambda x: 1 if x in w else 0)\n",
    "for w in toplist:\n",
    "    raw_data[w][raw_data[w]!=1] = raw_data['companies_2'].map(lambda x: 1 if x in w else 0)\n",
    "for w in toplist:\n",
    "    raw_data[w][raw_data[w]!=1] = raw_data['companies_3'].map(lambda x: 1 if x in w else 0)"
   ]
  },
  {
   "cell_type": "code",
   "execution_count": 98,
   "metadata": {
    "colab": {
     "base_uri": "https://localhost:8080/",
     "height": 102
    },
    "colab_type": "code",
    "id": "PML8IUSIxc44",
    "outputId": "654e7787-3951-4290-dae8-febaa7fba920"
   },
   "outputs": [
    {
     "name": "stdout",
     "output_type": "stream",
     "text": [
      "<class 'pandas.core.frame.DataFrame'>\n",
      "Int64Index: 7315 entries, 14 to 43074\n",
      "Columns: 235 entries, budget to Zentropa Entertainments\n",
      "dtypes: float64(2), int64(214), object(19)\n",
      "memory usage: 13.5+ MB\n"
     ]
    }
   ],
   "source": [
    "raw_data.info()"
   ]
  },
  {
   "cell_type": "markdown",
   "metadata": {
    "colab_type": "text",
    "id": "lWjZuHZQyCHQ"
   },
   "source": [
    "#### 4.9 Drop Columns"
   ]
  },
  {
   "cell_type": "code",
   "execution_count": 99,
   "metadata": {
    "colab": {},
    "colab_type": "code",
    "id": "C0YgLiV8yRrC"
   },
   "outputs": [],
   "source": [
    "raw_data.drop(['budget','genres','id','plot_keywords','language','original_title','overview',\n",
    "               'production_companies','production_countries','release_date','duration','spoken_languages','status','movie_title','vote_average','country',\n",
    "               'director_name',\n",
    "               'actor_1_name','actor_2_name','actor_3_name',\n",
    "               'companies_1','companies_2','companies_3'], axis=1, inplace=True)"
   ]
  },
  {
   "cell_type": "code",
   "execution_count": 100,
   "metadata": {
    "colab": {
     "base_uri": "https://localhost:8080/",
     "height": 204
    },
    "colab_type": "code",
    "id": "Duf9iYNLyBnc",
    "outputId": "a84e854c-57af-43e4-8cde-c68aa809b5e7"
   },
   "outputs": [
    {
     "data": {
      "text/html": [
       "<div>\n",
       "<style scoped>\n",
       "    .dataframe tbody tr th:only-of-type {\n",
       "        vertical-align: middle;\n",
       "    }\n",
       "\n",
       "    .dataframe tbody tr th {\n",
       "        vertical-align: top;\n",
       "    }\n",
       "\n",
       "    .dataframe thead th {\n",
       "        text-align: right;\n",
       "    }\n",
       "</style>\n",
       "<table border=\"1\" class=\"dataframe\">\n",
       "  <thead>\n",
       "    <tr style=\"text-align: right;\">\n",
       "      <th></th>\n",
       "      <th>Total</th>\n",
       "      <th>Percent</th>\n",
       "    </tr>\n",
       "  </thead>\n",
       "  <tbody>\n",
       "    <tr>\n",
       "      <th>Zentropa Entertainments</th>\n",
       "      <td>0</td>\n",
       "      <td>0.0</td>\n",
       "    </tr>\n",
       "    <tr>\n",
       "      <th>William Castle</th>\n",
       "      <td>0</td>\n",
       "      <td>0.0</td>\n",
       "    </tr>\n",
       "    <tr>\n",
       "      <th>Jonathan Kaplan</th>\n",
       "      <td>0</td>\n",
       "      <td>0.0</td>\n",
       "    </tr>\n",
       "    <tr>\n",
       "      <th>Jan Švankmajer</th>\n",
       "      <td>0</td>\n",
       "      <td>0.0</td>\n",
       "    </tr>\n",
       "    <tr>\n",
       "      <th>Tsui Hark</th>\n",
       "      <td>0</td>\n",
       "      <td>0.0</td>\n",
       "    </tr>\n",
       "  </tbody>\n",
       "</table>\n",
       "</div>"
      ],
      "text/plain": [
       "                         Total  Percent\n",
       "Zentropa Entertainments      0      0.0\n",
       "William Castle               0      0.0\n",
       "Jonathan Kaplan              0      0.0\n",
       "Jan Švankmajer               0      0.0\n",
       "Tsui Hark                    0      0.0"
      ]
     },
     "execution_count": 100,
     "metadata": {},
     "output_type": "execute_result"
    }
   ],
   "source": [
    "# Check missing value\n",
    "total = raw_data.isnull().sum().sort_values(ascending=False)\n",
    "percent = (raw_data.isnull().sum()/raw_data.isnull().count()).sort_values(ascending=False)\n",
    "missing_data = pd.concat([total, percent], axis=1, keys=['Total', 'Percent'])\n",
    "missing_data.head(5)"
   ]
  },
  {
   "cell_type": "markdown",
   "metadata": {
    "colab_type": "text",
    "id": "AStPLH_F9FmX"
   },
   "source": [
    "### 5 Modeling\n",
    "*   Define Useful Functions\n",
    "*   Split Data\n",
    "*   K-Nearest Neighbors\n",
    "*   Decision Tree\n",
    "*   Random Forest\n",
    "*   Gradient Boosting\n",
    "*   Conclusion Model Performance\n",
    "*   Model Test"
   ]
  },
  {
   "cell_type": "markdown",
   "metadata": {
    "colab_type": "text",
    "id": "OuGlRwHSha8f"
   },
   "source": [
    "#### 5.0 Define Useful Functions"
   ]
  },
  {
   "cell_type": "code",
   "execution_count": 101,
   "metadata": {
    "colab": {},
    "colab_type": "code",
    "id": "5pJCOyQ4hft9"
   },
   "outputs": [],
   "source": [
    "import itertools\n",
    "def plot_confusion_matrix(cm,\n",
    "                          target_names,\n",
    "                          title='Confusion matrix',\n",
    "                          cmap=None,\n",
    "                          normalize=True):\n",
    "    accuracy = np.trace(cm) / float(np.sum(cm))\n",
    "    misclass = 1 - accuracy\n",
    "\n",
    "    if cmap is None:\n",
    "        cmap = plt.get_cmap('Blues')\n",
    "\n",
    "    plt.figure(figsize=(8, 6))\n",
    "    plt.imshow(cm, interpolation='nearest', cmap=cmap)\n",
    "    plt.title(title)\n",
    "    plt.colorbar()\n",
    "\n",
    "    if target_names is not None:\n",
    "        tick_marks = np.arange(len(target_names))\n",
    "        plt.xticks(tick_marks, target_names)\n",
    "        plt.yticks(tick_marks, target_names)\n",
    "\n",
    "    if normalize:\n",
    "        cm = cm.astype('float') / cm.sum(axis=1)[:, np.newaxis]\n",
    "\n",
    "    thresh = cm.max() / 1.5 if normalize else cm.max() / 2\n",
    "    for i, j in itertools.product(range(cm.shape[0]), range(cm.shape[1])):\n",
    "        if normalize:\n",
    "            plt.text(j, i, \"{:0.4f}\".format(cm[i, j]),\n",
    "                     horizontalalignment=\"center\",\n",
    "                     color=\"white\" if cm[i, j] > thresh else \"black\")\n",
    "        else:\n",
    "            plt.text(j, i, \"{:,}\".format(cm[i, j]),\n",
    "                     horizontalalignment=\"center\",\n",
    "                     color=\"white\" if cm[i, j] > thresh else \"black\")\n",
    "\n",
    "    plt.tight_layout()\n",
    "    plt.ylabel('True label')\n",
    "    plt.xlabel('Predicted label\\naccuracy={:0.2f}; misclass={:0.2f}'.format(accuracy, misclass))\n",
    "    plt.show()"
   ]
  },
  {
   "cell_type": "code",
   "execution_count": 102,
   "metadata": {
    "colab": {},
    "colab_type": "code",
    "id": "K2E6Msqxhfw4"
   },
   "outputs": [],
   "source": [
    "def model_selection(clf, x_train_all, y_train_all, x_train, y_train, x_test, y_test):\n",
    "    clf.fit(x_train,y_train)\n",
    "    score_all=cross_val_score(clf, x_train_all, y_train_all, cv=5)\n",
    "    avg_score=score_all.mean()\n",
    "    print(\"Accuracy Score for 5-fold Cross Validation: {}\".format(round(avg_score,2)))\n",
    "    y_test_pred=clf.predict(x_test)\n",
    "    cm = confusion_matrix(y_test, y_test_pred)\n",
    "    plot_confusion_matrix(cm, normalize = False, target_names = ['failed','success'],title = \"Confusion Matrix over Test Data\")"
   ]
  },
  {
   "cell_type": "markdown",
   "metadata": {
    "colab_type": "text",
    "id": "SSW4uWw_1PXk"
   },
   "source": [
    "#### 5.1 Split Data"
   ]
  },
  {
   "cell_type": "code",
   "execution_count": 103,
   "metadata": {
    "colab": {},
    "colab_type": "code",
    "id": "1edDJEkt9sbM"
   },
   "outputs": [],
   "source": [
    "# Split data into train and test set\n",
    "data = raw_data\n",
    "y = data['success']\n",
    "y = np.array(y).reshape(-1,1)\n",
    "x = data.drop('success',axis=1)\n",
    "# release_year and release_month has fixed range => Min-Max Normalization\n",
    "minmax = MinMaxScaler()\n",
    "x[['release_year','release_month']] = minmax.fit_transform(x[['release_year','release_month']])"
   ]
  },
  {
   "cell_type": "code",
   "execution_count": 104,
   "metadata": {
    "colab": {},
    "colab_type": "code",
    "id": "aJO7-M4x9seJ"
   },
   "outputs": [],
   "source": [
    "x_train_all, x_test, y_train_all, y_test = train_test_split(x,y,random_state=10, test_size=.25)\n",
    "x_train, x_valid, y_train, y_valid = train_test_split(x_train_all, y_train_all, random_state=11, test_size=0.25)"
   ]
  },
  {
   "cell_type": "code",
   "execution_count": 105,
   "metadata": {
    "colab": {
     "base_uri": "https://localhost:8080/",
     "height": 85
    },
    "colab_type": "code",
    "id": "QzOmMFD-9sgc",
    "outputId": "d7d26d98-68ca-41a2-ea6c-0fd8515cbc0c"
   },
   "outputs": [
    {
     "name": "stdout",
     "output_type": "stream",
     "text": [
      "x_train: (5486, 211); y_train: (5486, 1).\n",
      "x_train: (4114, 211); y_train: (4114, 1).\n",
      "x_valid: (1372, 211); y_valid: (1372, 1).\n",
      "x_test: (1829, 211); y_test: (1829, 1).\n"
     ]
    }
   ],
   "source": [
    "print('x_train: {}; y_train: {}.'.format(x_train_all.shape, y_train_all.shape))\n",
    "print('x_train: {}; y_train: {}.'.format(x_train.shape, y_train.shape))\n",
    "print('x_valid: {}; y_valid: {}.'.format(x_valid.shape, y_valid.shape))\n",
    "print('x_test: {}; y_test: {}.'.format(x_test.shape, y_test.shape))"
   ]
  },
  {
   "cell_type": "markdown",
   "metadata": {
    "colab_type": "text",
    "id": "qNZsCN_21S1M"
   },
   "source": [
    "#### 5.2 K-Nearest Neighbors"
   ]
  },
  {
   "cell_type": "code",
   "execution_count": 106,
   "metadata": {
    "colab": {
     "base_uri": "https://localhost:8080/",
     "height": 68
    },
    "colab_type": "code",
    "id": "YQsw2WZx1XX8",
    "outputId": "4476fcb5-6fe0-468e-dd37-009c3c815df5"
   },
   "outputs": [
    {
     "data": {
      "text/plain": [
       "KNeighborsClassifier(algorithm='auto', leaf_size=30, metric='minkowski',\n",
       "           metric_params=None, n_jobs=1, n_neighbors=25, p=2,\n",
       "           weights='uniform')"
      ]
     },
     "execution_count": 106,
     "metadata": {},
     "output_type": "execute_result"
    }
   ],
   "source": [
    "knn = KNeighborsClassifier(n_neighbors=25)\n",
    "knn.fit(x_train, y_train)"
   ]
  },
  {
   "cell_type": "code",
   "execution_count": 107,
   "metadata": {
    "colab": {
     "base_uri": "https://localhost:8080/",
     "height": 486
    },
    "colab_type": "code",
    "id": "srS2TRNEdbe_",
    "outputId": "b4281a02-d9fc-4848-9830-1373da2dc13c"
   },
   "outputs": [
    {
     "name": "stdout",
     "output_type": "stream",
     "text": [
      "Accuracy Score for 5-fold Cross Validation: 0.82\n"
     ]
    },
    {
     "data": {
      "image/png": "[encoded data removed]",
      "text/plain": [
       "<matplotlib.figure.Figure at 0x1a4b5d7ac8>"
      ]
     },
     "metadata": {},
     "output_type": "display_data"
    }
   ],
   "source": [
    "model_selection(knn, x_train_all, y_train_all, x_train, y_train, x_test, y_test)"
   ]
  },
  {
   "cell_type": "markdown",
   "metadata": {
    "colab_type": "text",
    "id": "zAd6PcsedOW8"
   },
   "source": [
    "#### 5.3 Decision Tree"
   ]
  },
  {
   "cell_type": "code",
   "execution_count": 108,
   "metadata": {
    "colab": {
     "base_uri": "https://localhost:8080/",
     "height": 119
    },
    "colab_type": "code",
    "id": "XT4R6P-X1XdS",
    "outputId": "09140435-7b08-451f-8d7c-00d13dc1a361"
   },
   "outputs": [
    {
     "data": {
      "text/plain": [
       "DecisionTreeClassifier(class_weight=None, criterion='entropy', max_depth=20,\n",
       "            max_features=None, max_leaf_nodes=None,\n",
       "            min_impurity_decrease=0.0, min_impurity_split=None,\n",
       "            min_samples_leaf=10, min_samples_split=2,\n",
       "            min_weight_fraction_leaf=0.0, presort=False, random_state=None,\n",
       "            splitter='best')"
      ]
     },
     "execution_count": 108,
     "metadata": {},
     "output_type": "execute_result"
    }
   ],
   "source": [
    "decision_tree = DecisionTreeClassifier(criterion='entropy',max_depth=20, min_samples_leaf=10)\n",
    "decision_tree.fit(x_train, y_train)"
   ]
  },
  {
   "cell_type": "code",
   "execution_count": 109,
   "metadata": {
    "colab": {
     "base_uri": "https://localhost:8080/",
     "height": 486
    },
    "colab_type": "code",
    "id": "ZQsQPXYd1Xf6",
    "outputId": "293551bd-3840-4c95-b0f0-3312285f84c6"
   },
   "outputs": [
    {
     "name": "stdout",
     "output_type": "stream",
     "text": [
      "Accuracy Score for 5-fold Cross Validation: 0.85\n"
     ]
    },
    {
     "data": {
      "image/png": "[encoded data removed]",
      "text/plain": [
       "<matplotlib.figure.Figure at 0x1a6f507cf8>"
      ]
     },
     "metadata": {},
     "output_type": "display_data"
    }
   ],
   "source": [
    "model_selection(decision_tree, x_train_all, y_train_all, x_train, y_train, x_test, y_test)"
   ]
  },
  {
   "cell_type": "markdown",
   "metadata": {
    "colab_type": "text",
    "id": "uIWVUplEPrC4"
   },
   "source": [
    "####  DNN"
   ]
  },
  {
   "cell_type": "code",
   "execution_count": 110,
   "metadata": {
    "colab": {},
    "colab_type": "code",
    "id": "UPa6pkM_Ptki"
   },
   "outputs": [
    {
     "name": "stdout",
     "output_type": "stream",
     "text": [
      "WARNING:tensorflow:From /anaconda3/lib/python3.6/site-packages/tensorflow/python/framework/op_def_library.py:263: colocate_with (from tensorflow.python.framework.ops) is deprecated and will be removed in a future version.\n",
      "Instructions for updating:\n",
      "Colocations handled automatically by placer.\n"
     ]
    }
   ],
   "source": [
    "dnn_model=Sequential([\n",
    "                  Dense(64, input_dim=x_train.shape[1],activation='relu'),\n",
    "                  Dense(32, activation='relu'),\n",
    "                  Dense(16, activation='sigmoid'),\n",
    "                  AlphaDropout(rate=0.5),\n",
    "                  Dense(1, activation='sigmoid')])"
   ]
  },
  {
   "cell_type": "code",
   "execution_count": 111,
   "metadata": {
    "colab": {
     "base_uri": "https://localhost:8080/",
     "height": 323
    },
    "colab_type": "code",
    "id": "XUTGSNrJXHfJ",
    "outputId": "eafa221e-d3a9-4a93-890d-4d86ea9e5a02"
   },
   "outputs": [
    {
     "name": "stdout",
     "output_type": "stream",
     "text": [
      "_________________________________________________________________\n",
      "Layer (type)                 Output Shape              Param #   \n",
      "=================================================================\n",
      "dense_1 (Dense)              (None, 64)                13568     \n",
      "_________________________________________________________________\n",
      "dense_2 (Dense)              (None, 32)                2080      \n",
      "_________________________________________________________________\n",
      "dense_3 (Dense)              (None, 16)                528       \n",
      "_________________________________________________________________\n",
      "alpha_dropout_1 (AlphaDropou (None, 16)                0         \n",
      "_________________________________________________________________\n",
      "dense_4 (Dense)              (None, 1)                 17        \n",
      "=================================================================\n",
      "Total params: 16,193\n",
      "Trainable params: 16,193\n",
      "Non-trainable params: 0\n",
      "_________________________________________________________________\n"
     ]
    }
   ],
   "source": [
    "dnn_model.summary()"
   ]
  },
  {
   "cell_type": "code",
   "execution_count": 112,
   "metadata": {
    "colab": {},
    "colab_type": "code",
    "id": "pCCwwFcFSFUt"
   },
   "outputs": [],
   "source": [
    "dnn_model.compile(optimizer='Adam', loss='binary_crossentropy',metrics=['accuracy'])"
   ]
  },
  {
   "cell_type": "code",
   "execution_count": 113,
   "metadata": {
    "colab": {
     "base_uri": "https://localhost:8080/",
     "height": 1000
    },
    "colab_type": "code",
    "id": "vWh-8deuPw2b",
    "outputId": "fa0f32ac-215a-4e40-da8b-470c2ba6c0ad"
   },
   "outputs": [
    {
     "name": "stdout",
     "output_type": "stream",
     "text": [
      "WARNING:tensorflow:From /anaconda3/lib/python3.6/site-packages/tensorflow/python/ops/math_ops.py:3066: to_int32 (from tensorflow.python.ops.math_ops) is deprecated and will be removed in a future version.\n",
      "Instructions for updating:\n",
      "Use tf.cast instead.\n",
      "Train on 4114 samples, validate on 1372 samples\n",
      "Epoch 1/50\n",
      "4114/4114 [==============================] - 1s 129us/step - loss: 0.8960 - acc: 0.4733 - val_loss: 0.7594 - val_acc: 0.2872\n",
      "Epoch 2/50\n",
      "4114/4114 [==============================] - 0s 10us/step - loss: 0.8651 - acc: 0.4971 - val_loss: 0.7386 - val_acc: 0.4125\n",
      "Epoch 3/50\n",
      "4114/4114 [==============================] - 0s 11us/step - loss: 0.8492 - acc: 0.5134 - val_loss: 0.7268 - val_acc: 0.7172\n",
      "Epoch 4/50\n",
      "4114/4114 [==============================] - 0s 10us/step - loss: 0.8106 - acc: 0.5425 - val_loss: 0.7482 - val_acc: 0.7172\n",
      "Epoch 5/50\n",
      "4114/4114 [==============================] - 0s 10us/step - loss: 0.7954 - acc: 0.5659 - val_loss: 0.6992 - val_acc: 0.7172\n",
      "Epoch 6/50\n",
      "4114/4114 [==============================] - 0s 11us/step - loss: 0.7661 - acc: 0.5807 - val_loss: 0.6874 - val_acc: 0.7172\n",
      "Epoch 7/50\n",
      "4114/4114 [==============================] - 0s 9us/step - loss: 0.7478 - acc: 0.5887 - val_loss: 0.6672 - val_acc: 0.7172\n",
      "Epoch 8/50\n",
      "4114/4114 [==============================] - 0s 9us/step - loss: 0.7217 - acc: 0.6087 - val_loss: 0.6567 - val_acc: 0.7172\n",
      "Epoch 9/50\n",
      "4114/4114 [==============================] - 0s 10us/step - loss: 0.7304 - acc: 0.6125 - val_loss: 0.6505 - val_acc: 0.7172\n",
      "Epoch 10/50\n",
      "4114/4114 [==============================] - 0s 10us/step - loss: 0.7066 - acc: 0.6096 - val_loss: 0.6466 - val_acc: 0.7172\n",
      "Epoch 11/50\n",
      "4114/4114 [==============================] - 0s 10us/step - loss: 0.7262 - acc: 0.6023 - val_loss: 0.6435 - val_acc: 0.7172\n",
      "Epoch 12/50\n",
      "4114/4114 [==============================] - 0s 11us/step - loss: 0.7038 - acc: 0.6121 - val_loss: 0.6416 - val_acc: 0.7172\n",
      "Epoch 13/50\n",
      "4114/4114 [==============================] - 0s 10us/step - loss: 0.7004 - acc: 0.6208 - val_loss: 0.6407 - val_acc: 0.7172\n",
      "Epoch 14/50\n",
      "4114/4114 [==============================] - 0s 11us/step - loss: 0.6910 - acc: 0.6315 - val_loss: 0.6399 - val_acc: 0.7172\n",
      "Epoch 15/50\n",
      "4114/4114 [==============================] - 0s 9us/step - loss: 0.6897 - acc: 0.6322 - val_loss: 0.6383 - val_acc: 0.7172\n",
      "Epoch 16/50\n",
      "4114/4114 [==============================] - 0s 11us/step - loss: 0.6877 - acc: 0.6279 - val_loss: 0.6367 - val_acc: 0.7172\n",
      "Epoch 17/50\n",
      "4114/4114 [==============================] - 0s 10us/step - loss: 0.6878 - acc: 0.6300 - val_loss: 0.6349 - val_acc: 0.7172\n",
      "Epoch 18/50\n",
      "4114/4114 [==============================] - 0s 11us/step - loss: 0.6941 - acc: 0.6237 - val_loss: 0.6334 - val_acc: 0.7172\n",
      "Epoch 19/50\n",
      "4114/4114 [==============================] - 0s 12us/step - loss: 0.6948 - acc: 0.6169 - val_loss: 0.6319 - val_acc: 0.7172\n",
      "Epoch 20/50\n",
      "4114/4114 [==============================] - 0s 10us/step - loss: 0.6805 - acc: 0.6283 - val_loss: 0.6301 - val_acc: 0.7172\n",
      "Epoch 21/50\n",
      "4114/4114 [==============================] - 0s 11us/step - loss: 0.6878 - acc: 0.6252 - val_loss: 0.6280 - val_acc: 0.7172\n",
      "Epoch 22/50\n",
      "4114/4114 [==============================] - 0s 9us/step - loss: 0.6739 - acc: 0.6303 - val_loss: 0.6260 - val_acc: 0.7172\n",
      "Epoch 23/50\n",
      "4114/4114 [==============================] - 0s 11us/step - loss: 0.6731 - acc: 0.6366 - val_loss: 0.6243 - val_acc: 0.7172\n",
      "Epoch 24/50\n",
      "4114/4114 [==============================] - 0s 10us/step - loss: 0.6675 - acc: 0.6327 - val_loss: 0.6231 - val_acc: 0.7172\n",
      "Epoch 25/50\n",
      "4114/4114 [==============================] - 0s 10us/step - loss: 0.6564 - acc: 0.6490 - val_loss: 0.6227 - val_acc: 0.7172\n",
      "Epoch 26/50\n",
      "4114/4114 [==============================] - 0s 10us/step - loss: 0.6654 - acc: 0.6361 - val_loss: 0.6218 - val_acc: 0.7172\n",
      "Epoch 27/50\n",
      "4114/4114 [==============================] - 0s 10us/step - loss: 0.6694 - acc: 0.6351 - val_loss: 0.6209 - val_acc: 0.7172\n",
      "Epoch 28/50\n",
      "4114/4114 [==============================] - 0s 9us/step - loss: 0.6720 - acc: 0.6317 - val_loss: 0.6192 - val_acc: 0.7172\n",
      "Epoch 29/50\n",
      "4114/4114 [==============================] - 0s 10us/step - loss: 0.6655 - acc: 0.6393 - val_loss: 0.6177 - val_acc: 0.7172\n",
      "Epoch 30/50\n",
      "4114/4114 [==============================] - 0s 10us/step - loss: 0.6673 - acc: 0.6376 - val_loss: 0.6163 - val_acc: 0.7172\n",
      "Epoch 31/50\n",
      "4114/4114 [==============================] - 0s 10us/step - loss: 0.6583 - acc: 0.6410 - val_loss: 0.6145 - val_acc: 0.7172\n",
      "Epoch 32/50\n",
      "4114/4114 [==============================] - 0s 10us/step - loss: 0.6544 - acc: 0.6488 - val_loss: 0.6130 - val_acc: 0.7172\n",
      "Epoch 33/50\n",
      "4114/4114 [==============================] - 0s 11us/step - loss: 0.6535 - acc: 0.6480 - val_loss: 0.6123 - val_acc: 0.7172\n",
      "Epoch 34/50\n",
      "4114/4114 [==============================] - 0s 10us/step - loss: 0.6517 - acc: 0.6561 - val_loss: 0.6122 - val_acc: 0.7172\n",
      "Epoch 35/50\n",
      "4114/4114 [==============================] - 0s 10us/step - loss: 0.6496 - acc: 0.6512 - val_loss: 0.6118 - val_acc: 0.7172\n",
      "Epoch 36/50\n",
      "4114/4114 [==============================] - 0s 10us/step - loss: 0.6407 - acc: 0.6575 - val_loss: 0.6110 - val_acc: 0.7172\n",
      "Epoch 37/50\n",
      "4114/4114 [==============================] - 0s 11us/step - loss: 0.6492 - acc: 0.6519 - val_loss: 0.6107 - val_acc: 0.7172\n",
      "Epoch 38/50\n",
      "4114/4114 [==============================] - 0s 10us/step - loss: 0.6512 - acc: 0.6500 - val_loss: 0.6104 - val_acc: 0.7172\n",
      "Epoch 39/50\n",
      "4114/4114 [==============================] - 0s 10us/step - loss: 0.6562 - acc: 0.6514 - val_loss: 0.6088 - val_acc: 0.7172\n",
      "Epoch 40/50\n",
      "4114/4114 [==============================] - 0s 9us/step - loss: 0.6472 - acc: 0.6697 - val_loss: 0.6077 - val_acc: 0.7172\n",
      "Epoch 41/50\n",
      "4114/4114 [==============================] - 0s 10us/step - loss: 0.6363 - acc: 0.6604 - val_loss: 0.6069 - val_acc: 0.7172\n",
      "Epoch 42/50\n",
      "4114/4114 [==============================] - 0s 10us/step - loss: 0.6402 - acc: 0.6531 - val_loss: 0.6062 - val_acc: 0.7172\n",
      "Epoch 43/50\n",
      "4114/4114 [==============================] - 0s 10us/step - loss: 0.6352 - acc: 0.6689 - val_loss: 0.6056 - val_acc: 0.7172\n",
      "Epoch 44/50\n",
      "4114/4114 [==============================] - 0s 10us/step - loss: 0.6350 - acc: 0.6667 - val_loss: 0.6047 - val_acc: 0.7172\n",
      "Epoch 45/50\n",
      "4114/4114 [==============================] - 0s 11us/step - loss: 0.6279 - acc: 0.6711 - val_loss: 0.6041 - val_acc: 0.7172\n",
      "Epoch 46/50\n",
      "4114/4114 [==============================] - 0s 10us/step - loss: 0.6395 - acc: 0.6680 - val_loss: 0.6038 - val_acc: 0.7172\n",
      "Epoch 47/50\n",
      "4114/4114 [==============================] - 0s 10us/step - loss: 0.6270 - acc: 0.6672 - val_loss: 0.6040 - val_acc: 0.7172\n",
      "Epoch 48/50\n",
      "4114/4114 [==============================] - 0s 11us/step - loss: 0.6289 - acc: 0.6753 - val_loss: 0.6040 - val_acc: 0.7172\n",
      "Epoch 49/50\n",
      "4114/4114 [==============================] - 0s 10us/step - loss: 0.6282 - acc: 0.6733 - val_loss: 0.6039 - val_acc: 0.7172\n",
      "Epoch 50/50\n",
      "4114/4114 [==============================] - 0s 9us/step - loss: 0.6281 - acc: 0.6782 - val_loss: 0.6037 - val_acc: 0.7172\n"
     ]
    },
    {
     "data": {
      "text/plain": [
       "<keras.callbacks.History at 0x1a38f0e860>"
      ]
     },
     "execution_count": 113,
     "metadata": {},
     "output_type": "execute_result"
    }
   ],
   "source": [
    "# callbacks = [keras.callbacks.EarlyStopping(patience=5, min_delta=1e-3)]\n",
    "dnn_model.fit(x_train, y_train, batch_size=512, epochs=50, validation_data=(x_valid,y_valid))"
   ]
  },
  {
   "cell_type": "code",
   "execution_count": 114,
   "metadata": {
    "colab": {
     "base_uri": "https://localhost:8080/",
     "height": 34
    },
    "colab_type": "code",
    "id": "Wyh7__gsW-Rp",
    "outputId": "b4d40036-c394-45ba-d0dd-61d366a1600b"
   },
   "outputs": [
    {
     "data": {
      "text/plain": [
       "0.7288135593220338"
      ]
     },
     "execution_count": 114,
     "metadata": {},
     "output_type": "execute_result"
    }
   ],
   "source": [
    "y_pred = dnn_model.predict_classes(x_test)\n",
    "accuracy_score(y_test,y_pred)"
   ]
  },
  {
   "cell_type": "code",
   "execution_count": 115,
   "metadata": {
    "colab": {
     "base_uri": "https://localhost:8080/",
     "height": 51
    },
    "colab_type": "code",
    "id": "Q4QsildPXpVj",
    "outputId": "21e01f88-5bce-4aee-b96f-811af3d5e0ba"
   },
   "outputs": [
    {
     "name": "stdout",
     "output_type": "stream",
     "text": [
      "1829/1829 [==============================] - 0s 18us/step\n"
     ]
    },
    {
     "data": {
      "text/plain": [
       "[0.5895723306526572, 0.7288135593546226]"
      ]
     },
     "execution_count": 115,
     "metadata": {},
     "output_type": "execute_result"
    }
   ],
   "source": [
    "dnn_model.evaluate(x_test, y_test, verbose=1)"
   ]
  },
  {
   "cell_type": "code",
   "execution_count": null,
   "metadata": {},
   "outputs": [],
   "source": []
  }
 ],
 "metadata": {
  "colab": {
   "collapsed_sections": [],
   "name": "Project-20200414.ipynb",
   "provenance": []
  },
  "kernelspec": {
   "display_name": "Python 3",
   "language": "python",
   "name": "python3"
  },
  "language_info": {
   "codemirror_mode": {
    "name": "ipython",
    "version": 3
   },
   "file_extension": ".py",
   "mimetype": "text/x-python",
   "name": "python",
   "nbconvert_exporter": "python",
   "pygments_lexer": "ipython3",
   "version": "3.6.4"
  }
 },
 "nbformat": 4,
 "nbformat_minor": 1
}
